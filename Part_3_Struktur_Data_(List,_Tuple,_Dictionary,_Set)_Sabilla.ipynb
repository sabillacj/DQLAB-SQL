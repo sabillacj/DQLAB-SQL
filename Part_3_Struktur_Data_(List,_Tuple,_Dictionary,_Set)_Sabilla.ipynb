{
  "cells": [
    {
      "cell_type": "markdown",
      "metadata": {
        "id": "GgjwWAS2eFI1"
      },
      "source": [
        "# STRUKTUR DATA: `List, Tuple, Set, & Dictionary`"
      ]
    },
    {
      "cell_type": "markdown",
      "metadata": {
        "id": "jLgx8o0UpJZ9"
      },
      "source": [
        "## `List`\n",
        "> `List` adalah sebuah objek kelas dalam Python yang berupa sebuah koleksi/kontainer berisi objek bertipe rangkaian (*sequence*), sehingga seringkali dirujuk sebagai *containers* atau *collections*.\n",
        "\n",
        "`List`, yang merupakan sebuah objek kelas fundamental, memiliki seperangkat fitur yang memungkinkan pengelolaan sekaligus manipulasi beragam tipe data secara efisien. Sebuah `list` akan memiliki beberapa karakteristik sebagai berikut:\n",
        "1. ***Ordered***: Urutan setiap elemen pada sebuah list akan sesuai dengan urutan penginputan masing-masing elemen;\n",
        "2. ***Zero-based***: Indeks posisional dari setiap elemen pada sebuah `list` akan dimulai dari indeks 0;\n",
        "3. ***Mutable***: Memungkinkan untuk melakukan perubahan (*mutations*) terhadap elemen yang ada didalamnya;\n",
        "4. ***Heterogeneous***: Dapat memuat objek dengan tipe yang bermacam-macam (`int`, `float`, `str`, `list`, `tuple`, `dictionary`, `set`, & bahkan `function`);\n",
        "5. ***Growable & Dynamic***: Memungkinkan untuk melakukan penambahan, penginputan, dan penghapusan elemen;\n",
        "6. ***Nestable***: Dapat memuat `list` lain di dalamnya;\n",
        "7. ***Iterable***: Memungkinkan untuk dilakukan iterasi terhadap setiap elemen di dalamnya dengan menggunakan `loop` atau `list comprehension`;\n",
        "8. ***Sliceable***: Memungkinkan untuk melakukan operasi *slicing* untuk mengakses elemennya;\n",
        "9. ***Combinable***: Memungkinkan untuk melakukan proses *concatenation* terhadap satu `list` dengan `list` lain;\n",
        "10. ***copyable***: Memungkinkan untuk membuat duplikat dari `list` ke dalam sebuah `list` yang lain."
      ]
    },
    {
      "cell_type": "markdown",
      "metadata": {
        "id": "ZZAawgepzHOn"
      },
      "source": [
        "### `List` Construction\n",
        "Terdapat tiga cara untuk membangun sebuah `list`:\n",
        "1. Menggunakan `list literals`:\n",
        "```python\n",
        "nama_list = [] # Membuat list kosong\n",
        "nama_list = [elemen_1, elemen_2, ..., elemen_n]\n",
        "```\n",
        "2. Menggunakan `type constructor`:\n",
        "```python\n",
        "nama_list = list() # Membuat list kosong\n",
        "nama_list = list(iterable)\n",
        "```\n",
        "3. Menggunakan `list comprehension`:\n",
        "```python\n",
        "nama_list = [expression(item) for item in iterable if conditional]\n",
        "```"
      ]
    },
    {
      "cell_type": "code",
      "execution_count": 4,
      "metadata": {
        "id": "mgBwIe3LL6Wu",
        "colab": {
          "base_uri": "https://localhost:8080/"
        },
        "outputId": "0d949de5-6bc1-4110-aa2e-712313965d1e"
      },
      "outputs": [
        {
          "output_type": "stream",
          "name": "stdout",
          "text": [
            "['Amir', 'Budi', 'Cinta', 'Dimas', 'Edi']\n"
          ]
        }
      ],
      "source": [
        "# Membuat sebuah list berisi nama-nama teman menggunakan list literals\n",
        "\n",
        "nama_teman = ['Amir', 'Budi', 'Cinta', 'Dimas', 'Edi']\n",
        "print(nama_teman)"
      ]
    },
    {
      "cell_type": "code",
      "execution_count": 5,
      "metadata": {
        "id": "sqhcRBe51s3R",
        "colab": {
          "base_uri": "https://localhost:8080/"
        },
        "outputId": "be6dbdfd-cd46-47af-f053-1dac53171361"
      },
      "outputs": [
        {
          "output_type": "stream",
          "name": "stdout",
          "text": [
            "[0, 1, 2, 3, 4, 5, 6, 7, 8, 9]\n"
          ]
        }
      ],
      "source": [
        "# Membuat sebuah list berisi angka 0-9 dengan menggunakan list() constructors\n",
        "\n",
        "angka = list(range(0, 10, 1))\n",
        "print(angka)"
      ]
    },
    {
      "cell_type": "code",
      "execution_count": 6,
      "metadata": {
        "id": "hB3zThcOgl_T",
        "colab": {
          "base_uri": "https://localhost:8080/"
        },
        "outputId": "6a3fdc59-11f3-43f0-eb04-0d61f1533e3a"
      },
      "outputs": [
        {
          "output_type": "stream",
          "name": "stdout",
          "text": [
            "[1, 3, 5, 7, 9]\n"
          ]
        }
      ],
      "source": [
        "# Membuat sebuah list berisi angka ganjil dari list angka menggunakan list comprehension\n",
        "\n",
        "angka_ganjil = [num for num in angka if num % 2 == 1]\n",
        "print(angka_ganjil)"
      ]
    },
    {
      "cell_type": "code",
      "source": [
        "# Cara lain untuk membuat list berisi angka ganjil dengan menggunakan list comprehension???\n",
        "angka_ganjil_lain = [angka[x] for x in range(1, len(angka), 2)]\n",
        "print(angka_ganjil_lain)"
      ],
      "metadata": {
        "id": "4DwI-e8aAiiZ",
        "colab": {
          "base_uri": "https://localhost:8080/"
        },
        "outputId": "c611bb0f-617a-4f44-cf8a-d6086c4597c0"
      },
      "execution_count": 7,
      "outputs": [
        {
          "output_type": "stream",
          "name": "stdout",
          "text": [
            "[1, 3, 5, 7, 9]\n"
          ]
        }
      ]
    },
    {
      "cell_type": "code",
      "source": [
        "# CHALLENGE: Ada cara lain untuk menyusun list berisi angka ganjil pada range 0-10 secara lebih sederhana??\n",
        "# HINT: lakukan slicing dengan step\n",
        "angka[1::2]"
      ],
      "metadata": {
        "id": "AJH_yW_Chh68",
        "colab": {
          "base_uri": "https://localhost:8080/"
        },
        "outputId": "763e2e39-beec-41d5-f91f-abde447740b8"
      },
      "execution_count": 8,
      "outputs": [
        {
          "output_type": "execute_result",
          "data": {
            "text/plain": [
              "[1, 3, 5, 7, 9]"
            ]
          },
          "metadata": {},
          "execution_count": 8
        }
      ]
    },
    {
      "cell_type": "markdown",
      "metadata": {
        "id": "JY-m2EiJ3cZQ"
      },
      "source": [
        "### Accessing elements of a `list`\n",
        "Beberapa operasi yang digunakan untuk mengakses elemen pada sebuah list antara lain:\n",
        "1. `indexing`, menghasilkan sebuah data yang merupakan elemen dari sebuah `list`. Sebagai ilustrasi, di bawah berikut dapat diamati cara untuk menampilkan angka 5 yang merupakan sebuah elemen pada `angka` yang kita buat pada exercise sebelumnya.\n",
        "```python\n",
        "angka[5] # dituliskan nomor index dari elemen 5\n",
        "# Output = 5\n",
        "```\n",
        "2. `slicing`, menghasilkan sebuah `list` berisi sebuah atau beberapa elemen dari sebuah `list` lainnya. Sebagai ilustrasi, di bawah berikut dapat diamati cara mengambil angka 1, 2, 3 yang merupakan elemen pada `angka`.\n",
        "```python\n",
        "angka[1:4:1] # dituliskan index awal, index akhir+1, dan step\n",
        "# Output = [1, 2, 3]\n",
        "```"
      ]
    },
    {
      "cell_type": "code",
      "execution_count": 12,
      "metadata": {
        "id": "KyWiAJmoUHit",
        "colab": {
          "base_uri": "https://localhost:8080/"
        },
        "outputId": "45e59bcd-2285-4d47-8a15-cbc218025973"
      },
      "outputs": [
        {
          "output_type": "stream",
          "name": "stdout",
          "text": [
            "Nama pertama pada list adalah: Amir.\n",
            "Nama ke-2 pada list adalah: Budi.\n",
            "Nama terakhir pada list adalah: Edi.\n"
          ]
        }
      ],
      "source": [
        "# Memanggil elemen list menggunakan indexing\n",
        "\n",
        "print(\"Nama pertama pada list adalah: %s.\" % nama_teman[0])      # Mengakses elemen pertama pada list nama_teman\n",
        "print(\"Nama ke-%d pada list adalah: %s.\" % (1+1, nama_teman[1])) # Mengakses elemen kedua pada list nama_teman\n",
        "print(\"Nama terakhir pada list adalah: %s.\" % nama_teman[-1])    # Mengakses elemen paling akhir pada list nama_teman"
      ]
    },
    {
      "cell_type": "code",
      "execution_count": 13,
      "metadata": {
        "id": "0puQZOoG4HUQ",
        "colab": {
          "base_uri": "https://localhost:8080/"
        },
        "outputId": "68a4f456-c3f5-459b-92d9-78be5bfd6c28"
      },
      "outputs": [
        {
          "output_type": "stream",
          "name": "stdout",
          "text": [
            "['Amir', 'Budi']\n",
            "['Amir', 'Cinta', 'Edi']\n",
            "['Edi', 'Dimas', 'Cinta', 'Budi', 'Amir']\n"
          ]
        }
      ],
      "source": [
        "# Memanggil elemen list menggunakan slicing\n",
        "\n",
        "print(nama_teman[:2])   # Mengakses elemen pada nama_teman, dari elemen indeks 0 hingga elemen indeks 1\n",
        "print(nama_teman[::2])  # Mengakses seluruh elemen pada nama_teman yang bernomor indeks genap\n",
        "print(nama_teman[::-1]) # Mengakses seluruh elemen pada nama_teman, dari urutan paling akhir hingga ke awal"
      ]
    },
    {
      "cell_type": "code",
      "source": [
        "# CHALLENGE: Bagaimana cara slicing agar dapat menampilkan elemen ['Edi', 'Cinta'] dari nama_teman??\n",
        "print(nama_teman[-1:-4:-2])"
      ],
      "metadata": {
        "id": "7lwvjd5CnrOd",
        "colab": {
          "base_uri": "https://localhost:8080/"
        },
        "outputId": "345ef598-3ea2-4b2f-bf59-def9d721a05f"
      },
      "execution_count": 14,
      "outputs": [
        {
          "output_type": "stream",
          "name": "stdout",
          "text": [
            "['Edi', 'Cinta']\n"
          ]
        }
      ]
    },
    {
      "cell_type": "markdown",
      "metadata": {
        "id": "JZ705wgCIqn4"
      },
      "source": [
        "### Membuat copy dari sebuah `list`\n",
        "Operasi yang jarang dilakukan, akan tetapi, terkadang membuat duplikat dari sebuah `list` merupakan sebuah *good practice*, jika kita hendak melakukan pengolahan terhadap elemen dari `list` tersebut. Hal ini untuk memastikan bahwa data orijinal tidak mengalami perubahan, sehingga pada saat terjadi kesalahan dalam proses pengolahan, kita dapat melakukan *trace back* ke kondisi sebelumnya.\n",
        "\n",
        "Untuk membuat copy dari sebuah `list` kita dapat menggunakan method `copy` seperti dicontohkan berikut di bawah ini:\n",
        "```python\n",
        "# Membuat sebuah copy dari nama_teman\n",
        "nama_teman_copy = nama_teman.copy()\n",
        "```"
      ]
    },
    {
      "cell_type": "code",
      "execution_count": 15,
      "metadata": {
        "id": "vN7_O9egpw5e",
        "colab": {
          "base_uri": "https://localhost:8080/"
        },
        "outputId": "a2be70ff-b88d-44ec-db3b-193841ca05f7"
      },
      "outputs": [
        {
          "output_type": "stream",
          "name": "stdout",
          "text": [
            "[1, 3, 5, 7, 9]\n",
            "['Amir', 'Budi', 'Cinta', 'Dimas', 'Edi']\n"
          ]
        }
      ],
      "source": [
        "# Membuat duplikat list angka ganjil\n",
        "angka_ganjil_copy = angka_ganjil.copy()\n",
        "print(angka_ganjil_copy)\n",
        "\n",
        "# Membuat duplikat nama_teman\n",
        "nama_teman_baru = nama_teman.copy()\n",
        "print(nama_teman_baru)"
      ]
    },
    {
      "cell_type": "code",
      "source": [
        "# CHALLENGE: Lakukan operasi pembagian terhadap elemen index 2 pada angka_ganjil_copy dengan angka 4!!\n",
        "angka_ganjil_copy[2] = angka_ganjil_copy[2]/4\n",
        "\n",
        "# Cek hasil\n",
        "print(\"List orijinal:\", angka_ganjil)\n",
        "print(\"List olahan:\", angka_ganjil_copy)"
      ],
      "metadata": {
        "id": "7GmB6U6zrhcy",
        "colab": {
          "base_uri": "https://localhost:8080/"
        },
        "outputId": "627f1d6a-7748-424e-b4a5-e2c40cef2f59"
      },
      "execution_count": 16,
      "outputs": [
        {
          "output_type": "stream",
          "name": "stdout",
          "text": [
            "List orijinal: [1, 3, 5, 7, 9]\n",
            "List olahan: [1, 3, 1.25, 7, 9]\n"
          ]
        }
      ]
    },
    {
      "cell_type": "markdown",
      "metadata": {
        "id": "JDEkiWu_DmS_"
      },
      "source": [
        "### [***Common Sequence Operations***](https://docs.python.org/3/library/stdtypes.html#common-sequence-operations)\n",
        "*Common Sequence Operations* adalah berbagai fungsi, methods dan operasi yang dapat dikenakan terhadap data bertipe sequence, antara lain:\n",
        "1. Fungsi `len()`;\n",
        "2. Method `count()`;\n",
        "3. Method `index()`;\n",
        "4. Method `sort()`;\n",
        "5. Method `reverse()`;\n",
        "6. Operasi Concatenate `list_1 + list_2`;\n",
        "7. Operasi Repetition `2 * list_1`;\n",
        "8. Fungsi `max()`; dan\n",
        "9. Fungsi `min()`;\n",
        "10. Operasi `in`;\n",
        "11. Operasi `not in`."
      ]
    },
    {
      "cell_type": "code",
      "execution_count": 17,
      "metadata": {
        "id": "M3C5VDzGjvIB",
        "colab": {
          "base_uri": "https://localhost:8080/"
        },
        "outputId": "652889c1-8365-4cd6-b3a3-4c74a31d5299"
      },
      "outputs": [
        {
          "output_type": "stream",
          "name": "stdout",
          "text": [
            "Jumlah elemen pada list nama_teman = 5\n",
            "Jumlah elemen pada list nama_teman_baru = 5\n"
          ]
        }
      ],
      "source": [
        "# Menampilkan jumlah elemen pada sebuah list\n",
        "\n",
        "print(f\"Jumlah elemen pada list nama_teman = {len(nama_teman)}\")\n",
        "print(f\"Jumlah elemen pada list nama_teman_baru = {len(nama_teman_baru)}\")"
      ]
    },
    {
      "cell_type": "code",
      "execution_count": 18,
      "metadata": {
        "id": "tc6DZ73OkGla",
        "colab": {
          "base_uri": "https://localhost:8080/"
        },
        "outputId": "7e392ed4-622f-49f2-9064-84dcff6229de"
      },
      "outputs": [
        {
          "output_type": "execute_result",
          "data": {
            "text/plain": [
              "0"
            ]
          },
          "metadata": {},
          "execution_count": 18
        }
      ],
      "source": [
        "# Menghitung banyaknya kemunculan sebuah elemen\n",
        "\n",
        "nama_teman.count('Beni')"
      ]
    },
    {
      "cell_type": "code",
      "execution_count": 19,
      "metadata": {
        "id": "gC9tnRsJkbh9",
        "colab": {
          "base_uri": "https://localhost:8080/"
        },
        "outputId": "ad3b0062-a513-43ca-e866-7dbc410bab34"
      },
      "outputs": [
        {
          "output_type": "execute_result",
          "data": {
            "text/plain": [
              "3"
            ]
          },
          "metadata": {},
          "execution_count": 19
        }
      ],
      "source": [
        "# Menampilkan index dari elemen tertentu\n",
        "# jika elemen memiliki duplikat maka index yang ditampilkan adalah index terkecil\n",
        "\n",
        "nama_teman.index('Dimas')"
      ]
    },
    {
      "cell_type": "code",
      "execution_count": 20,
      "metadata": {
        "id": "9AjnYrC8nWRe",
        "colab": {
          "base_uri": "https://localhost:8080/"
        },
        "outputId": "b3074e0f-a848-40ad-8ab5-e5463537db7a"
      },
      "outputs": [
        {
          "output_type": "stream",
          "name": "stdout",
          "text": [
            "List diurut secara Ascending: ['Amir', 'Budi', 'Cinta', 'Dimas', 'Edi']\n",
            "List diurut secara Descending: ['Edi', 'Dimas', 'Cinta', 'Budi', 'Amir']\n"
          ]
        }
      ],
      "source": [
        "# Mengurutkan elemen pada list menggunakan method sort()\n",
        "# Method sort() akan melakukan perubahan secara 'inplace'\n",
        "\n",
        "# Ascending sorting\n",
        "nama_teman.sort()\n",
        "print(f'List diurut secara Ascending: {nama_teman}')\n",
        "\n",
        "# Descending sorting\n",
        "nama_teman.sort(reverse=True)\n",
        "print(f'List diurut secara Descending: {nama_teman}')"
      ]
    },
    {
      "cell_type": "code",
      "execution_count": 21,
      "metadata": {
        "id": "vyVqUO5vnwyU",
        "colab": {
          "base_uri": "https://localhost:8080/"
        },
        "outputId": "278aeb23-b95c-430c-c319-5b69b2b25467"
      },
      "outputs": [
        {
          "output_type": "stream",
          "name": "stdout",
          "text": [
            "['Amir', 'Budi', 'Cinta', 'Dimas', 'Edi']\n"
          ]
        }
      ],
      "source": [
        "# Membalikkan posisi elemen pada list dari belakang ke depan: BUKAN MENGURUTKAN!!!\n",
        "# Method reverse() akan melakukan perubahan secara 'inplace'\n",
        "\n",
        "nama_teman.reverse()\n",
        "print(nama_teman)"
      ]
    },
    {
      "cell_type": "code",
      "execution_count": 22,
      "metadata": {
        "id": "KtxA7uHmPh51",
        "colab": {
          "base_uri": "https://localhost:8080/"
        },
        "outputId": "95104a41-071c-43e4-ec2a-cc9a171582ff"
      },
      "outputs": [
        {
          "output_type": "stream",
          "name": "stdout",
          "text": [
            "Hasil concatenation nama_teman dan angka: ['Amir', 'Budi', 'Cinta', 'Dimas', 'Edi', 0, 1, 2, 3, 4, 5, 6, 7, 8, 9]\n"
          ]
        }
      ],
      "source": [
        "# Concatenation, menggabungkan list dengan list lain\n",
        "\n",
        "print(f\"Hasil concatenation nama_teman dan angka: {nama_teman+angka}\")"
      ]
    },
    {
      "cell_type": "code",
      "execution_count": 23,
      "metadata": {
        "id": "6BtyqEERPzm0",
        "colab": {
          "base_uri": "https://localhost:8080/"
        },
        "outputId": "101eb7ce-85ca-4d54-95b4-61ea7eebdd64"
      },
      "outputs": [
        {
          "output_type": "stream",
          "name": "stdout",
          "text": [
            "['Amir', 'Budi', 'Cinta', 'Dimas', 'Edi', 'Amir', 'Budi', 'Cinta', 'Dimas', 'Edi']\n",
            "[0, 1, 2, 3, 4, 5, 6, 7, 8, 9, 0, 1, 2, 3, 4, 5, 6, 7, 8, 9]\n"
          ]
        }
      ],
      "source": [
        "# Repetition, mengulang list\n",
        "\n",
        "print(2 * nama_teman)\n",
        "print(2 * angka)"
      ]
    },
    {
      "cell_type": "code",
      "execution_count": 24,
      "metadata": {
        "id": "EeqE2FsxL2A4",
        "colab": {
          "base_uri": "https://localhost:8080/",
          "height": 36
        },
        "outputId": "67d62682-e4e7-43f1-89d9-736fc59de8f8"
      },
      "outputs": [
        {
          "output_type": "execute_result",
          "data": {
            "text/plain": [
              "'Edi'"
            ],
            "application/vnd.google.colaboratory.intrinsic+json": {
              "type": "string"
            }
          },
          "metadata": {},
          "execution_count": 24
        }
      ],
      "source": [
        "# Mencari elemen dengan value paling besar\n",
        "\n",
        "max(nama_teman)"
      ]
    },
    {
      "cell_type": "code",
      "execution_count": 25,
      "metadata": {
        "id": "MhhI1R_YMJpB",
        "colab": {
          "base_uri": "https://localhost:8080/",
          "height": 36
        },
        "outputId": "55b23ac4-e395-423e-e338-972ae6a01145"
      },
      "outputs": [
        {
          "output_type": "execute_result",
          "data": {
            "text/plain": [
              "'Amir'"
            ],
            "application/vnd.google.colaboratory.intrinsic+json": {
              "type": "string"
            }
          },
          "metadata": {},
          "execution_count": 25
        }
      ],
      "source": [
        "# Mencari elemen dengan value paling kecil\n",
        "\n",
        "min(nama_teman)"
      ]
    },
    {
      "cell_type": "markdown",
      "metadata": {
        "id": "BPXNKi4lMUV1"
      },
      "source": [
        "**GOTCHA!!**<br>\n",
        "'Edi' dan 'Amir' bukan data bertipe numeric, mengapa bisa dicari max dan min???"
      ]
    },
    {
      "cell_type": "code",
      "execution_count": 26,
      "metadata": {
        "id": "LbWth0_lJ8gB",
        "colab": {
          "base_uri": "https://localhost:8080/"
        },
        "outputId": "88c4a9d4-f1cc-42da-c31d-5af006a3cf38"
      },
      "outputs": [
        {
          "output_type": "execute_result",
          "data": {
            "text/plain": [
              "False"
            ]
          },
          "metadata": {},
          "execution_count": 26
        }
      ],
      "source": [
        "# Melakukan pengecekan keberadaan 'Rhoma' pada list nama_teman\n",
        "\n",
        "'Rhoma' in nama_teman"
      ]
    },
    {
      "cell_type": "code",
      "execution_count": 27,
      "metadata": {
        "id": "SEgGk5XkKIdU",
        "colab": {
          "base_uri": "https://localhost:8080/"
        },
        "outputId": "6c092953-7bdf-4ea1-a623-aaf45d0e6c87"
      },
      "outputs": [
        {
          "output_type": "execute_result",
          "data": {
            "text/plain": [
              "True"
            ]
          },
          "metadata": {},
          "execution_count": 27
        }
      ],
      "source": [
        "# Melakukan pengecekan ketidak-adaan 'Rhoma' pada list nama_teman\n",
        "\n",
        "'Rhoma' not in nama_teman"
      ]
    },
    {
      "cell_type": "markdown",
      "metadata": {
        "id": "XLxgVGTX9TSy"
      },
      "source": [
        "### Growing & shrinking `list`\n",
        "Beberapa methods yang dapat mengubah ukuran dari sebuah `list`:\n",
        "1. Menambah elemen baru pada akhir sebuah list:\n",
        "```python\n",
        "nama_list.append(elemen_baru)\n",
        "```\n",
        "2. Menyisipkan elemen baru pada posisi tertentu:\n",
        "```python\n",
        "nama_list.insert(index_posisi, elemen_baru)\n",
        "```\n",
        "3. Menghapus elemen pada posisi index tertentu:\n",
        "```python\n",
        "nama_list.pop(indeks)\n",
        "```\n",
        "4. Menghapus elemen tertentu dari `list`:\n",
        "```python\n",
        "nama_list.remove(elemen)\n",
        "```\n",
        "5. Mengosongkan seluruh elemen dari `list:\n",
        "```python\n",
        "nama_list.clear()\n",
        "```"
      ]
    },
    {
      "cell_type": "code",
      "execution_count": 28,
      "metadata": {
        "id": "Bhut-OTQhHAT",
        "colab": {
          "base_uri": "https://localhost:8080/"
        },
        "outputId": "ef2bc607-2607-422d-a9c0-d1b53ea45ccf"
      },
      "outputs": [
        {
          "output_type": "stream",
          "name": "stdout",
          "text": [
            "['Amir', 'Budi', 'Cinta', 'Dimas', 'Edi', 'Ferdi']\n"
          ]
        }
      ],
      "source": [
        "# Menambahkan elemen baru di akhir list\n",
        "\n",
        "nama_teman_baru.append('Ferdi')\n",
        "print(nama_teman_baru)"
      ]
    },
    {
      "cell_type": "code",
      "execution_count": 29,
      "metadata": {
        "id": "VAvBlTqGk6iT",
        "colab": {
          "base_uri": "https://localhost:8080/"
        },
        "outputId": "ce54f701-73f8-4d78-eb60-ba49a13d3b45"
      },
      "outputs": [
        {
          "output_type": "stream",
          "name": "stdout",
          "text": [
            "['Amir', 'Budi', 'Canda', 'Cinta', 'Dimas', 'Edi', 'Ferdi']\n"
          ]
        }
      ],
      "source": [
        "# Menyisipkan elemen baru pada indeks posisi tertentu\n",
        "\n",
        "nama_teman_baru.insert(2, 'Canda')\n",
        "print(nama_teman_baru)"
      ]
    },
    {
      "cell_type": "code",
      "execution_count": 30,
      "metadata": {
        "id": "wBUDNtMHmKOK",
        "colab": {
          "base_uri": "https://localhost:8080/"
        },
        "outputId": "9f9d6552-3cdb-41fa-b744-8aa6b22bc2aa"
      },
      "outputs": [
        {
          "output_type": "stream",
          "name": "stdout",
          "text": [
            "['Amir', 'Budi', 'Cinta', 'Dimas', 'Edi', 'Ferdi']\n"
          ]
        }
      ],
      "source": [
        "# Menghapus elemen pada index posisional tertentu\n",
        "\n",
        "nama_teman_baru.pop(2)\n",
        "print(nama_teman_baru)"
      ]
    },
    {
      "cell_type": "code",
      "execution_count": 31,
      "metadata": {
        "id": "7rtOiNMJmzqe",
        "colab": {
          "base_uri": "https://localhost:8080/"
        },
        "outputId": "b13e394c-bf8b-4b7c-9bed-aa76b3f60ee5"
      },
      "outputs": [
        {
          "output_type": "stream",
          "name": "stdout",
          "text": [
            "['Amir', 'Budi', 'Dimas', 'Edi', 'Ferdi']\n"
          ]
        }
      ],
      "source": [
        "# Menghapus elemen tertentu\n",
        "# Jika terdapat elemen yang terduplikat maka yang dihapus adalah value yang muncul pertama kali\n",
        "\n",
        "nama_teman_baru.remove('Cinta')\n",
        "print(nama_teman_baru)"
      ]
    },
    {
      "cell_type": "code",
      "execution_count": 32,
      "metadata": {
        "id": "BmZ1HqighMV1",
        "colab": {
          "base_uri": "https://localhost:8080/"
        },
        "outputId": "9798aa1f-833a-461d-b0b9-df00bc4e63a0"
      },
      "outputs": [
        {
          "output_type": "stream",
          "name": "stdout",
          "text": [
            "[]\n"
          ]
        }
      ],
      "source": [
        "# Mengosongkan nama_teman\n",
        "\n",
        "nama_teman_baru.clear()\n",
        "print(nama_teman_baru)"
      ]
    },
    {
      "cell_type": "markdown",
      "metadata": {
        "id": "bDYTPQ9yGNNo"
      },
      "source": [
        "### `List` elements mutations\n",
        "Cara melakukan mutasi terhadap elemen sebuah list:\n",
        "```python\n",
        "nama_list[indeks_posisional]=elemen_pengganti\n",
        "```"
      ]
    },
    {
      "cell_type": "code",
      "execution_count": 33,
      "metadata": {
        "id": "oS2T-Ny_UJl4",
        "colab": {
          "base_uri": "https://localhost:8080/"
        },
        "outputId": "0bb6d9f7-bcf9-42c8-c39d-4e0c2a778997"
      },
      "outputs": [
        {
          "output_type": "stream",
          "name": "stdout",
          "text": [
            "Elemen pada list nama_teman: ['Amir', 'Beni', 'Cinta', 'Dimas', 'Edi']\n",
            "Elemen pada list teman_baru: []\n"
          ]
        }
      ],
      "source": [
        "# Mengganti elemen pada index tertentu dari list nama_teman\n",
        "# Budi akan digantikan dengan Beni\n",
        "# Ketika terjadi mutasi terhadap elemen pada list hasil copy,\n",
        "# elemen pada list original tidak mengalami perubahan!!!\n",
        "\n",
        "nama_teman[1] = 'Beni'\n",
        "print(f\"Elemen pada list nama_teman: {nama_teman}\")\n",
        "print(f\"Elemen pada list teman_baru: {nama_teman_baru}\")"
      ]
    },
    {
      "cell_type": "markdown",
      "metadata": {
        "id": "GHo5_hELi74V"
      },
      "source": [
        "### `LIST` EXERCISE!!!\n",
        "Lakukan mutasi pada setiap elemen pada list angka_ganjil:\n",
        "1. Lakukan duplikat terhadap `angka_ganjil` dan assign ke variabel baru bernama `angka_untuk_dirubah`;\n",
        "2. Lakukan operasi pangkat 2 terhadap elemen `angka_untuk_dirubah` dengan indeks == 4;\n",
        "3. Lakukan operasi pangkat 0 terhadap seluruh elemen pada `angka_ganjil`, lalu assign ke variabel bernama `angka_satu`;\n",
        "4. Lakukan operasi perkalian angka 10 dengan setiap elemen ber-**indeks ganjil** pada `angka_ganjil`, lalu assign ke sebuah variabel bernama `perkalian_sepuluh_terpilih`."
      ]
    },
    {
      "cell_type": "code",
      "source": [
        "# 1. Duplikat angka_ganjil\n",
        "angka_untuk_dirubah = angka_ganjil.copy()\n",
        "print(angka_untuk_dirubah)"
      ],
      "metadata": {
        "id": "Qma66JR-6PRo",
        "colab": {
          "base_uri": "https://localhost:8080/"
        },
        "outputId": "40b31e63-2c7a-4d5b-af5b-74f12ac77bfe"
      },
      "execution_count": 34,
      "outputs": [
        {
          "output_type": "stream",
          "name": "stdout",
          "text": [
            "[1, 3, 5, 7, 9]\n"
          ]
        }
      ]
    },
    {
      "cell_type": "code",
      "execution_count": 35,
      "metadata": {
        "id": "JbxfwelAQuQA",
        "colab": {
          "base_uri": "https://localhost:8080/"
        },
        "outputId": "904df784-c19e-4143-ea39-7540104ca0eb"
      },
      "outputs": [
        {
          "output_type": "stream",
          "name": "stdout",
          "text": [
            "[1, 3, 5, 7, 81]\n"
          ]
        }
      ],
      "source": [
        "# 2. Mutasi elemen ber-index == 4 pada angka_untuk_dirubah\n",
        "angka_untuk_dirubah[4] = angka_untuk_dirubah[4]**2\n",
        "\n",
        "print(angka_untuk_dirubah)"
      ]
    },
    {
      "cell_type": "code",
      "source": [
        "# 3. Operasi pangkat 0 terhadap seluruh elemen angka_ganjil\n",
        "angka_satu = [angka**0 for angka in angka_ganjil]\n",
        "print(angka_satu)"
      ],
      "metadata": {
        "id": "CpY-KNJD41A9",
        "colab": {
          "base_uri": "https://localhost:8080/"
        },
        "outputId": "25d8f975-c876-4dab-8ac8-ad345d9e1310"
      },
      "execution_count": 36,
      "outputs": [
        {
          "output_type": "stream",
          "name": "stdout",
          "text": [
            "[1, 1, 1, 1, 1]\n"
          ]
        }
      ]
    },
    {
      "cell_type": "code",
      "source": [
        "# 4. Operasi perkalian 10 terhadap elemen berindeks ganjil dari angka_ganjil\n",
        "perkalian_sepuluh_terpilih = [angka_ganjil[num]*10 if num%2 == 1 else angka_ganjil[num] for num in range(0, len(angka_ganjil))]\n",
        "print(perkalian_sepuluh_terpilih)"
      ],
      "metadata": {
        "id": "crwvAfVz7XJR",
        "colab": {
          "base_uri": "https://localhost:8080/"
        },
        "outputId": "7d4ae88f-251c-4d67-c20a-6f3557f054b9"
      },
      "execution_count": 37,
      "outputs": [
        {
          "output_type": "stream",
          "name": "stdout",
          "text": [
            "[1, 30, 5, 70, 9]\n"
          ]
        }
      ]
    },
    {
      "cell_type": "markdown",
      "metadata": {
        "id": "FV_-gQW2rIiT"
      },
      "source": [
        "---\n",
        "## `Tuple`\n",
        "> Serupa dengan `list`, sebuah `tuple` berisikan objek bertipe rangkaian (*sequence*).\n",
        "\n",
        "Sebuah `tuple` memiliki karakteristik yang hampir seluruhnya mirip dengan `list`. Satu-satunya perbedaan karakteristik `tuple` dari `list` adalah sifatnya yang ***immutable***, dengan kata lain sebuah `tuple` bersifat *fixed* dan *unchangeable*. Oleh karena sifat *immutable* tersebut, biasanya `tuple` dipergunakan untuk menyimpan data yang bersifat konstan, seperti:\n",
        "1. Menyimpan nilai warna dalam format RGB (exp. red = (255, 0, 0));\n",
        "2. Menyimpan data geometri (exp. koordinat = (106.888111, 17.132424))."
      ]
    },
    {
      "cell_type": "markdown",
      "metadata": {
        "id": "umz2HU5OcYcx"
      },
      "source": [
        "### `Tuple` construction\n",
        "Beberapa cara untuk membuat sebuah `tuple`:\n",
        "1. Menggunakan `comma literals`:\n",
        "```python\n",
        "nama_tuple = item_1, item_2, ..., item_n\n",
        "```\n",
        "2. Menggunakan `tuple literals`:\n",
        "```python\n",
        "nama_tuple = () # Membuat tuple kosong\n",
        "nama_tuple = (elemen_1, elemen_2, ..., elemen_n)\n",
        "```\n",
        "\n",
        "3. Menggunakan `type constructor`:\n",
        "```python\n",
        "nama_tuple = tuple() # Membuat tuple kosong\n",
        "nama_tuple = tuple(iterable)\n",
        "```"
      ]
    },
    {
      "cell_type": "code",
      "execution_count": 38,
      "metadata": {
        "id": "1jxmPXfZfSEV",
        "colab": {
          "base_uri": "https://localhost:8080/"
        },
        "outputId": "915cf30b-ad43-4511-b96d-c1ce064691e7"
      },
      "outputs": [
        {
          "output_type": "stream",
          "name": "stdout",
          "text": [
            "(1000000, 2000000, 3000000, 4000000, 5000000)\n"
          ]
        }
      ],
      "source": [
        "# Membuat tuple dengan comma literals\n",
        "gaji_tuple = 1_000_000, 2_000_000, 3_000_000, 4_000_000, 5_000_000\n",
        "print(gaji_tuple)"
      ]
    },
    {
      "cell_type": "code",
      "execution_count": 39,
      "metadata": {
        "id": "-Qv2yHdnwCNj",
        "colab": {
          "base_uri": "https://localhost:8080/"
        },
        "outputId": "aa9f5307-58f0-416f-9bce-7797e3be1d52"
      },
      "outputs": [
        {
          "output_type": "stream",
          "name": "stdout",
          "text": [
            "(25, 20, 30, 40, 50)\n"
          ]
        }
      ],
      "source": [
        "# Membuat tuple dengan tuple literals\n",
        "umur_tuple = (25, 20, 30, 40, 50)\n",
        "print(umur_tuple)"
      ]
    },
    {
      "cell_type": "code",
      "execution_count": 40,
      "metadata": {
        "id": "-VlRsHcAd438",
        "colab": {
          "base_uri": "https://localhost:8080/"
        },
        "outputId": "d0da539b-6547-4034-cb2b-8f4c08f67e34"
      },
      "outputs": [
        {
          "output_type": "stream",
          "name": "stdout",
          "text": [
            "(100, 200, 300, 400, 500)\n"
          ]
        }
      ],
      "source": [
        "# Membuat tuple dengan type constructor\n",
        "kode_tuple = tuple(range(100, 501, 100))\n",
        "print(kode_tuple)"
      ]
    },
    {
      "cell_type": "markdown",
      "metadata": {
        "id": "35VD-mo2goWl"
      },
      "source": [
        "### *Common Sequence Operators*\n",
        "Berbagai *common sequence operators* yang berlaku bagi `list` juga dapat diberlakukan terhadap `tuple`."
      ]
    },
    {
      "cell_type": "code",
      "execution_count": 41,
      "metadata": {
        "id": "7kOdOIElwOrD",
        "colab": {
          "base_uri": "https://localhost:8080/"
        },
        "outputId": "8224d341-9260-4568-a7a4-72f2fd82d442"
      },
      "outputs": [
        {
          "output_type": "stream",
          "name": "stdout",
          "text": [
            "Jumlah elemen pada umur_tuple: 5 elemen\n"
          ]
        }
      ],
      "source": [
        "# Menampilkan jumlah elemen pada puluhan_tuple\n",
        "print(f\"Jumlah elemen pada umur_tuple: {len(umur_tuple)} elemen\")"
      ]
    },
    {
      "cell_type": "code",
      "execution_count": 42,
      "metadata": {
        "id": "z0JRHxQVwQvv",
        "colab": {
          "base_uri": "https://localhost:8080/"
        },
        "outputId": "57a7cf8e-018f-47dc-b0ad-30d8b737a1c7"
      },
      "outputs": [
        {
          "output_type": "stream",
          "name": "stdout",
          "text": [
            "Banyaknya nilai 20 pada umur_tuple: 1 elemen\n"
          ]
        }
      ],
      "source": [
        "# Menampilkan kemunculan elemen bernilai 10 pada puluhan_tuple\n",
        "print(f\"Banyaknya nilai 20 pada umur_tuple: {umur_tuple.count(20)} elemen\")"
      ]
    },
    {
      "cell_type": "code",
      "execution_count": 43,
      "metadata": {
        "id": "c0eDAOpEK-XN",
        "colab": {
          "base_uri": "https://localhost:8080/"
        },
        "outputId": "c8cc49aa-4bb3-4d7a-85de-a145c7d2992b"
      },
      "outputs": [
        {
          "output_type": "stream",
          "name": "stdout",
          "text": [
            "Posisi index dari 30 pada umur_tuple adalah: index-2\n"
          ]
        }
      ],
      "source": [
        "# Menampilkan indeks posisional dari sebuah elemen pada puluhan_tuple\n",
        "print(f\"Posisi index dari 30 pada umur_tuple adalah: index-{umur_tuple.index(30)}\")"
      ]
    },
    {
      "cell_type": "code",
      "execution_count": 44,
      "metadata": {
        "id": "lBixP0HLwF7T",
        "colab": {
          "base_uri": "https://localhost:8080/"
        },
        "outputId": "ac4fd43f-6c0d-4283-bd19-0334bac1e958"
      },
      "outputs": [
        {
          "output_type": "stream",
          "name": "stdout",
          "text": [
            "Elemen pada posisi indeks 3 adalah: 40\n"
          ]
        }
      ],
      "source": [
        "# Menampilkan elemen dengan index posisional 3 pada tuple\n",
        "print(f\"Elemen pada posisi indeks 3 adalah: {umur_tuple[3]}\")"
      ]
    },
    {
      "cell_type": "code",
      "execution_count": 45,
      "metadata": {
        "id": "9AU1z6_rwJbG",
        "colab": {
          "base_uri": "https://localhost:8080/"
        },
        "outputId": "27434c27-0a9f-4f67-f04b-6ede1769f23f"
      },
      "outputs": [
        {
          "output_type": "stream",
          "name": "stdout",
          "text": [
            "(25, 30, 50)\n"
          ]
        }
      ],
      "source": [
        "# Slicing pada tuple\n",
        "print(umur_tuple[::2])"
      ]
    },
    {
      "cell_type": "code",
      "execution_count": 46,
      "metadata": {
        "id": "KOQAHReIMXJX",
        "colab": {
          "base_uri": "https://localhost:8080/"
        },
        "outputId": "18a6e90d-0ea3-4581-f988-813a30f5d724"
      },
      "outputs": [
        {
          "output_type": "stream",
          "name": "stdout",
          "text": [
            "(25, 20, 30, 40, 50, 25, 20, 30, 40, 50, 25, 20, 30, 40, 50)\n"
          ]
        }
      ],
      "source": [
        "# Repetition sebanyak 3 kali\n",
        "print(umur_tuple*3)"
      ]
    },
    {
      "cell_type": "code",
      "execution_count": 47,
      "metadata": {
        "id": "AYNBGPqFMnwd",
        "colab": {
          "base_uri": "https://localhost:8080/"
        },
        "outputId": "fb35729a-e962-4508-a203-d3b2ddfe6e3b"
      },
      "outputs": [
        {
          "output_type": "stream",
          "name": "stdout",
          "text": [
            "Hasil concatenation umur_tuple dengan gaji_tuple = (25, 20, 30, 40, 50, 1000000, 2000000, 3000000, 4000000, 5000000)\n"
          ]
        }
      ],
      "source": [
        "# Concatenation\n",
        "print(f\"Hasil concatenation umur_tuple dengan gaji_tuple = {umur_tuple+gaji_tuple}\")"
      ]
    },
    {
      "cell_type": "code",
      "execution_count": 48,
      "metadata": {
        "id": "85LUmIpUNPoL",
        "colab": {
          "base_uri": "https://localhost:8080/"
        },
        "outputId": "28360a50-780d-4dc8-9295-f18806d2880a"
      },
      "outputs": [
        {
          "output_type": "execute_result",
          "data": {
            "text/plain": [
              "50"
            ]
          },
          "metadata": {},
          "execution_count": 48
        }
      ],
      "source": [
        "# Mencari nilai max\n",
        "max(umur_tuple)"
      ]
    },
    {
      "cell_type": "code",
      "execution_count": 49,
      "metadata": {
        "id": "PLEaabKpNXCm",
        "colab": {
          "base_uri": "https://localhost:8080/"
        },
        "outputId": "55ba6be1-9cc5-4cbe-ed74-247c91059e5e"
      },
      "outputs": [
        {
          "output_type": "execute_result",
          "data": {
            "text/plain": [
              "20"
            ]
          },
          "metadata": {},
          "execution_count": 49
        }
      ],
      "source": [
        "# Mencari nilai min\n",
        "min(umur_tuple)"
      ]
    },
    {
      "cell_type": "code",
      "execution_count": 50,
      "metadata": {
        "id": "AxDSSIKoNdDt",
        "colab": {
          "base_uri": "https://localhost:8080/"
        },
        "outputId": "ae26172d-f0cd-4881-9f92-e4eacab80961"
      },
      "outputs": [
        {
          "output_type": "execute_result",
          "data": {
            "text/plain": [
              "False"
            ]
          },
          "metadata": {},
          "execution_count": 50
        }
      ],
      "source": [
        "# Melakukan pengecekan keberadaan 70 pada puluhan_tuple\n",
        "70 in umur_tuple"
      ]
    },
    {
      "cell_type": "code",
      "execution_count": 51,
      "metadata": {
        "id": "7Rr4rwtvNdbw",
        "colab": {
          "base_uri": "https://localhost:8080/"
        },
        "outputId": "2ae370e6-0c49-46a0-905b-49bd11174508"
      },
      "outputs": [
        {
          "output_type": "execute_result",
          "data": {
            "text/plain": [
              "True"
            ]
          },
          "metadata": {},
          "execution_count": 51
        }
      ],
      "source": [
        "# Melakukan pengecekan ketidak-adaan 70 pada puluhan_tuple\n",
        "\n",
        "70 not in umur_tuple"
      ]
    },
    {
      "cell_type": "markdown",
      "metadata": {
        "id": "tN7rubaBhJ6K"
      },
      "source": [
        "### `TUPLE` EXERCISES!!!\n",
        "**EXERCISE 1** -- Buatlah sebuah `tuple` sebagai berikut:\n",
        "  1. Berisi angka bulat yang bernilai antara 100 hingga 0, dengan step penurunan sebesar 5;\n",
        "  3. Assign `tuple` tersebut ke variable `tuple_menurun`;\n",
        "  4. Tampilkan `tuple_menurun` ke layar.\n"
      ]
    },
    {
      "cell_type": "code",
      "execution_count": 52,
      "metadata": {
        "id": "-JW5IZVDwMNY",
        "colab": {
          "base_uri": "https://localhost:8080/"
        },
        "outputId": "6ef1baf9-03ad-4911-887d-c3e9c4cc4ae2"
      },
      "outputs": [
        {
          "output_type": "stream",
          "name": "stdout",
          "text": [
            "(100, 95, 90, 85, 80, 75, 70, 65, 60, 55, 50, 45, 40, 35, 30, 25, 20, 15, 10, 5, 0)\n"
          ]
        }
      ],
      "source": [
        "tuple_menurun = tuple(range(100, -1, -5))\n",
        "\n",
        "print(tuple_menurun)"
      ]
    },
    {
      "cell_type": "markdown",
      "source": [
        "**EXERCISE 2** -- Lakukan operasi pangkat 10 terhadap terhadap elemen ber-index 10 pada `tuple_menurun`."
      ],
      "metadata": {
        "id": "jVaU5bgiyhtk"
      }
    },
    {
      "cell_type": "code",
      "source": [
        "tuple_menurun[10] = tuple_menurun[10]**25"
      ],
      "metadata": {
        "id": "8SFJY87_yJIs",
        "colab": {
          "base_uri": "https://localhost:8080/",
          "height": 141
        },
        "outputId": "c65bbabe-785e-4127-8c48-9d5ffb7790d2"
      },
      "execution_count": 53,
      "outputs": [
        {
          "output_type": "error",
          "ename": "TypeError",
          "evalue": "'tuple' object does not support item assignment",
          "traceback": [
            "\u001b[0;31m---------------------------------------------------------------------------\u001b[0m",
            "\u001b[0;31mTypeError\u001b[0m                                 Traceback (most recent call last)",
            "\u001b[0;32m<ipython-input-53-8e9bb073c08a>\u001b[0m in \u001b[0;36m<cell line: 1>\u001b[0;34m()\u001b[0m\n\u001b[0;32m----> 1\u001b[0;31m \u001b[0mtuple_menurun\u001b[0m\u001b[0;34m[\u001b[0m\u001b[0;36m10\u001b[0m\u001b[0;34m]\u001b[0m \u001b[0;34m=\u001b[0m \u001b[0mtuple_menurun\u001b[0m\u001b[0;34m[\u001b[0m\u001b[0;36m10\u001b[0m\u001b[0;34m]\u001b[0m\u001b[0;34m**\u001b[0m\u001b[0;36m25\u001b[0m\u001b[0;34m\u001b[0m\u001b[0;34m\u001b[0m\u001b[0m\n\u001b[0m",
            "\u001b[0;31mTypeError\u001b[0m: 'tuple' object does not support item assignment"
          ]
        }
      ]
    },
    {
      "cell_type": "markdown",
      "source": [
        "___\n",
        "#### 1. PENGENALAN OBJECT `pd.Series`\n",
        "\n",
        "> `pd.Series` adalah sebuah objek modul `pandas` yang berupa rangkaian object 1 dimensi.\n",
        "\n",
        "Sebuah `pd.Series` dapat disusun dengan cara:\n",
        "1. Memasukkan sebuah `list` atau `tuple` ke dalam method `pd.Series`;\n",
        "2. Mengambil setiap elemen pada sebuah `columns` dari sebuah `DataFrame`; atau\n",
        "3. Mengambil setiap elemen pada sebuah `row` dari sebuah `DataFrame`.\n",
        "\n",
        "Sebuah `pd.Series` akan memiliki attribut/karakteristik hampir serupa dengan yang dimiliki oleh sebuah `list`, kecuali `zero-based`, karena index dari sebuah `pd.Series` dapat bertipe data apapun selama bersifat unik.\n",
        "\n"
      ],
      "metadata": {
        "id": "0OFwQTzSwECV"
      }
    },
    {
      "cell_type": "code",
      "source": [
        "# Mengimpor modul yang diperlukan\n",
        "import pandas as pd\n",
        "\n",
        "# Set file path\n",
        "file_path = \"https://storage.googleapis.com/dqlab-dataset/SuperStore.csv\"\n",
        "\n",
        "# Mengimport dataset ke dalam sebuah DataFrame\n",
        "df_sales = pd.read_csv(file_path)"
      ],
      "metadata": {
        "id": "U9T4s4Xvx9s6"
      },
      "execution_count": 54,
      "outputs": []
    },
    {
      "cell_type": "code",
      "source": [
        "# 1.a. Membuat sebuah Series dari sebuah `list`\n",
        "print(\"`nama_teman` adalah sebuah\", type(nama_teman))\n",
        "# Masukkan `nama_teman` ke dalam `pd.Series`\n",
        "nama_teman_series = pd.Series(nama_teman, name='Nama_Teman')\n",
        "# `nama_teman_series` adalah sebuah `pd.Series`\n",
        "print(\"'nama_teman_series' adalah sebuah\", type(nama_teman_series))\n",
        "# Lihat isi nama_teman_series\n",
        "nama_teman_series"
      ],
      "metadata": {
        "id": "Rk3rS0Q2ysDQ",
        "colab": {
          "base_uri": "https://localhost:8080/",
          "height": 276
        },
        "outputId": "4de86930-4474-4b82-94a5-411bd9fd5523"
      },
      "execution_count": 55,
      "outputs": [
        {
          "output_type": "stream",
          "name": "stdout",
          "text": [
            "`nama_teman` adalah sebuah <class 'list'>\n",
            "'nama_teman_series' adalah sebuah <class 'pandas.core.series.Series'>\n"
          ]
        },
        {
          "output_type": "execute_result",
          "data": {
            "text/plain": [
              "0     Amir\n",
              "1     Beni\n",
              "2    Cinta\n",
              "3    Dimas\n",
              "4      Edi\n",
              "Name: Nama_Teman, dtype: object"
            ],
            "text/html": [
              "<div>\n",
              "<style scoped>\n",
              "    .dataframe tbody tr th:only-of-type {\n",
              "        vertical-align: middle;\n",
              "    }\n",
              "\n",
              "    .dataframe tbody tr th {\n",
              "        vertical-align: top;\n",
              "    }\n",
              "\n",
              "    .dataframe thead th {\n",
              "        text-align: right;\n",
              "    }\n",
              "</style>\n",
              "<table border=\"1\" class=\"dataframe\">\n",
              "  <thead>\n",
              "    <tr style=\"text-align: right;\">\n",
              "      <th></th>\n",
              "      <th>Nama_Teman</th>\n",
              "    </tr>\n",
              "  </thead>\n",
              "  <tbody>\n",
              "    <tr>\n",
              "      <th>0</th>\n",
              "      <td>Amir</td>\n",
              "    </tr>\n",
              "    <tr>\n",
              "      <th>1</th>\n",
              "      <td>Beni</td>\n",
              "    </tr>\n",
              "    <tr>\n",
              "      <th>2</th>\n",
              "      <td>Cinta</td>\n",
              "    </tr>\n",
              "    <tr>\n",
              "      <th>3</th>\n",
              "      <td>Dimas</td>\n",
              "    </tr>\n",
              "    <tr>\n",
              "      <th>4</th>\n",
              "      <td>Edi</td>\n",
              "    </tr>\n",
              "  </tbody>\n",
              "</table>\n",
              "</div><br><label><b>dtype:</b> object</label>"
            ]
          },
          "metadata": {},
          "execution_count": 55
        }
      ]
    },
    {
      "cell_type": "code",
      "source": [
        "# 1.b. Membuat sebuah Series dari sebuah `tuple`\n",
        "print(\"`umur_tuple` adalah sebuah\", type(umur_tuple))\n",
        "# Masukan `puluhan_tuple` ke dalam `pd.Series`\n",
        "umur_tuple_series = pd.Series(umur_tuple, name='Umur')\n",
        "# `puluhan_tuple_series` adalah sebuah `pd.Series`\n",
        "print(\"'umur_tuple_series' adalah sebuah\", type(umur_tuple_series))\n",
        "# lihat isi puluhan_tuple_series\n",
        "umur_tuple_series"
      ],
      "metadata": {
        "id": "2mQnApy8uCog",
        "colab": {
          "base_uri": "https://localhost:8080/",
          "height": 276
        },
        "outputId": "9d147571-1559-44fc-bc37-a8cf97b2ea20"
      },
      "execution_count": 56,
      "outputs": [
        {
          "output_type": "stream",
          "name": "stdout",
          "text": [
            "`umur_tuple` adalah sebuah <class 'tuple'>\n",
            "'umur_tuple_series' adalah sebuah <class 'pandas.core.series.Series'>\n"
          ]
        },
        {
          "output_type": "execute_result",
          "data": {
            "text/plain": [
              "0    25\n",
              "1    20\n",
              "2    30\n",
              "3    40\n",
              "4    50\n",
              "Name: Umur, dtype: int64"
            ],
            "text/html": [
              "<div>\n",
              "<style scoped>\n",
              "    .dataframe tbody tr th:only-of-type {\n",
              "        vertical-align: middle;\n",
              "    }\n",
              "\n",
              "    .dataframe tbody tr th {\n",
              "        vertical-align: top;\n",
              "    }\n",
              "\n",
              "    .dataframe thead th {\n",
              "        text-align: right;\n",
              "    }\n",
              "</style>\n",
              "<table border=\"1\" class=\"dataframe\">\n",
              "  <thead>\n",
              "    <tr style=\"text-align: right;\">\n",
              "      <th></th>\n",
              "      <th>Umur</th>\n",
              "    </tr>\n",
              "  </thead>\n",
              "  <tbody>\n",
              "    <tr>\n",
              "      <th>0</th>\n",
              "      <td>25</td>\n",
              "    </tr>\n",
              "    <tr>\n",
              "      <th>1</th>\n",
              "      <td>20</td>\n",
              "    </tr>\n",
              "    <tr>\n",
              "      <th>2</th>\n",
              "      <td>30</td>\n",
              "    </tr>\n",
              "    <tr>\n",
              "      <th>3</th>\n",
              "      <td>40</td>\n",
              "    </tr>\n",
              "    <tr>\n",
              "      <th>4</th>\n",
              "      <td>50</td>\n",
              "    </tr>\n",
              "  </tbody>\n",
              "</table>\n",
              "</div><br><label><b>dtype:</b> int64</label>"
            ]
          },
          "metadata": {},
          "execution_count": 56
        }
      ]
    },
    {
      "cell_type": "code",
      "source": [
        "# 2. Membuat sebuah Series dari sebuah kolom pada dataframe\n",
        "isi_kolom_sales = df_sales['Sales']\n",
        "# Cek tipe object dari `isi_kolom_sales`\n",
        "print(\"Seluruh elemen pada kolom `Sales` dari dataframe `df_sales` adalah\", type(isi_kolom_sales))\n",
        "# Melihat seluruh isi sebuah series berasal dari kolom dataframe\n",
        "isi_kolom_sales"
      ],
      "metadata": {
        "id": "aOIkiqgfzQbT",
        "colab": {
          "base_uri": "https://localhost:8080/",
          "height": 496
        },
        "outputId": "846105db-5ab6-484b-9201-ae23e4b2b9b1"
      },
      "execution_count": 57,
      "outputs": [
        {
          "output_type": "stream",
          "name": "stdout",
          "text": [
            "Seluruh elemen pada kolom `Sales` dari dataframe `df_sales` adalah <class 'pandas.core.series.Series'>\n"
          ]
        },
        {
          "output_type": "execute_result",
          "data": {
            "text/plain": [
              "0       261.9600\n",
              "1       731.9400\n",
              "2        14.6200\n",
              "3       957.5775\n",
              "4        22.3680\n",
              "          ...   \n",
              "9989     25.2480\n",
              "9990     91.9600\n",
              "9991    258.5760\n",
              "9992     29.6000\n",
              "9993    243.1600\n",
              "Name: Sales, Length: 9994, dtype: float64"
            ],
            "text/html": [
              "<div>\n",
              "<style scoped>\n",
              "    .dataframe tbody tr th:only-of-type {\n",
              "        vertical-align: middle;\n",
              "    }\n",
              "\n",
              "    .dataframe tbody tr th {\n",
              "        vertical-align: top;\n",
              "    }\n",
              "\n",
              "    .dataframe thead th {\n",
              "        text-align: right;\n",
              "    }\n",
              "</style>\n",
              "<table border=\"1\" class=\"dataframe\">\n",
              "  <thead>\n",
              "    <tr style=\"text-align: right;\">\n",
              "      <th></th>\n",
              "      <th>Sales</th>\n",
              "    </tr>\n",
              "  </thead>\n",
              "  <tbody>\n",
              "    <tr>\n",
              "      <th>0</th>\n",
              "      <td>261.9600</td>\n",
              "    </tr>\n",
              "    <tr>\n",
              "      <th>1</th>\n",
              "      <td>731.9400</td>\n",
              "    </tr>\n",
              "    <tr>\n",
              "      <th>2</th>\n",
              "      <td>14.6200</td>\n",
              "    </tr>\n",
              "    <tr>\n",
              "      <th>3</th>\n",
              "      <td>957.5775</td>\n",
              "    </tr>\n",
              "    <tr>\n",
              "      <th>4</th>\n",
              "      <td>22.3680</td>\n",
              "    </tr>\n",
              "    <tr>\n",
              "      <th>...</th>\n",
              "      <td>...</td>\n",
              "    </tr>\n",
              "    <tr>\n",
              "      <th>9989</th>\n",
              "      <td>25.2480</td>\n",
              "    </tr>\n",
              "    <tr>\n",
              "      <th>9990</th>\n",
              "      <td>91.9600</td>\n",
              "    </tr>\n",
              "    <tr>\n",
              "      <th>9991</th>\n",
              "      <td>258.5760</td>\n",
              "    </tr>\n",
              "    <tr>\n",
              "      <th>9992</th>\n",
              "      <td>29.6000</td>\n",
              "    </tr>\n",
              "    <tr>\n",
              "      <th>9993</th>\n",
              "      <td>243.1600</td>\n",
              "    </tr>\n",
              "  </tbody>\n",
              "</table>\n",
              "<p>9994 rows × 1 columns</p>\n",
              "</div><br><label><b>dtype:</b> float64</label>"
            ]
          },
          "metadata": {},
          "execution_count": 57
        }
      ]
    },
    {
      "cell_type": "code",
      "source": [
        "# 3. Membuat sebuah Series dari sebuah row pada dataframe\n",
        "isi_row_tertentu = df_sales.loc[0, :]\n",
        "# Cek tipe object `isi_row_tertentu`\n",
        "print(\"Setiap row pada sebuah dataframe pada dasarnya adalah sebuah\", type(isi_row_tertentu))\n",
        "# Melihat isi sebuah series berasal dari row dataframe\n",
        "isi_row_tertentu"
      ],
      "metadata": {
        "id": "RuP_GFVGzpYF",
        "colab": {
          "base_uri": "https://localhost:8080/",
          "height": 749
        },
        "outputId": "d9b103f1-6458-407f-86a8-b65514bfb77e"
      },
      "execution_count": 58,
      "outputs": [
        {
          "output_type": "stream",
          "name": "stdout",
          "text": [
            "Setiap row pada sebuah dataframe pada dasarnya adalah sebuah <class 'pandas.core.series.Series'>\n"
          ]
        },
        {
          "output_type": "execute_result",
          "data": {
            "text/plain": [
              "Order_ID                             CA-2019-152156\n",
              "Customer_ID                                CG-12520\n",
              "Postal_Code                                   42420\n",
              "Product_ID                          FUR-BO-10001798\n",
              "Sales                                        261.96\n",
              "Quantity                                          2\n",
              "Discount                                        0.0\n",
              "Profit                                      41.9136\n",
              "Category                                  Furniture\n",
              "Sub-Category                              Bookcases\n",
              "Product_Name      Bush Somerset Collection Bookcase\n",
              "Order_Date                                11/8/2019\n",
              "Ship_Date                                11/11/2019\n",
              "Ship_Mode                              Second Class\n",
              "Customer_Name                           Claire Gute\n",
              "Segment                                    Consumer\n",
              "Country/Region                        United States\n",
              "City                                      Henderson\n",
              "State                                      Kentucky\n",
              "Region                                        South\n",
              "Name: 0, dtype: object"
            ],
            "text/html": [
              "<div>\n",
              "<style scoped>\n",
              "    .dataframe tbody tr th:only-of-type {\n",
              "        vertical-align: middle;\n",
              "    }\n",
              "\n",
              "    .dataframe tbody tr th {\n",
              "        vertical-align: top;\n",
              "    }\n",
              "\n",
              "    .dataframe thead th {\n",
              "        text-align: right;\n",
              "    }\n",
              "</style>\n",
              "<table border=\"1\" class=\"dataframe\">\n",
              "  <thead>\n",
              "    <tr style=\"text-align: right;\">\n",
              "      <th></th>\n",
              "      <th>0</th>\n",
              "    </tr>\n",
              "  </thead>\n",
              "  <tbody>\n",
              "    <tr>\n",
              "      <th>Order_ID</th>\n",
              "      <td>CA-2019-152156</td>\n",
              "    </tr>\n",
              "    <tr>\n",
              "      <th>Customer_ID</th>\n",
              "      <td>CG-12520</td>\n",
              "    </tr>\n",
              "    <tr>\n",
              "      <th>Postal_Code</th>\n",
              "      <td>42420</td>\n",
              "    </tr>\n",
              "    <tr>\n",
              "      <th>Product_ID</th>\n",
              "      <td>FUR-BO-10001798</td>\n",
              "    </tr>\n",
              "    <tr>\n",
              "      <th>Sales</th>\n",
              "      <td>261.96</td>\n",
              "    </tr>\n",
              "    <tr>\n",
              "      <th>Quantity</th>\n",
              "      <td>2</td>\n",
              "    </tr>\n",
              "    <tr>\n",
              "      <th>Discount</th>\n",
              "      <td>0.0</td>\n",
              "    </tr>\n",
              "    <tr>\n",
              "      <th>Profit</th>\n",
              "      <td>41.9136</td>\n",
              "    </tr>\n",
              "    <tr>\n",
              "      <th>Category</th>\n",
              "      <td>Furniture</td>\n",
              "    </tr>\n",
              "    <tr>\n",
              "      <th>Sub-Category</th>\n",
              "      <td>Bookcases</td>\n",
              "    </tr>\n",
              "    <tr>\n",
              "      <th>Product_Name</th>\n",
              "      <td>Bush Somerset Collection Bookcase</td>\n",
              "    </tr>\n",
              "    <tr>\n",
              "      <th>Order_Date</th>\n",
              "      <td>11/8/2019</td>\n",
              "    </tr>\n",
              "    <tr>\n",
              "      <th>Ship_Date</th>\n",
              "      <td>11/11/2019</td>\n",
              "    </tr>\n",
              "    <tr>\n",
              "      <th>Ship_Mode</th>\n",
              "      <td>Second Class</td>\n",
              "    </tr>\n",
              "    <tr>\n",
              "      <th>Customer_Name</th>\n",
              "      <td>Claire Gute</td>\n",
              "    </tr>\n",
              "    <tr>\n",
              "      <th>Segment</th>\n",
              "      <td>Consumer</td>\n",
              "    </tr>\n",
              "    <tr>\n",
              "      <th>Country/Region</th>\n",
              "      <td>United States</td>\n",
              "    </tr>\n",
              "    <tr>\n",
              "      <th>City</th>\n",
              "      <td>Henderson</td>\n",
              "    </tr>\n",
              "    <tr>\n",
              "      <th>State</th>\n",
              "      <td>Kentucky</td>\n",
              "    </tr>\n",
              "    <tr>\n",
              "      <th>Region</th>\n",
              "      <td>South</td>\n",
              "    </tr>\n",
              "  </tbody>\n",
              "</table>\n",
              "</div><br><label><b>dtype:</b> object</label>"
            ]
          },
          "metadata": {},
          "execution_count": 58
        }
      ]
    },
    {
      "cell_type": "code",
      "source": [
        "# Menunjukkan nama dari sebuah Series dilakukan dengan menggunakan attribut `name`\n",
        "nama_teman_series.name"
      ],
      "metadata": {
        "id": "Y41hYfvBse5R",
        "colab": {
          "base_uri": "https://localhost:8080/",
          "height": 36
        },
        "outputId": "64723cc7-ce06-4ad5-9b0e-f960c8321365"
      },
      "execution_count": 59,
      "outputs": [
        {
          "output_type": "execute_result",
          "data": {
            "text/plain": [
              "'Nama_Teman'"
            ],
            "application/vnd.google.colaboratory.intrinsic+json": {
              "type": "string"
            }
          },
          "metadata": {},
          "execution_count": 59
        }
      ]
    },
    {
      "cell_type": "code",
      "source": [
        "# Menunjukkan berbagai index pada sebuah Series dilakukan dengan menggunakan attribut `index`\n",
        "isi_row_tertentu.index"
      ],
      "metadata": {
        "id": "qqfTP8Mlr-4W",
        "colab": {
          "base_uri": "https://localhost:8080/"
        },
        "outputId": "dcedc0f9-dd82-429d-c4a7-a9d2c83177a6"
      },
      "execution_count": 60,
      "outputs": [
        {
          "output_type": "execute_result",
          "data": {
            "text/plain": [
              "Index(['Order_ID', 'Customer_ID', 'Postal_Code', 'Product_ID', 'Sales',\n",
              "       'Quantity', 'Discount', 'Profit', 'Category', 'Sub-Category',\n",
              "       'Product_Name', 'Order_Date', 'Ship_Date', 'Ship_Mode', 'Customer_Name',\n",
              "       'Segment', 'Country/Region', 'City', 'State', 'Region'],\n",
              "      dtype='object')"
            ]
          },
          "metadata": {},
          "execution_count": 60
        }
      ]
    },
    {
      "cell_type": "code",
      "source": [
        "# Menunjukkan besaran dimensi dari sebuah Series\n",
        "isi_row_tertentu.shape"
      ],
      "metadata": {
        "id": "VPtnfEJqtVe5",
        "colab": {
          "base_uri": "https://localhost:8080/"
        },
        "outputId": "b009c892-43f9-4ca9-b7e1-a1af683d94b0"
      },
      "execution_count": 61,
      "outputs": [
        {
          "output_type": "execute_result",
          "data": {
            "text/plain": [
              "(20,)"
            ]
          },
          "metadata": {},
          "execution_count": 61
        }
      ]
    },
    {
      "cell_type": "code",
      "source": [
        "# Menampilkan elemen tertentu dari sebuah Series dapat dilakukan menggunakan indexnya\n",
        "print(\"Elemen dengan index `0` pada `nama_teman_series` adalah\", nama_teman_series[0])\n",
        "print(\"Elemen dengan index `0` pada `isi_kolom_sales` adalah\", isi_kolom_sales[0])\n",
        "print(\"Elemen dengan index `State` pada `isi_row_tertentu` adalah\", isi_row_tertentu['State'])"
      ],
      "metadata": {
        "id": "tZFS5wah0tJ1",
        "colab": {
          "base_uri": "https://localhost:8080/"
        },
        "outputId": "f9d48026-9b7f-46c6-9c11-861eb7a4554e"
      },
      "execution_count": 62,
      "outputs": [
        {
          "output_type": "stream",
          "name": "stdout",
          "text": [
            "Elemen dengan index `0` pada `nama_teman_series` adalah Amir\n",
            "Elemen dengan index `0` pada `isi_kolom_sales` adalah 261.96\n",
            "Elemen dengan index `State` pada `isi_row_tertentu` adalah Kentucky\n"
          ]
        }
      ]
    },
    {
      "cell_type": "markdown",
      "metadata": {
        "id": "jaqzhRxwrLh1"
      },
      "source": [
        "---\n",
        "## `Set`\n",
        "> `Set` adalah sebuah objek berisi koleksi objek yang *unordered*, bersifat unik, dan *hashable*.\n",
        "\n",
        "`Set` adalah sebuah tipe data di Python yang berisi kumpulan elemen unik dan *unordered*. Artinya, tidak ada elemen yang terduplikasi dalam `Set`, dan elemen-elemen di dalamnya tidak memiliki urutan tertentu seperti halnya pada *list* atau *tuple*. Ini berguna saat kita hanya perlu memastikan bahwa setiap item hanya muncul sekali.\n",
        "\n",
        "Setiap elemen dalam `Set` bersifat *hashable*, yang berarti elemen-elemen tersebut dapat memiliki nilai unik yang memudahkan Python untuk memproses dan mencari elemen dalam `Set` dengan cepat. Struktur data `Set` ini dioptimalkan untuk operasi keanggotaan (membership testing) dan perbandingan.\n",
        "\n",
        "Python menyediakan beberapa operasi bawaan yang efisien untuk bekerja dengan `Set`, seperti:\n",
        "- **Gabungan (Union)**, untuk menggabungkan dua atau lebih set.\n",
        "- **Irisan (Intersection)**, untuk mendapatkan elemen yang ada di kedua set.\n",
        "- **Selisih (Difference)**, untuk mendapatkan elemen yang ada di satu set tetapi tidak di set lain.\n",
        "- **Eksklusif (Symmetric Difference)**, untuk mendapatkan elemen yang hanya ada di salah satu set saja.\n",
        "\n",
        "Dalam praktek pengolahan data dengan menggunakan Python, `Set` sering digunakan untuk:\n",
        "- Menyaring duplikasi dari data.\n",
        "- Melakukan tes cepat apakah suatu item terdapat dalam kumpulan.\n",
        "- Melakukan operasi himpunan seperti penggabungan dan irisan pada data yang unik."
      ]
    },
    {
      "cell_type": "markdown",
      "metadata": {
        "id": "lXFsp506Liv4"
      },
      "source": [
        "### `Set` Construction\n",
        "Beberapa cara membuat set:\n",
        "1. Menggunakan `set constructor`:\n",
        "```python\n",
        "nama_set = set() # Membuat set kosong\n",
        "nama_set = set(iterable)\n",
        "```\n",
        "2. Menggunakan `type literals`:\n",
        "```python\n",
        "nama_set = {objek_1, objek_2, ..., objek_n}\n",
        "```"
      ]
    },
    {
      "cell_type": "code",
      "execution_count": 63,
      "metadata": {
        "id": "wgnrjwk_A4rN",
        "colab": {
          "base_uri": "https://localhost:8080/"
        },
        "outputId": "67d6dfa2-dcc4-4105-d17b-18f1a581bfd8"
      },
      "outputs": [
        {
          "output_type": "stream",
          "name": "stdout",
          "text": [
            "{'Dimas', 'Edi', 'Beni', 'Cinta', 'Amir'}\n"
          ]
        }
      ],
      "source": [
        "# Membuat set dari list nama_teman menggunakan constructor\n",
        "\n",
        "nama_teman_set = set(nama_teman)\n",
        "print(nama_teman_set)"
      ]
    },
    {
      "cell_type": "code",
      "execution_count": 65,
      "metadata": {
        "id": "ahEti0sVH9C9",
        "colab": {
          "base_uri": "https://localhost:8080/"
        },
        "outputId": "39fa5c68-ee44-4301-96d3-dd8377d98610"
      },
      "outputs": [
        {
          "output_type": "stream",
          "name": "stdout",
          "text": [
            "{'Ridho', 'Ani', 'Rhoma', 'Soneta'}\n"
          ]
        }
      ],
      "source": [
        "# Membuat set menggunakan literals\n",
        "\n",
        "teman_lama_set = {\"Rhoma\", \"Ani\", \"Ridho\", \"Soneta\"}\n",
        "print(teman_lama_set)"
      ]
    },
    {
      "cell_type": "markdown",
      "metadata": {
        "id": "J1rlldykEz60"
      },
      "source": [
        "### Growing & Shrinking `set`"
      ]
    },
    {
      "cell_type": "code",
      "execution_count": 66,
      "metadata": {
        "id": "C_wlJTlpKMT5",
        "colab": {
          "base_uri": "https://localhost:8080/"
        },
        "outputId": "96e9ac45-ef6e-4118-9bfa-470b5902412a"
      },
      "outputs": [
        {
          "output_type": "stream",
          "name": "stdout",
          "text": [
            "{'Dimas', 'Edi', 'Beni', 'Ani', 'Cinta', 'Amir'}\n"
          ]
        }
      ],
      "source": [
        "# Menambah sebuah elemen baru ke dalam set\n",
        "\n",
        "nama_teman_set.add('Ani')\n",
        "print(nama_teman_set)"
      ]
    },
    {
      "cell_type": "code",
      "execution_count": 67,
      "metadata": {
        "id": "R9CmV3mCCm2j",
        "colab": {
          "base_uri": "https://localhost:8080/"
        },
        "outputId": "a054b136-7ba1-4d30-935c-abeaaf303d7e"
      },
      "outputs": [
        {
          "output_type": "stream",
          "name": "stdout",
          "text": [
            "{'Dimas', 'Edi', 'Rudi', 'Beni', 'Ani', 'Cinta', 'Firman', 'Amir'}\n"
          ]
        }
      ],
      "source": [
        "# Menambahkan sebuah set lain,\n",
        "\n",
        "nama_teman_set.update({'Firman','Rudi', 'Beni'})\n",
        "# Apa yang terjadi jika menambah elemen yang sudah ada sebelumnya??\n",
        "\n",
        "print(nama_teman_set)"
      ]
    },
    {
      "cell_type": "code",
      "execution_count": 68,
      "metadata": {
        "id": "BbEohvJVCt6h",
        "colab": {
          "base_uri": "https://localhost:8080/"
        },
        "outputId": "03b8d027-5453-452b-cee4-4ce06e005ae7"
      },
      "outputs": [
        {
          "output_type": "stream",
          "name": "stdout",
          "text": [
            "{'Dimas', 'Edi', 'Beni', 'Ani', 'Cinta', 'Firman', 'Amir'}\n"
          ]
        }
      ],
      "source": [
        "# Me-remove 'Rudi' dari himpunan\n",
        "\n",
        "nama_teman_set.remove('Rudi')\n",
        "\n",
        "print(nama_teman_set)"
      ]
    },
    {
      "cell_type": "code",
      "execution_count": 69,
      "metadata": {
        "id": "fY40xiHiC2f3",
        "colab": {
          "base_uri": "https://localhost:8080/",
          "height": 193
        },
        "outputId": "fdcf9224-a318-4fd0-b39b-b10a88f06843"
      },
      "outputs": [
        {
          "output_type": "error",
          "ename": "KeyError",
          "evalue": "'Tina'",
          "traceback": [
            "\u001b[0;31m---------------------------------------------------------------------------\u001b[0m",
            "\u001b[0;31mKeyError\u001b[0m                                  Traceback (most recent call last)",
            "\u001b[0;32m<ipython-input-69-167e1e4a467a>\u001b[0m in \u001b[0;36m<cell line: 3>\u001b[0;34m()\u001b[0m\n\u001b[1;32m      1\u001b[0m \u001b[0;31m# Apa yang terjadi jika mencoba untuk me-remove elemen yang tidak ada pada set??\u001b[0m\u001b[0;34m\u001b[0m\u001b[0;34m\u001b[0m\u001b[0m\n\u001b[1;32m      2\u001b[0m \u001b[0;34m\u001b[0m\u001b[0m\n\u001b[0;32m----> 3\u001b[0;31m \u001b[0mnama_teman_set\u001b[0m\u001b[0;34m.\u001b[0m\u001b[0mremove\u001b[0m\u001b[0;34m(\u001b[0m\u001b[0;34m'Tina'\u001b[0m\u001b[0;34m)\u001b[0m\u001b[0;34m\u001b[0m\u001b[0;34m\u001b[0m\u001b[0m\n\u001b[0m\u001b[1;32m      4\u001b[0m \u001b[0mprint\u001b[0m\u001b[0;34m(\u001b[0m\u001b[0mnama_teman_set\u001b[0m\u001b[0;34m)\u001b[0m\u001b[0;34m\u001b[0m\u001b[0;34m\u001b[0m\u001b[0m\n",
            "\u001b[0;31mKeyError\u001b[0m: 'Tina'"
          ]
        }
      ],
      "source": [
        "# Apa yang terjadi jika mencoba untuk me-remove elemen yang tidak ada pada set??\n",
        "\n",
        "nama_teman_set.remove('Tina')\n",
        "print(nama_teman_set)"
      ]
    },
    {
      "cell_type": "code",
      "execution_count": 70,
      "metadata": {
        "id": "2Rhif0mLCyWQ",
        "colab": {
          "base_uri": "https://localhost:8080/"
        },
        "outputId": "1c80908f-cc81-442d-93c5-8f753f070170"
      },
      "outputs": [
        {
          "output_type": "stream",
          "name": "stdout",
          "text": [
            "{'Dimas', 'Edi', 'Beni', 'Ani', 'Cinta', 'Amir'}\n"
          ]
        }
      ],
      "source": [
        "# Men-discard (menghapus) 'Firman' dari set\n",
        "\n",
        "nama_teman_set.discard('Firman')\n",
        "\n",
        "print(nama_teman_set)"
      ]
    },
    {
      "cell_type": "code",
      "execution_count": 71,
      "metadata": {
        "id": "Aw4neUI5HU5_",
        "colab": {
          "base_uri": "https://localhost:8080/"
        },
        "outputId": "234ba592-5aff-46b8-dc11-5628a1e8bc3d"
      },
      "outputs": [
        {
          "output_type": "stream",
          "name": "stdout",
          "text": [
            "{'Dimas', 'Edi', 'Beni', 'Ani', 'Cinta', 'Amir'}\n"
          ]
        }
      ],
      "source": [
        "# Men-discard elemen yang tidak ada pada set\n",
        "\n",
        "nama_teman_set.discard('Paimin')\n",
        "print(nama_teman_set)"
      ]
    },
    {
      "cell_type": "markdown",
      "metadata": {
        "id": "Q59wcpT2IrxT"
      },
      "source": [
        "### *Common Sequence Operators*\n",
        "\n",
        "Karena perbedaan karakteristik elemen pada `set`, maka tidak seluruh *common sequence operators* dapat dikenakan. Berikut ini adalah beberapa operators yang dapat dikenakan terhadap sebuah `set`:"
      ]
    },
    {
      "cell_type": "code",
      "execution_count": 72,
      "metadata": {
        "id": "Pww11NJrO7pk",
        "colab": {
          "base_uri": "https://localhost:8080/"
        },
        "outputId": "db52b7dc-6527-4335-8eda-98baeba2e280"
      },
      "outputs": [
        {
          "output_type": "stream",
          "name": "stdout",
          "text": [
            "Jumlah elemen pada nama_teman_set: 6 elemen\n"
          ]
        }
      ],
      "source": [
        "# Menampilkan jumlah elemen pada nama_teman_set\n",
        "print(f\"Jumlah elemen pada nama_teman_set: {len(nama_teman_set)} elemen\")"
      ]
    },
    {
      "cell_type": "code",
      "execution_count": 73,
      "metadata": {
        "id": "omK8DzYOOtJg",
        "colab": {
          "base_uri": "https://localhost:8080/",
          "height": 36
        },
        "outputId": "8751865c-e304-400c-f1d7-ff79568af9a9"
      },
      "outputs": [
        {
          "output_type": "execute_result",
          "data": {
            "text/plain": [
              "'Edi'"
            ],
            "application/vnd.google.colaboratory.intrinsic+json": {
              "type": "string"
            }
          },
          "metadata": {},
          "execution_count": 73
        }
      ],
      "source": [
        "# Mencari nilai max\n",
        "max(nama_teman_set)"
      ]
    },
    {
      "cell_type": "code",
      "execution_count": 74,
      "metadata": {
        "id": "j9APrqioOtJg",
        "colab": {
          "base_uri": "https://localhost:8080/",
          "height": 36
        },
        "outputId": "036a66b3-0e21-41bb-b46e-fdbb932d6d54"
      },
      "outputs": [
        {
          "output_type": "execute_result",
          "data": {
            "text/plain": [
              "'Amir'"
            ],
            "application/vnd.google.colaboratory.intrinsic+json": {
              "type": "string"
            }
          },
          "metadata": {},
          "execution_count": 74
        }
      ],
      "source": [
        "# Mencari nilai min\n",
        "min(nama_teman_set)"
      ]
    },
    {
      "cell_type": "code",
      "execution_count": 75,
      "metadata": {
        "id": "2_wDacRGOtJg",
        "colab": {
          "base_uri": "https://localhost:8080/"
        },
        "outputId": "b86a9de7-9ed1-44e4-bf1a-f3a075cc809d"
      },
      "outputs": [
        {
          "output_type": "execute_result",
          "data": {
            "text/plain": [
              "True"
            ]
          },
          "metadata": {},
          "execution_count": 75
        }
      ],
      "source": [
        "# Melakukan pengecekan keberadaan 'Ani' pada nama_teman_set\n",
        "'Ani' in nama_teman_set"
      ]
    },
    {
      "cell_type": "code",
      "execution_count": 76,
      "metadata": {
        "id": "YzLj800SOtJg",
        "colab": {
          "base_uri": "https://localhost:8080/"
        },
        "outputId": "8a051657-fbad-4f7a-86b5-0ada7728f693"
      },
      "outputs": [
        {
          "output_type": "execute_result",
          "data": {
            "text/plain": [
              "False"
            ]
          },
          "metadata": {},
          "execution_count": 76
        }
      ],
      "source": [
        "# Melakukan pengecekan ketidak-adaan 'Ani' pada nama_teman_set\n",
        "'Ani' not in nama_teman_set"
      ]
    },
    {
      "cell_type": "markdown",
      "source": [
        "### `Set` Operations & Methods"
      ],
      "metadata": {
        "id": "FWR0u2qqRPlU"
      }
    },
    {
      "cell_type": "code",
      "execution_count": 77,
      "metadata": {
        "id": "l8ALKKIfDTLH",
        "colab": {
          "base_uri": "https://localhost:8080/"
        },
        "outputId": "cdae91b9-8ae7-4b05-b533-91e09a1afe27"
      },
      "outputs": [
        {
          "output_type": "stream",
          "name": "stdout",
          "text": [
            "Union dari nama_teman_set & teman_lama_set: {'Dimas', 'Edi', 'Beni', 'Ani', 'Cinta', 'Amir', 'Rhoma', 'Soneta', 'Ridho'}\n"
          ]
        }
      ],
      "source": [
        "# Menggabungkan dua buah set dengan method 'union()'\n",
        "\n",
        "print(f\"Union dari nama_teman_set & teman_lama_set: {nama_teman_set.union(teman_lama_set)}\")"
      ]
    },
    {
      "cell_type": "code",
      "execution_count": 78,
      "metadata": {
        "id": "qTdD3pxHS705",
        "colab": {
          "base_uri": "https://localhost:8080/"
        },
        "outputId": "913408e8-6439-41cc-8c7f-789ba9484b5f"
      },
      "outputs": [
        {
          "output_type": "stream",
          "name": "stdout",
          "text": [
            "Union dari nama_teman_set & teman_lama_set: {'Dimas', 'Edi', 'Beni', 'Ani', 'Cinta', 'Amir', 'Rhoma', 'Soneta', 'Ridho'}\n"
          ]
        }
      ],
      "source": [
        "# Menggabungkan dua buah set dengan operator '|'\n",
        "\n",
        "print(f\"Union dari nama_teman_set & teman_lama_set: {nama_teman_set | teman_lama_set}\")"
      ]
    },
    {
      "cell_type": "code",
      "execution_count": 79,
      "metadata": {
        "id": "ugqbj_qDC_gL",
        "colab": {
          "base_uri": "https://localhost:8080/"
        },
        "outputId": "7544f9dc-2777-4583-d37a-dff308c0a11e"
      },
      "outputs": [
        {
          "output_type": "stream",
          "name": "stdout",
          "text": [
            "Elemen nama_teman_set yang tidak ada pada teman_lama_set: {'Edi', 'Dimas', 'Beni', 'Cinta', 'Amir'}\n"
          ]
        }
      ],
      "source": [
        "# Mencari elemen yang berbeda pada dua buah set dengan method 'difference()'\n",
        "\n",
        "print(f\"Elemen nama_teman_set yang tidak ada pada teman_lama_set: {nama_teman_set.difference(teman_lama_set)}\")"
      ]
    },
    {
      "cell_type": "code",
      "execution_count": 80,
      "metadata": {
        "id": "bxScuT_oTIkq",
        "colab": {
          "base_uri": "https://localhost:8080/"
        },
        "outputId": "8960a66d-3d1c-41b0-fe6f-d20e88ea0245"
      },
      "outputs": [
        {
          "output_type": "stream",
          "name": "stdout",
          "text": [
            "Elemen nama_teman_set yang tidak ada pada teman_lama_set: {'Edi', 'Dimas', 'Beni', 'Cinta', 'Amir'}\n"
          ]
        }
      ],
      "source": [
        "# Mencari elemen yang berbeda pada dua buah set dengan operator '-'\n",
        "\n",
        "print(f\"Elemen nama_teman_set yang tidak ada pada teman_lama_set: {nama_teman_set - teman_lama_set}\")"
      ]
    },
    {
      "cell_type": "code",
      "execution_count": 81,
      "metadata": {
        "id": "dJ1lYuGHDI3G",
        "colab": {
          "base_uri": "https://localhost:8080/"
        },
        "outputId": "8e3633fd-fd7d-4944-925a-bc0fb46edde8"
      },
      "outputs": [
        {
          "output_type": "stream",
          "name": "stdout",
          "text": [
            "Elemen nama_teman_set yang beririsan dengan teman_lama_set: {'Ani'}\n"
          ]
        }
      ],
      "source": [
        "# Mencari elemen yang beririsan pada dua buah set dengan method 'intersection()'\n",
        "\n",
        "print(f\"Elemen nama_teman_set yang beririsan dengan teman_lama_set: {nama_teman_set.intersection(teman_lama_set)}\")"
      ]
    },
    {
      "cell_type": "code",
      "source": [
        "# Mencari elemen yang beririsan pada dua buah set dengan operator '&'\n",
        "\n",
        "print(f\"Elemen nama_teman_set yang beririsan dengan teman_lama_set: {nama_teman_set & teman_lama_set}\")"
      ],
      "metadata": {
        "id": "oqwB3CW9TUnW",
        "colab": {
          "base_uri": "https://localhost:8080/"
        },
        "outputId": "c1426ce1-c46f-48a8-9c89-d283cad38aa8"
      },
      "execution_count": 82,
      "outputs": [
        {
          "output_type": "stream",
          "name": "stdout",
          "text": [
            "Elemen nama_teman_set yang beririsan dengan teman_lama_set: {'Ani'}\n"
          ]
        }
      ]
    },
    {
      "cell_type": "markdown",
      "source": [
        "___\n",
        "### `SET` EXERCISE\n",
        "1. Buat sebuah object `pd.Series` berisi setiap elemen pada kolom `State` pada `df_sales`;\n",
        "2. Cek Tipe object yang dihasilkan proses di atas;\n",
        "3. Cek jumlah elemen pada object tersebut;\n",
        "4. Ubah object tersebut menjadi sebuah `set`;\n",
        "5. Cek jumlah elemen pada `set` tersebut;\n",
        "6. Cek isi dari `set` tersebut;\n",
        "7. Cobalah untuk melihat elemen urutan pertama dari `set` tersebut;\n",
        "8. Tampilkan ke layar setiap elemen pada `set` tersebut menggunakan loop.\n"
      ],
      "metadata": {
        "id": "z2i_C8Z2VYMY"
      }
    },
    {
      "cell_type": "code",
      "source": [
        "# Buat series assign ke variabel `States_Recorded`\n",
        "States_Recorded = df_sales['State']"
      ],
      "metadata": {
        "id": "VwLrE5_cVcs7"
      },
      "execution_count": 83,
      "outputs": []
    },
    {
      "cell_type": "code",
      "source": [
        "# Cek Tipe data\n",
        "type(States_Recorded)"
      ],
      "metadata": {
        "id": "BD0T6cMCcxRc",
        "colab": {
          "base_uri": "https://localhost:8080/",
          "height": 205
        },
        "outputId": "961d1693-83f1-4256-9150-a8acbe3e453d"
      },
      "execution_count": 84,
      "outputs": [
        {
          "output_type": "execute_result",
          "data": {
            "text/plain": [
              "pandas.core.series.Series"
            ],
            "text/html": [
              "<div style=\"max-width:800px; border: 1px solid var(--colab-border-color);\"><style>\n",
              "      pre.function-repr-contents {\n",
              "        overflow-x: auto;\n",
              "        padding: 8px 12px;\n",
              "        max-height: 500px;\n",
              "      }\n",
              "\n",
              "      pre.function-repr-contents.function-repr-contents-collapsed {\n",
              "        cursor: pointer;\n",
              "        max-height: 100px;\n",
              "      }\n",
              "    </style>\n",
              "    <pre style=\"white-space: initial; background:\n",
              "         var(--colab-secondary-surface-color); padding: 8px 12px;\n",
              "         border-bottom: 1px solid var(--colab-border-color);\"><b>pandas.core.series.Series</b><br/>def __init__(data=None, index=None, dtype: Dtype | None=None, name=None, copy: bool | None=None, fastpath: bool | lib.NoDefault=lib.no_default) -&gt; None</pre><pre class=\"function-repr-contents function-repr-contents-collapsed\" style=\"\"><a class=\"filepath\" style=\"display:none\" href=\"#\">/usr/local/lib/python3.10/dist-packages/pandas/core/series.py</a>One-dimensional ndarray with axis labels (including time series).\n",
              "\n",
              "Labels need not be unique but must be a hashable type. The object\n",
              "supports both integer- and label-based indexing and provides a host of\n",
              "methods for performing operations involving the index. Statistical\n",
              "methods from ndarray have been overridden to automatically exclude\n",
              "missing data (currently represented as NaN).\n",
              "\n",
              "Operations between Series (+, -, /, \\*, \\*\\*) align values based on their\n",
              "associated index values-- they need not be the same length. The result\n",
              "index will be the sorted union of the two indexes.\n",
              "\n",
              "Parameters\n",
              "----------\n",
              "data : array-like, Iterable, dict, or scalar value\n",
              "    Contains data stored in Series. If data is a dict, argument order is\n",
              "    maintained.\n",
              "index : array-like or Index (1d)\n",
              "    Values must be hashable and have the same length as `data`.\n",
              "    Non-unique index values are allowed. Will default to\n",
              "    RangeIndex (0, 1, 2, ..., n) if not provided. If data is dict-like\n",
              "    and index is None, then the keys in the data are used as the index. If the\n",
              "    index is not None, the resulting Series is reindexed with the index values.\n",
              "dtype : str, numpy.dtype, or ExtensionDtype, optional\n",
              "    Data type for the output Series. If not specified, this will be\n",
              "    inferred from `data`.\n",
              "    See the :ref:`user guide &lt;basics.dtypes&gt;` for more usages.\n",
              "name : Hashable, default None\n",
              "    The name to give to the Series.\n",
              "copy : bool, default False\n",
              "    Copy input data. Only affects Series or 1d ndarray input. See examples.\n",
              "\n",
              "Notes\n",
              "-----\n",
              "Please reference the :ref:`User Guide &lt;basics.series&gt;` for more information.\n",
              "\n",
              "Examples\n",
              "--------\n",
              "Constructing Series from a dictionary with an Index specified\n",
              "\n",
              "&gt;&gt;&gt; d = {&#x27;a&#x27;: 1, &#x27;b&#x27;: 2, &#x27;c&#x27;: 3}\n",
              "&gt;&gt;&gt; ser = pd.Series(data=d, index=[&#x27;a&#x27;, &#x27;b&#x27;, &#x27;c&#x27;])\n",
              "&gt;&gt;&gt; ser\n",
              "a   1\n",
              "b   2\n",
              "c   3\n",
              "dtype: int64\n",
              "\n",
              "The keys of the dictionary match with the Index values, hence the Index\n",
              "values have no effect.\n",
              "\n",
              "&gt;&gt;&gt; d = {&#x27;a&#x27;: 1, &#x27;b&#x27;: 2, &#x27;c&#x27;: 3}\n",
              "&gt;&gt;&gt; ser = pd.Series(data=d, index=[&#x27;x&#x27;, &#x27;y&#x27;, &#x27;z&#x27;])\n",
              "&gt;&gt;&gt; ser\n",
              "x   NaN\n",
              "y   NaN\n",
              "z   NaN\n",
              "dtype: float64\n",
              "\n",
              "Note that the Index is first build with the keys from the dictionary.\n",
              "After this the Series is reindexed with the given Index values, hence we\n",
              "get all NaN as a result.\n",
              "\n",
              "Constructing Series from a list with `copy=False`.\n",
              "\n",
              "&gt;&gt;&gt; r = [1, 2]\n",
              "&gt;&gt;&gt; ser = pd.Series(r, copy=False)\n",
              "&gt;&gt;&gt; ser.iloc[0] = 999\n",
              "&gt;&gt;&gt; r\n",
              "[1, 2]\n",
              "&gt;&gt;&gt; ser\n",
              "0    999\n",
              "1      2\n",
              "dtype: int64\n",
              "\n",
              "Due to input data type the Series has a `copy` of\n",
              "the original data even though `copy=False`, so\n",
              "the data is unchanged.\n",
              "\n",
              "Constructing Series from a 1d ndarray with `copy=False`.\n",
              "\n",
              "&gt;&gt;&gt; r = np.array([1, 2])\n",
              "&gt;&gt;&gt; ser = pd.Series(r, copy=False)\n",
              "&gt;&gt;&gt; ser.iloc[0] = 999\n",
              "&gt;&gt;&gt; r\n",
              "array([999,   2])\n",
              "&gt;&gt;&gt; ser\n",
              "0    999\n",
              "1      2\n",
              "dtype: int64\n",
              "\n",
              "Due to input data type the Series has a `view` on\n",
              "the original data, so\n",
              "the data is changed as well.</pre>\n",
              "      <script>\n",
              "      if (google.colab.kernel.accessAllowed && google.colab.files && google.colab.files.view) {\n",
              "        for (const element of document.querySelectorAll('.filepath')) {\n",
              "          element.style.display = 'block'\n",
              "          element.onclick = (event) => {\n",
              "            event.preventDefault();\n",
              "            event.stopPropagation();\n",
              "            google.colab.files.view(element.textContent, 263);\n",
              "          };\n",
              "        }\n",
              "      }\n",
              "      for (const element of document.querySelectorAll('.function-repr-contents')) {\n",
              "        element.onclick = (event) => {\n",
              "          event.preventDefault();\n",
              "          event.stopPropagation();\n",
              "          element.classList.toggle('function-repr-contents-collapsed');\n",
              "        };\n",
              "      }\n",
              "      </script>\n",
              "      </div>"
            ]
          },
          "metadata": {},
          "execution_count": 84
        }
      ]
    },
    {
      "cell_type": "code",
      "source": [
        "# Check panjang dari series\n",
        "len(States_Recorded)"
      ],
      "metadata": {
        "id": "eAuKRoZbb5aI",
        "colab": {
          "base_uri": "https://localhost:8080/"
        },
        "outputId": "87de20cd-a062-491d-e59e-587405950d84"
      },
      "execution_count": 85,
      "outputs": [
        {
          "output_type": "execute_result",
          "data": {
            "text/plain": [
              "9994"
            ]
          },
          "metadata": {},
          "execution_count": 85
        }
      ]
    },
    {
      "cell_type": "code",
      "source": [
        "# Buat sebuah set dari `States_Recorded` assign ke variabel `States_Set`\n",
        "States_Set = set(States_Recorded)"
      ],
      "metadata": {
        "id": "6eq3FfBDZIrx"
      },
      "execution_count": 86,
      "outputs": []
    },
    {
      "cell_type": "code",
      "source": [
        "# Cek panjang dari set\n",
        "len(States_Set)"
      ],
      "metadata": {
        "id": "OVMmvwVBj545",
        "colab": {
          "base_uri": "https://localhost:8080/"
        },
        "outputId": "0d91c0d7-ac50-49cd-8a4d-ea34e7caf28b"
      },
      "execution_count": 88,
      "outputs": [
        {
          "output_type": "execute_result",
          "data": {
            "text/plain": [
              "49"
            ]
          },
          "metadata": {},
          "execution_count": 88
        }
      ]
    },
    {
      "cell_type": "code",
      "source": [
        "# Lihat isi dari Set\n",
        "States_Set"
      ],
      "metadata": {
        "id": "hcVX_D8NjfA5",
        "colab": {
          "base_uri": "https://localhost:8080/"
        },
        "outputId": "bbbc9cc8-2c15-4aa2-eee6-8fbe5c417d0a"
      },
      "execution_count": 89,
      "outputs": [
        {
          "output_type": "execute_result",
          "data": {
            "text/plain": [
              "{'Alabama',\n",
              " 'Arizona',\n",
              " 'Arkansas',\n",
              " 'California',\n",
              " 'Colorado',\n",
              " 'Connecticut',\n",
              " 'Delaware',\n",
              " 'District of Columbia',\n",
              " 'Florida',\n",
              " 'Georgia',\n",
              " 'Idaho',\n",
              " 'Illinois',\n",
              " 'Indiana',\n",
              " 'Iowa',\n",
              " 'Kansas',\n",
              " 'Kentucky',\n",
              " 'Louisiana',\n",
              " 'Maine',\n",
              " 'Maryland',\n",
              " 'Massachusetts',\n",
              " 'Michigan',\n",
              " 'Minnesota',\n",
              " 'Mississippi',\n",
              " 'Missouri',\n",
              " 'Montana',\n",
              " 'Nebraska',\n",
              " 'Nevada',\n",
              " 'New Hampshire',\n",
              " 'New Jersey',\n",
              " 'New Mexico',\n",
              " 'New York',\n",
              " 'North Carolina',\n",
              " 'North Dakota',\n",
              " 'Ohio',\n",
              " 'Oklahoma',\n",
              " 'Oregon',\n",
              " 'Pennsylvania',\n",
              " 'Rhode Island',\n",
              " 'South Carolina',\n",
              " 'South Dakota',\n",
              " 'Tennessee',\n",
              " 'Texas',\n",
              " 'Utah',\n",
              " 'Vermont',\n",
              " 'Virginia',\n",
              " 'Washington',\n",
              " 'West Virginia',\n",
              " 'Wisconsin',\n",
              " 'Wyoming'}"
            ]
          },
          "metadata": {},
          "execution_count": 89
        }
      ]
    },
    {
      "cell_type": "code",
      "source": [
        "# Cobalah untuk melihat elemen pertama\n",
        "States_Set[0]"
      ],
      "metadata": {
        "id": "7hZDwGVrkg3M",
        "colab": {
          "base_uri": "https://localhost:8080/",
          "height": 159
        },
        "outputId": "1ac0e540-2fc7-435e-d9a2-37a52133e043"
      },
      "execution_count": 90,
      "outputs": [
        {
          "output_type": "error",
          "ename": "TypeError",
          "evalue": "'set' object is not subscriptable",
          "traceback": [
            "\u001b[0;31m---------------------------------------------------------------------------\u001b[0m",
            "\u001b[0;31mTypeError\u001b[0m                                 Traceback (most recent call last)",
            "\u001b[0;32m<ipython-input-90-02b97335d05c>\u001b[0m in \u001b[0;36m<cell line: 2>\u001b[0;34m()\u001b[0m\n\u001b[1;32m      1\u001b[0m \u001b[0;31m# Cobalah untuk melihat elemen pertama\u001b[0m\u001b[0;34m\u001b[0m\u001b[0;34m\u001b[0m\u001b[0m\n\u001b[0;32m----> 2\u001b[0;31m \u001b[0mStates_Set\u001b[0m\u001b[0;34m[\u001b[0m\u001b[0;36m0\u001b[0m\u001b[0;34m]\u001b[0m\u001b[0;34m\u001b[0m\u001b[0;34m\u001b[0m\u001b[0m\n\u001b[0m",
            "\u001b[0;31mTypeError\u001b[0m: 'set' object is not subscriptable"
          ]
        }
      ]
    },
    {
      "cell_type": "code",
      "source": [
        "# Print setiap elemen pada States_Set menggunakan for loop\n",
        "for state in States_Set:\n",
        "  print(state)"
      ],
      "metadata": {
        "id": "BRSREdmlk2tM",
        "colab": {
          "base_uri": "https://localhost:8080/"
        },
        "outputId": "0f611999-0039-4ca8-d25e-efd049e975a3"
      },
      "execution_count": 91,
      "outputs": [
        {
          "output_type": "stream",
          "name": "stdout",
          "text": [
            "West Virginia\n",
            "Maine\n",
            "Vermont\n",
            "Virginia\n",
            "Texas\n",
            "Nebraska\n",
            "Alabama\n",
            "Oregon\n",
            "Rhode Island\n",
            "Maryland\n",
            "Wyoming\n",
            "Kansas\n",
            "Colorado\n",
            "Massachusetts\n",
            "Montana\n",
            "Pennsylvania\n",
            "South Carolina\n",
            "Ohio\n",
            "Arizona\n",
            "Missouri\n",
            "Connecticut\n",
            "Iowa\n",
            "Mississippi\n",
            "New Hampshire\n",
            "Tennessee\n",
            "Florida\n",
            "Minnesota\n",
            "Louisiana\n",
            "South Dakota\n",
            "New Mexico\n",
            "Delaware\n",
            "Indiana\n",
            "Michigan\n",
            "New York\n",
            "Nevada\n",
            "Wisconsin\n",
            "North Dakota\n",
            "Illinois\n",
            "Idaho\n",
            "North Carolina\n",
            "Georgia\n",
            "Utah\n",
            "District of Columbia\n",
            "California\n",
            "Washington\n",
            "Oklahoma\n",
            "New Jersey\n",
            "Arkansas\n",
            "Kentucky\n"
          ]
        }
      ]
    },
    {
      "cell_type": "markdown",
      "metadata": {
        "id": "TXlh9tERrM-H"
      },
      "source": [
        "---\n",
        "## `Dictionary`\n",
        "> `Dictionary` adalah struktur data dalam Python yang menyimpan data dalam bentuk pasangan *key*--*value*, merupakan jenis data yang sangat berguna saat kita ingin mengasosiasikan atau melakukan pemetaan data.\n",
        "\n",
        "Dictionary memiliki karakteristik sebagai berikut:\n",
        "- ***Unordered***: Urutan pasangan `key-value` dalam `dictionary` tidak dijamin konsisten dan bisa berubah seiring waktu.\n",
        "- ***Mutable***: Dimungkinkan untuk mengubah, menambah, atau menghapus pasangan `key-value` setelah `dictionary` dibuat.\n",
        "- ***Indexed by Keys***: Akses elemen `dictionary` dilakukan menggunakan `key`, bukan posisi index seperti pada `list`.\n",
        "- ***Unique Keys***: Setiap *key* dalam `dictionary` harus unik. Jika terdapat `value` dengan `key` terduplikat, maka value terakhir yang ditambahkan akan otomatis menggantikan `value` sebelumnya.\n",
        "- ***Heterogeneous Values***: `value` yang disimpan dalam `dictionary` dapat berupa objek dengan tipe data apa pun, termasuk `list`, `tuple`, `set`, atau bahkan `dictionary` lainnya."
      ]
    },
    {
      "cell_type": "markdown",
      "source": [
        "### `Dictionary` Construction\n",
        "Beberapa cara yang lazim digunakan untuk menyusun `dictionary`:\n",
        "1. `type literals`:\n",
        "```python\n",
        "nama_dictionary = {} # Membuat dictionary kosong\n",
        "nama_dictionary = {\n",
        "  'key_1': 'value_1',\n",
        "  'key_2': 'value_2',\n",
        "  'key_n': 'value_n'\n",
        "}\n",
        "```\n",
        "2. `dict constructor`:\n",
        "```python\n",
        "nama_dictionary = dict() # Membuat dictionary kosong\n",
        "nama_dictionary = dict(\n",
        "   key_1='value_1',\n",
        "   key_2='value_2',\n",
        "   key_n='value_n'\n",
        ")\n",
        "```\n",
        "3. `zip method`:\n",
        "```python\n",
        "keys = ['key1', 'key2', 'key3']\n",
        "values = ['value1', 'value2', 'value3']\n",
        "nama_dict = dict(zip(keys, values))\n",
        "```"
      ],
      "metadata": {
        "id": "_QI9MQ0rgH15"
      }
    },
    {
      "cell_type": "code",
      "execution_count": 92,
      "metadata": {
        "id": "YIXprrdEkAkX",
        "colab": {
          "base_uri": "https://localhost:8080/"
        },
        "outputId": "03acea28-a700-4c2d-b087-131105c9b7af"
      },
      "outputs": [
        {
          "output_type": "stream",
          "name": "stdout",
          "text": [
            "{'Nama': 'Dicky', 'Usia': 30, 'Role': 'Data Analyst', 'Dept': 'Marketing'}\n"
          ]
        }
      ],
      "source": [
        "# Membuat dictionary dengan literals\n",
        "\n",
        "pegawai_1 = {\n",
        "\t'Nama': 'Dicky',\n",
        "\t'Usia': 30,\n",
        "\t'Role': 'Data Analyst',\n",
        "\t'Dept': 'Marketing'\n",
        "}\n",
        "print(pegawai_1)"
      ]
    },
    {
      "cell_type": "code",
      "source": [
        "# Membuat dictionary dengan constructor\n",
        "\n",
        "pegawai_2 = dict(\n",
        "    Nama='Dika',\n",
        "    Usia=25,\n",
        "    Role='Data Analyst',\n",
        "    Dept='Marketing'\n",
        ")\n",
        "print(pegawai_2)"
      ],
      "metadata": {
        "id": "mpuHsM4OhuOE",
        "colab": {
          "base_uri": "https://localhost:8080/"
        },
        "outputId": "2c49bd32-3827-458a-9394-0b696d54b82b"
      },
      "execution_count": 93,
      "outputs": [
        {
          "output_type": "stream",
          "name": "stdout",
          "text": [
            "{'Nama': 'Dika', 'Usia': 25, 'Role': 'Data Analyst', 'Dept': 'Marketing'}\n"
          ]
        }
      ]
    },
    {
      "cell_type": "markdown",
      "source": [
        "### Accessing elements of `dictionary`"
      ],
      "metadata": {
        "id": "us0Ck0k9kBnn"
      }
    },
    {
      "cell_type": "code",
      "execution_count": 94,
      "metadata": {
        "id": "Li8_-BDEs7WW",
        "colab": {
          "base_uri": "https://localhost:8080/",
          "height": 211
        },
        "outputId": "2c979a23-3e99-480d-c9e4-8c756ff45660"
      },
      "outputs": [
        {
          "output_type": "stream",
          "name": "stdout",
          "text": [
            "Dicky\n"
          ]
        },
        {
          "output_type": "error",
          "ename": "KeyError",
          "evalue": "'Gaji'",
          "traceback": [
            "\u001b[0;31m---------------------------------------------------------------------------\u001b[0m",
            "\u001b[0;31mKeyError\u001b[0m                                  Traceback (most recent call last)",
            "\u001b[0;32m<ipython-input-94-92ce078d3045>\u001b[0m in \u001b[0;36m<cell line: 4>\u001b[0;34m()\u001b[0m\n\u001b[1;32m      2\u001b[0m \u001b[0;34m\u001b[0m\u001b[0m\n\u001b[1;32m      3\u001b[0m \u001b[0mprint\u001b[0m\u001b[0;34m(\u001b[0m\u001b[0mpegawai_1\u001b[0m\u001b[0;34m[\u001b[0m\u001b[0;34m'Nama'\u001b[0m\u001b[0;34m]\u001b[0m\u001b[0;34m)\u001b[0m\u001b[0;34m\u001b[0m\u001b[0;34m\u001b[0m\u001b[0m\n\u001b[0;32m----> 4\u001b[0;31m \u001b[0mprint\u001b[0m\u001b[0;34m(\u001b[0m\u001b[0mpegawai_1\u001b[0m\u001b[0;34m[\u001b[0m\u001b[0;34m'Gaji'\u001b[0m\u001b[0;34m]\u001b[0m\u001b[0;34m)\u001b[0m \u001b[0;31m# Memanggil key yang tidak terdapat pada dictionary akan menyebabkan error\u001b[0m\u001b[0;34m\u001b[0m\u001b[0;34m\u001b[0m\u001b[0m\n\u001b[0m",
            "\u001b[0;31mKeyError\u001b[0m: 'Gaji'"
          ]
        }
      ],
      "source": [
        "# Memanggil value dari dictionary menggunakan key\n",
        "\n",
        "print(pegawai_1['Nama'])\n",
        "print(pegawai_1['Gaji']) # Memanggil key yang tidak terdapat pada dictionary akan menyebabkan error"
      ]
    },
    {
      "cell_type": "code",
      "source": [
        "# Memanggil value dari dictionary menggunakan method 'get()'\n",
        "\n",
        "print(pegawai_1.get('Nama'))\n",
        "print(pegawai_1.get('Gaji')) # Memanggil key yang tidak ada, tidak menyebabkan error\n",
        "print(pegawai_1.get('Gaji', 'Key tersebut tidak ada!'))"
      ],
      "metadata": {
        "id": "k-I6YksTkgB0",
        "colab": {
          "base_uri": "https://localhost:8080/"
        },
        "outputId": "7b17f78d-8c67-41c3-81ea-9b63ffd640ab"
      },
      "execution_count": 95,
      "outputs": [
        {
          "output_type": "stream",
          "name": "stdout",
          "text": [
            "Dicky\n",
            "None\n",
            "Key tersebut tidak ada!\n"
          ]
        }
      ]
    },
    {
      "cell_type": "markdown",
      "source": [
        "### Growing and Shrinking `dictionary`"
      ],
      "metadata": {
        "id": "_bQhl8IhlmUC"
      }
    },
    {
      "cell_type": "code",
      "execution_count": 96,
      "metadata": {
        "id": "6iyvfORls9z0",
        "colab": {
          "base_uri": "https://localhost:8080/"
        },
        "outputId": "c77d090a-f4e2-45a2-8b72-296f805e13ee"
      },
      "outputs": [
        {
          "output_type": "stream",
          "name": "stdout",
          "text": [
            "{'Nama': 'Ricky', 'Usia': 30, 'Role': 'Data Analyst', 'Dept': 'Marketing'}\n"
          ]
        }
      ],
      "source": [
        "# Mengganti nilai pada dictionary\n",
        "\n",
        "pegawai_1['Nama'] = 'Ricky'\n",
        "\n",
        "print(pegawai_1)"
      ]
    },
    {
      "cell_type": "code",
      "execution_count": 97,
      "metadata": {
        "id": "btXvZzcctAe_",
        "colab": {
          "base_uri": "https://localhost:8080/"
        },
        "outputId": "5b3d890d-e43b-4d4a-f4f6-323353c0cf60"
      },
      "outputs": [
        {
          "output_type": "stream",
          "name": "stdout",
          "text": [
            "{'Nama': 'Ricky', 'Usia': 30, 'Role': 'Data Analyst', 'Dept': 'Marketing', 'Gaji': 10000000}\n",
            "{'Nama': 'Dika', 'Usia': 25, 'Role': 'Data Analyst', 'Dept': 'Marketing', 'Gaji': 9500000}\n"
          ]
        }
      ],
      "source": [
        "# Menambahkan key baru beserta valuenya\n",
        "\n",
        "pegawai_1['Gaji'] = 10_000_000\n",
        "pegawai_2['Gaji'] = 9_500_000\n",
        "\n",
        "print(pegawai_1)\n",
        "print(pegawai_2)"
      ]
    },
    {
      "cell_type": "code",
      "execution_count": 98,
      "metadata": {
        "id": "j_7U3L22tBTR",
        "colab": {
          "base_uri": "https://localhost:8080/"
        },
        "outputId": "6612ae74-52ab-4d2e-83a4-38459f8a9700"
      },
      "outputs": [
        {
          "output_type": "stream",
          "name": "stdout",
          "text": [
            "{'Nama': 'Ricky', 'Usia': 30, 'Role': 'Data Analyst', 'Dept': 'Marketing'}\n",
            "{'Nama': 'Dika', 'Usia': 25, 'Role': 'Data Analyst', 'Dept': 'Marketing'}\n"
          ]
        }
      ],
      "source": [
        "# Menghapus key beserta valuenya\n",
        "\n",
        "del pegawai_1['Gaji']\n",
        "del pegawai_2['Gaji']\n",
        "\n",
        "print(pegawai_1)\n",
        "print(pegawai_2)"
      ]
    },
    {
      "cell_type": "markdown",
      "source": [
        "### `Dictionary` methods"
      ],
      "metadata": {
        "id": "f8XizLr5l0pf"
      }
    },
    {
      "cell_type": "code",
      "execution_count": 99,
      "metadata": {
        "id": "onRJzBXktK64",
        "colab": {
          "base_uri": "https://localhost:8080/"
        },
        "outputId": "5b6e3941-30e4-4589-94bf-47b8a9542b86"
      },
      "outputs": [
        {
          "output_type": "execute_result",
          "data": {
            "text/plain": [
              "dict_keys(['Nama', 'Usia', 'Role', 'Dept'])"
            ]
          },
          "metadata": {},
          "execution_count": 99
        }
      ],
      "source": [
        "# Menampilkan daftar key dari dictionary\n",
        "\n",
        "pegawai_1.keys()"
      ]
    },
    {
      "cell_type": "code",
      "execution_count": 100,
      "metadata": {
        "id": "YCIxOTZMuLPk",
        "colab": {
          "base_uri": "https://localhost:8080/"
        },
        "outputId": "3c5143de-f305-4f5c-ada7-4f52fe48ab0c"
      },
      "outputs": [
        {
          "output_type": "execute_result",
          "data": {
            "text/plain": [
              "dict_values(['Ricky', 30, 'Data Analyst', 'Marketing'])"
            ]
          },
          "metadata": {},
          "execution_count": 100
        }
      ],
      "source": [
        "# Menampilkan daftar values\n",
        "\n",
        "pegawai_1.values()"
      ]
    },
    {
      "cell_type": "code",
      "execution_count": 101,
      "metadata": {
        "id": "7wvf6JiuuMep",
        "colab": {
          "base_uri": "https://localhost:8080/"
        },
        "outputId": "639e480f-2dca-416a-e12f-45ab52e542d0"
      },
      "outputs": [
        {
          "output_type": "execute_result",
          "data": {
            "text/plain": [
              "dict_items([('Nama', 'Ricky'), ('Usia', 30), ('Role', 'Data Analyst'), ('Dept', 'Marketing')])"
            ]
          },
          "metadata": {},
          "execution_count": 101
        }
      ],
      "source": [
        "# Menampilkan pasangan key value dalam bentuk list of tuples\n",
        "\n",
        "pegawai_1.items()"
      ]
    },
    {
      "cell_type": "code",
      "execution_count": 102,
      "metadata": {
        "id": "-_fzyG_XuNoa",
        "colab": {
          "base_uri": "https://localhost:8080/"
        },
        "outputId": "fe9ddf6a-5394-4005-99fb-5f4ec25ba533"
      },
      "outputs": [
        {
          "output_type": "stream",
          "name": "stdout",
          "text": [
            "{'Nama': 'Ricky', 'Usia': 30, 'Role': 'Data Analyst', 'Dept': 'Marketing'}\n"
          ]
        }
      ],
      "source": [
        "# menyalin dictionary\n",
        "\n",
        "copy_of_pegawai_1 = pegawai_1.copy()\n",
        "print(copy_of_pegawai_1)"
      ]
    },
    {
      "cell_type": "code",
      "execution_count": 103,
      "metadata": {
        "id": "d0Ozu2fDOfOc",
        "colab": {
          "base_uri": "https://localhost:8080/"
        },
        "outputId": "3b274238-1041-445b-8a50-e49d28d3c496"
      },
      "outputs": [
        {
          "output_type": "stream",
          "name": "stdout",
          "text": [
            "{}\n"
          ]
        }
      ],
      "source": [
        "# menghapus seluruh isi dictionary\n",
        "\n",
        "copy_of_pegawai_1.clear()\n",
        "print(copy_of_pegawai_1)"
      ]
    },
    {
      "cell_type": "code",
      "source": [
        "# Menampilkan data yang disimpan pada sebuah dictionary\n",
        "pegawai_1['Nama']"
      ],
      "metadata": {
        "colab": {
          "base_uri": "https://localhost:8080/",
          "height": 36
        },
        "id": "dL0b1-grvf9V",
        "outputId": "ffcc1f75-2a44-44a9-b7e6-ba436e40568f"
      },
      "execution_count": 104,
      "outputs": [
        {
          "output_type": "execute_result",
          "data": {
            "text/plain": [
              "'Ricky'"
            ],
            "application/vnd.google.colaboratory.intrinsic+json": {
              "type": "string"
            }
          },
          "metadata": {},
          "execution_count": 104
        }
      ]
    },
    {
      "cell_type": "code",
      "source": [
        "# Jika key yang diinput tidak ditemukan pada dictionary\n",
        "pegawai_1['Alamat']"
      ],
      "metadata": {
        "colab": {
          "base_uri": "https://localhost:8080/",
          "height": 159
        },
        "id": "qjF12u9bwBNg",
        "outputId": "3e46966f-fc40-49fa-eaf8-5c14fd975689"
      },
      "execution_count": 105,
      "outputs": [
        {
          "output_type": "error",
          "ename": "KeyError",
          "evalue": "'Alamat'",
          "traceback": [
            "\u001b[0;31m---------------------------------------------------------------------------\u001b[0m",
            "\u001b[0;31mKeyError\u001b[0m                                  Traceback (most recent call last)",
            "\u001b[0;32m<ipython-input-105-61b4dc49ea2c>\u001b[0m in \u001b[0;36m<cell line: 2>\u001b[0;34m()\u001b[0m\n\u001b[1;32m      1\u001b[0m \u001b[0;31m# Jika key yang diinput tidak ditemukan pada dictionary\u001b[0m\u001b[0;34m\u001b[0m\u001b[0;34m\u001b[0m\u001b[0m\n\u001b[0;32m----> 2\u001b[0;31m \u001b[0mpegawai_1\u001b[0m\u001b[0;34m[\u001b[0m\u001b[0;34m'Alamat'\u001b[0m\u001b[0;34m]\u001b[0m\u001b[0;34m\u001b[0m\u001b[0;34m\u001b[0m\u001b[0m\n\u001b[0m",
            "\u001b[0;31mKeyError\u001b[0m: 'Alamat'"
          ]
        }
      ]
    },
    {
      "cell_type": "code",
      "source": [
        "# Agar tidak menghasilkan error saat pencarian data\n",
        "pegawai_1.get('Alamat')"
      ],
      "metadata": {
        "id": "3xIYCr_3wOIc"
      },
      "execution_count": 106,
      "outputs": []
    },
    {
      "cell_type": "code",
      "source": [
        "# Untuk memberikan keterangan \"Data yang dicari tidak ada dalam database!\"\n",
        "pegawai_1.get('Alamat', \"Data yang dicari tidak ada dalam database!\")"
      ],
      "metadata": {
        "colab": {
          "base_uri": "https://localhost:8080/",
          "height": 36
        },
        "id": "wuvU2rEywXRs",
        "outputId": "0d126551-53d5-4c78-be8e-67577cc5376e"
      },
      "execution_count": 107,
      "outputs": [
        {
          "output_type": "execute_result",
          "data": {
            "text/plain": [
              "'Data yang dicari tidak ada dalam database!'"
            ],
            "application/vnd.google.colaboratory.intrinsic+json": {
              "type": "string"
            }
          },
          "metadata": {},
          "execution_count": 107
        }
      ]
    },
    {
      "cell_type": "markdown",
      "source": [
        "### `DICTIONARY` EXERCISE\n",
        "1. Buat sebuah `list` berisikan dua `dictionary` pegawai_1 dan pegawai_2, lalu *assign* ke variabel `list_pegawai`;\n",
        "2. Gunakan teknik `list comprehension` untuk mengambil hanya setiap *values* dari kedua pegawai pada `list_pegawai`;\n",
        "3. Gunakan teknik `list comprehension` untuk mengambil hanya data `Nama` dan `Usia` dari kedua pegawai pada `list_pegawai`;\n",
        "4. Gunakan teknik `list comprehension` untuk melakukan filtering data\n",
        " `Usia` pada `list_pegawai` yang memiliki value `Nama` == 'Dika';\n",
        "5. Gunakan teknis `list comprehension` untuk melakukan filtering data pegawai yang memiliki nilai gaji dibawah 10 juta."
      ],
      "metadata": {
        "id": "I1V_hmANmBTg"
      }
    },
    {
      "cell_type": "code",
      "source": [
        "# 1. Buat list_pegawai\n",
        "list_pegawai = [pegawai_1, pegawai_2]\n",
        "print(list_pegawai)"
      ],
      "metadata": {
        "id": "IjCnzfHXsyxV",
        "colab": {
          "base_uri": "https://localhost:8080/"
        },
        "outputId": "0d416a25-c5be-4597-bdb6-d5bc3530eef5"
      },
      "execution_count": 108,
      "outputs": [
        {
          "output_type": "stream",
          "name": "stdout",
          "text": [
            "[{'Nama': 'Ricky', 'Usia': 30, 'Role': 'Data Analyst', 'Dept': 'Marketing'}, {'Nama': 'Dika', 'Usia': 25, 'Role': 'Data Analyst', 'Dept': 'Marketing'}]\n"
          ]
        }
      ]
    },
    {
      "cell_type": "code",
      "source": [
        "# 2. Tampilkan hanya item values saja\n",
        "[data.values() for data in list_pegawai]"
      ],
      "metadata": {
        "id": "BZNNWswtxcL5",
        "colab": {
          "base_uri": "https://localhost:8080/"
        },
        "outputId": "00a25689-2a07-47c3-974e-db3af6130402"
      },
      "execution_count": 111,
      "outputs": [
        {
          "output_type": "execute_result",
          "data": {
            "text/plain": [
              "[dict_values(['Ricky', 30, 'Data Analyst', 'Marketing']),\n",
              " dict_values(['Dika', 25, 'Data Analyst', 'Marketing'])]"
            ]
          },
          "metadata": {},
          "execution_count": 111
        }
      ]
    },
    {
      "cell_type": "code",
      "source": [
        "# 3. Tampilkan data 'Nama' dan 'Usia' saja\n",
        "[[data['Nama'], data['Usia']] for data in list_pegawai]"
      ],
      "metadata": {
        "id": "M1u1jeLZv8kl",
        "colab": {
          "base_uri": "https://localhost:8080/"
        },
        "outputId": "e518cb81-e7bd-44e5-a4fb-4973a3519f9f"
      },
      "execution_count": 112,
      "outputs": [
        {
          "output_type": "execute_result",
          "data": {
            "text/plain": [
              "[['Ricky', 30], ['Dika', 25]]"
            ]
          },
          "metadata": {},
          "execution_count": 112
        }
      ]
    },
    {
      "cell_type": "code",
      "source": [
        "# 4. Tampilkan hanya data 'Usia' dari pegawai bernama 'Dika'\n",
        "[data['Usia'] for data in list_pegawai if data['Nama']=='Dika']"
      ],
      "metadata": {
        "id": "mY7DUdJ9s-qw",
        "colab": {
          "base_uri": "https://localhost:8080/"
        },
        "outputId": "67ebcc8f-04a3-4a5e-8f63-1e9aebfe6fe7"
      },
      "execution_count": 113,
      "outputs": [
        {
          "output_type": "execute_result",
          "data": {
            "text/plain": [
              "[25]"
            ]
          },
          "metadata": {},
          "execution_count": 113
        }
      ]
    },
    {
      "cell_type": "code",
      "source": [
        "# 5. Tampilkan data pegawai yang nilai 'Gaji' di bawah 10 juta\n",
        "[data for data in list_pegawai if list_pegawai['Gaji']<10_000_000]"
      ],
      "metadata": {
        "id": "Sul4s2AOzEmP",
        "colab": {
          "base_uri": "https://localhost:8080/",
          "height": 228
        },
        "outputId": "f74673e9-9a4b-4697-c0b5-bb2f6a0e65d9"
      },
      "execution_count": 116,
      "outputs": [
        {
          "output_type": "error",
          "ename": "TypeError",
          "evalue": "list indices must be integers or slices, not str",
          "traceback": [
            "\u001b[0;31m---------------------------------------------------------------------------\u001b[0m",
            "\u001b[0;31mTypeError\u001b[0m                                 Traceback (most recent call last)",
            "\u001b[0;32m<ipython-input-116-101aa1763b13>\u001b[0m in \u001b[0;36m<cell line: 2>\u001b[0;34m()\u001b[0m\n\u001b[1;32m      1\u001b[0m \u001b[0;31m# 5. Tampilkan data pegawai yang nilai 'Gaji' di bawah 10 juta\u001b[0m\u001b[0;34m\u001b[0m\u001b[0;34m\u001b[0m\u001b[0m\n\u001b[0;32m----> 2\u001b[0;31m \u001b[0;34m[\u001b[0m\u001b[0mdata\u001b[0m \u001b[0;32mfor\u001b[0m \u001b[0mdata\u001b[0m \u001b[0;32min\u001b[0m \u001b[0mlist_pegawai\u001b[0m \u001b[0;32mif\u001b[0m \u001b[0mlist_pegawai\u001b[0m\u001b[0;34m[\u001b[0m\u001b[0;34m'Gaji'\u001b[0m\u001b[0;34m]\u001b[0m\u001b[0;34m<\u001b[0m\u001b[0;36m10_000_000\u001b[0m\u001b[0;34m]\u001b[0m\u001b[0;34m\u001b[0m\u001b[0;34m\u001b[0m\u001b[0m\n\u001b[0m",
            "\u001b[0;32m<ipython-input-116-101aa1763b13>\u001b[0m in \u001b[0;36m<listcomp>\u001b[0;34m(.0)\u001b[0m\n\u001b[1;32m      1\u001b[0m \u001b[0;31m# 5. Tampilkan data pegawai yang nilai 'Gaji' di bawah 10 juta\u001b[0m\u001b[0;34m\u001b[0m\u001b[0;34m\u001b[0m\u001b[0m\n\u001b[0;32m----> 2\u001b[0;31m \u001b[0;34m[\u001b[0m\u001b[0mdata\u001b[0m \u001b[0;32mfor\u001b[0m \u001b[0mdata\u001b[0m \u001b[0;32min\u001b[0m \u001b[0mlist_pegawai\u001b[0m \u001b[0;32mif\u001b[0m \u001b[0mlist_pegawai\u001b[0m\u001b[0;34m[\u001b[0m\u001b[0;34m'Gaji'\u001b[0m\u001b[0;34m]\u001b[0m\u001b[0;34m<\u001b[0m\u001b[0;36m10_000_000\u001b[0m\u001b[0;34m]\u001b[0m\u001b[0;34m\u001b[0m\u001b[0;34m\u001b[0m\u001b[0m\n\u001b[0m",
            "\u001b[0;31mTypeError\u001b[0m: list indices must be integers or slices, not str"
          ]
        }
      ]
    },
    {
      "cell_type": "markdown",
      "source": [
        "---\n",
        "#### 2. PENGENALAN DATAFRAME CONSTRUCTOR\n",
        "\n",
        "Seperti telah dicontohkan pada pertemuan ke-7 sebelumnya, kegiatan data analytics akan mengharuskan seorang data analyst untuk biasa bekerja dengan object `pd.DataFrame`. Seperti dicontohkan pada ilustrasi di pertemuan tersebut, bahwa data dari kegiatan survey dapat disimpan dalam berbagai object data fundamental python, seperti `list` dan `tuple`, dan di konversi menjadi object `pd.DataFrame` agar memudahkan proses pengolahan, dan analisis lebih lanjutnya.\n",
        "\n",
        "Pada exercise di bawah ini, akan diperkenalkan beberapa methods pada modul `pandas` yang umumnya dipergunakan untuk membangun sebuah dataframe, yaitu:\n",
        "1. `pd.DataFrame`; dan\n",
        "2. `pd.concat`.\n",
        "\n",
        "##### METHOD `pd.DataFrame`\n",
        "Method ini merupakan method yang cukup fleksibel, karena dapat dimanfaatkan untuk menkonversi data yang tersimpan di dalam berbagai jenis object python fundamental, atau pada sebuah object `pd.series`.\n",
        "\n",
        "Hal penting yang harus dipastikan dalam penggunaan method ini adalah:\n",
        "1. Setiap data yang akan dikonversi memiliki **jumlah elemen** yang sama;\n",
        "2. Setiap data yang akan dikonversi memiliki **penulisan index** yang seragam; dan\n",
        "3. Setiap data yang akan dikonversi tersimpan dalam **tipe object** (object fundamental python atau `pd.series`) yang seragam.\n",
        "\n",
        "Berikut ini dicontohkan cara penggunaannya yang disesuaikan dengan jenis object yang akan dikonversi."
      ],
      "metadata": {
        "id": "mt8wui1h0KMs"
      }
    },
    {
      "cell_type": "code",
      "source": [
        "# 1. Mengkonversi beberapa object fundamental python menjadi dataframe\n",
        "# Buat list berisi `kode_tuple`, `nama_teman`, `umur_tuple`, dan `gaji_tuple`\n",
        "list_of_objects = [kode_tuple, nama_teman, umur_tuple, gaji_tuple]\n",
        "# Proses list_of_data menjadi dataframe\n",
        "df_fundamental = (pd                                               # Dari modul pandas\n",
        "                  .DataFrame(                                      # Gunakan method `DataFrame`\n",
        "                      list_of_objects,                             # Untuk mengkonversi list_of_objects\n",
        "                      index=['Kode', 'Nama', 'Umur', 'Gaji'])      # Dengan index sesuai dengan list yang disediakan\n",
        "                  .T                                               # Transpose dataframe\n",
        "                  .set_index('Kode'))                              # Set kolom 'Kode' menjadi index\n",
        "# Check hasil konversi\n",
        "df_fundamental"
      ],
      "metadata": {
        "colab": {
          "base_uri": "https://localhost:8080/",
          "height": 238
        },
        "id": "YDWpUH6y6siX",
        "outputId": "3e7fe5ae-c5ea-4279-8b44-f8f357e6881c"
      },
      "execution_count": 120,
      "outputs": [
        {
          "output_type": "execute_result",
          "data": {
            "text/plain": [
              "       Nama Umur     Gaji\n",
              "Kode                     \n",
              "100    Amir   25  1000000\n",
              "200    Beni   20  2000000\n",
              "300   Cinta   30  3000000\n",
              "400   Dimas   40  4000000\n",
              "500     Edi   50  5000000"
            ],
            "text/html": [
              "\n",
              "  <div id=\"df-c21fbebb-e098-4447-88ba-24432cdd4877\" class=\"colab-df-container\">\n",
              "    <div>\n",
              "<style scoped>\n",
              "    .dataframe tbody tr th:only-of-type {\n",
              "        vertical-align: middle;\n",
              "    }\n",
              "\n",
              "    .dataframe tbody tr th {\n",
              "        vertical-align: top;\n",
              "    }\n",
              "\n",
              "    .dataframe thead th {\n",
              "        text-align: right;\n",
              "    }\n",
              "</style>\n",
              "<table border=\"1\" class=\"dataframe\">\n",
              "  <thead>\n",
              "    <tr style=\"text-align: right;\">\n",
              "      <th></th>\n",
              "      <th>Nama</th>\n",
              "      <th>Umur</th>\n",
              "      <th>Gaji</th>\n",
              "    </tr>\n",
              "    <tr>\n",
              "      <th>Kode</th>\n",
              "      <th></th>\n",
              "      <th></th>\n",
              "      <th></th>\n",
              "    </tr>\n",
              "  </thead>\n",
              "  <tbody>\n",
              "    <tr>\n",
              "      <th>100</th>\n",
              "      <td>Amir</td>\n",
              "      <td>25</td>\n",
              "      <td>1000000</td>\n",
              "    </tr>\n",
              "    <tr>\n",
              "      <th>200</th>\n",
              "      <td>Beni</td>\n",
              "      <td>20</td>\n",
              "      <td>2000000</td>\n",
              "    </tr>\n",
              "    <tr>\n",
              "      <th>300</th>\n",
              "      <td>Cinta</td>\n",
              "      <td>30</td>\n",
              "      <td>3000000</td>\n",
              "    </tr>\n",
              "    <tr>\n",
              "      <th>400</th>\n",
              "      <td>Dimas</td>\n",
              "      <td>40</td>\n",
              "      <td>4000000</td>\n",
              "    </tr>\n",
              "    <tr>\n",
              "      <th>500</th>\n",
              "      <td>Edi</td>\n",
              "      <td>50</td>\n",
              "      <td>5000000</td>\n",
              "    </tr>\n",
              "  </tbody>\n",
              "</table>\n",
              "</div>\n",
              "    <div class=\"colab-df-buttons\">\n",
              "\n",
              "  <div class=\"colab-df-container\">\n",
              "    <button class=\"colab-df-convert\" onclick=\"convertToInteractive('df-c21fbebb-e098-4447-88ba-24432cdd4877')\"\n",
              "            title=\"Convert this dataframe to an interactive table.\"\n",
              "            style=\"display:none;\">\n",
              "\n",
              "  <svg xmlns=\"http://www.w3.org/2000/svg\" height=\"24px\" viewBox=\"0 -960 960 960\">\n",
              "    <path d=\"M120-120v-720h720v720H120Zm60-500h600v-160H180v160Zm220 220h160v-160H400v160Zm0 220h160v-160H400v160ZM180-400h160v-160H180v160Zm440 0h160v-160H620v160ZM180-180h160v-160H180v160Zm440 0h160v-160H620v160Z\"/>\n",
              "  </svg>\n",
              "    </button>\n",
              "\n",
              "  <style>\n",
              "    .colab-df-container {\n",
              "      display:flex;\n",
              "      gap: 12px;\n",
              "    }\n",
              "\n",
              "    .colab-df-convert {\n",
              "      background-color: #E8F0FE;\n",
              "      border: none;\n",
              "      border-radius: 50%;\n",
              "      cursor: pointer;\n",
              "      display: none;\n",
              "      fill: #1967D2;\n",
              "      height: 32px;\n",
              "      padding: 0 0 0 0;\n",
              "      width: 32px;\n",
              "    }\n",
              "\n",
              "    .colab-df-convert:hover {\n",
              "      background-color: #E2EBFA;\n",
              "      box-shadow: 0px 1px 2px rgba(60, 64, 67, 0.3), 0px 1px 3px 1px rgba(60, 64, 67, 0.15);\n",
              "      fill: #174EA6;\n",
              "    }\n",
              "\n",
              "    .colab-df-buttons div {\n",
              "      margin-bottom: 4px;\n",
              "    }\n",
              "\n",
              "    [theme=dark] .colab-df-convert {\n",
              "      background-color: #3B4455;\n",
              "      fill: #D2E3FC;\n",
              "    }\n",
              "\n",
              "    [theme=dark] .colab-df-convert:hover {\n",
              "      background-color: #434B5C;\n",
              "      box-shadow: 0px 1px 3px 1px rgba(0, 0, 0, 0.15);\n",
              "      filter: drop-shadow(0px 1px 2px rgba(0, 0, 0, 0.3));\n",
              "      fill: #FFFFFF;\n",
              "    }\n",
              "  </style>\n",
              "\n",
              "    <script>\n",
              "      const buttonEl =\n",
              "        document.querySelector('#df-c21fbebb-e098-4447-88ba-24432cdd4877 button.colab-df-convert');\n",
              "      buttonEl.style.display =\n",
              "        google.colab.kernel.accessAllowed ? 'block' : 'none';\n",
              "\n",
              "      async function convertToInteractive(key) {\n",
              "        const element = document.querySelector('#df-c21fbebb-e098-4447-88ba-24432cdd4877');\n",
              "        const dataTable =\n",
              "          await google.colab.kernel.invokeFunction('convertToInteractive',\n",
              "                                                    [key], {});\n",
              "        if (!dataTable) return;\n",
              "\n",
              "        const docLinkHtml = 'Like what you see? Visit the ' +\n",
              "          '<a target=\"_blank\" href=https://colab.research.google.com/notebooks/data_table.ipynb>data table notebook</a>'\n",
              "          + ' to learn more about interactive tables.';\n",
              "        element.innerHTML = '';\n",
              "        dataTable['output_type'] = 'display_data';\n",
              "        await google.colab.output.renderOutput(dataTable, element);\n",
              "        const docLink = document.createElement('div');\n",
              "        docLink.innerHTML = docLinkHtml;\n",
              "        element.appendChild(docLink);\n",
              "      }\n",
              "    </script>\n",
              "  </div>\n",
              "\n",
              "\n",
              "<div id=\"df-36c06f9b-263b-496f-95a6-fa827b99cf4a\">\n",
              "  <button class=\"colab-df-quickchart\" onclick=\"quickchart('df-36c06f9b-263b-496f-95a6-fa827b99cf4a')\"\n",
              "            title=\"Suggest charts\"\n",
              "            style=\"display:none;\">\n",
              "\n",
              "<svg xmlns=\"http://www.w3.org/2000/svg\" height=\"24px\"viewBox=\"0 0 24 24\"\n",
              "     width=\"24px\">\n",
              "    <g>\n",
              "        <path d=\"M19 3H5c-1.1 0-2 .9-2 2v14c0 1.1.9 2 2 2h14c1.1 0 2-.9 2-2V5c0-1.1-.9-2-2-2zM9 17H7v-7h2v7zm4 0h-2V7h2v10zm4 0h-2v-4h2v4z\"/>\n",
              "    </g>\n",
              "</svg>\n",
              "  </button>\n",
              "\n",
              "<style>\n",
              "  .colab-df-quickchart {\n",
              "      --bg-color: #E8F0FE;\n",
              "      --fill-color: #1967D2;\n",
              "      --hover-bg-color: #E2EBFA;\n",
              "      --hover-fill-color: #174EA6;\n",
              "      --disabled-fill-color: #AAA;\n",
              "      --disabled-bg-color: #DDD;\n",
              "  }\n",
              "\n",
              "  [theme=dark] .colab-df-quickchart {\n",
              "      --bg-color: #3B4455;\n",
              "      --fill-color: #D2E3FC;\n",
              "      --hover-bg-color: #434B5C;\n",
              "      --hover-fill-color: #FFFFFF;\n",
              "      --disabled-bg-color: #3B4455;\n",
              "      --disabled-fill-color: #666;\n",
              "  }\n",
              "\n",
              "  .colab-df-quickchart {\n",
              "    background-color: var(--bg-color);\n",
              "    border: none;\n",
              "    border-radius: 50%;\n",
              "    cursor: pointer;\n",
              "    display: none;\n",
              "    fill: var(--fill-color);\n",
              "    height: 32px;\n",
              "    padding: 0;\n",
              "    width: 32px;\n",
              "  }\n",
              "\n",
              "  .colab-df-quickchart:hover {\n",
              "    background-color: var(--hover-bg-color);\n",
              "    box-shadow: 0 1px 2px rgba(60, 64, 67, 0.3), 0 1px 3px 1px rgba(60, 64, 67, 0.15);\n",
              "    fill: var(--button-hover-fill-color);\n",
              "  }\n",
              "\n",
              "  .colab-df-quickchart-complete:disabled,\n",
              "  .colab-df-quickchart-complete:disabled:hover {\n",
              "    background-color: var(--disabled-bg-color);\n",
              "    fill: var(--disabled-fill-color);\n",
              "    box-shadow: none;\n",
              "  }\n",
              "\n",
              "  .colab-df-spinner {\n",
              "    border: 2px solid var(--fill-color);\n",
              "    border-color: transparent;\n",
              "    border-bottom-color: var(--fill-color);\n",
              "    animation:\n",
              "      spin 1s steps(1) infinite;\n",
              "  }\n",
              "\n",
              "  @keyframes spin {\n",
              "    0% {\n",
              "      border-color: transparent;\n",
              "      border-bottom-color: var(--fill-color);\n",
              "      border-left-color: var(--fill-color);\n",
              "    }\n",
              "    20% {\n",
              "      border-color: transparent;\n",
              "      border-left-color: var(--fill-color);\n",
              "      border-top-color: var(--fill-color);\n",
              "    }\n",
              "    30% {\n",
              "      border-color: transparent;\n",
              "      border-left-color: var(--fill-color);\n",
              "      border-top-color: var(--fill-color);\n",
              "      border-right-color: var(--fill-color);\n",
              "    }\n",
              "    40% {\n",
              "      border-color: transparent;\n",
              "      border-right-color: var(--fill-color);\n",
              "      border-top-color: var(--fill-color);\n",
              "    }\n",
              "    60% {\n",
              "      border-color: transparent;\n",
              "      border-right-color: var(--fill-color);\n",
              "    }\n",
              "    80% {\n",
              "      border-color: transparent;\n",
              "      border-right-color: var(--fill-color);\n",
              "      border-bottom-color: var(--fill-color);\n",
              "    }\n",
              "    90% {\n",
              "      border-color: transparent;\n",
              "      border-bottom-color: var(--fill-color);\n",
              "    }\n",
              "  }\n",
              "</style>\n",
              "\n",
              "  <script>\n",
              "    async function quickchart(key) {\n",
              "      const quickchartButtonEl =\n",
              "        document.querySelector('#' + key + ' button');\n",
              "      quickchartButtonEl.disabled = true;  // To prevent multiple clicks.\n",
              "      quickchartButtonEl.classList.add('colab-df-spinner');\n",
              "      try {\n",
              "        const charts = await google.colab.kernel.invokeFunction(\n",
              "            'suggestCharts', [key], {});\n",
              "      } catch (error) {\n",
              "        console.error('Error during call to suggestCharts:', error);\n",
              "      }\n",
              "      quickchartButtonEl.classList.remove('colab-df-spinner');\n",
              "      quickchartButtonEl.classList.add('colab-df-quickchart-complete');\n",
              "    }\n",
              "    (() => {\n",
              "      let quickchartButtonEl =\n",
              "        document.querySelector('#df-36c06f9b-263b-496f-95a6-fa827b99cf4a button');\n",
              "      quickchartButtonEl.style.display =\n",
              "        google.colab.kernel.accessAllowed ? 'block' : 'none';\n",
              "    })();\n",
              "  </script>\n",
              "</div>\n",
              "\n",
              "  <div id=\"id_301adcd4-b796-4b01-a732-80cd9ac6e145\">\n",
              "    <style>\n",
              "      .colab-df-generate {\n",
              "        background-color: #E8F0FE;\n",
              "        border: none;\n",
              "        border-radius: 50%;\n",
              "        cursor: pointer;\n",
              "        display: none;\n",
              "        fill: #1967D2;\n",
              "        height: 32px;\n",
              "        padding: 0 0 0 0;\n",
              "        width: 32px;\n",
              "      }\n",
              "\n",
              "      .colab-df-generate:hover {\n",
              "        background-color: #E2EBFA;\n",
              "        box-shadow: 0px 1px 2px rgba(60, 64, 67, 0.3), 0px 1px 3px 1px rgba(60, 64, 67, 0.15);\n",
              "        fill: #174EA6;\n",
              "      }\n",
              "\n",
              "      [theme=dark] .colab-df-generate {\n",
              "        background-color: #3B4455;\n",
              "        fill: #D2E3FC;\n",
              "      }\n",
              "\n",
              "      [theme=dark] .colab-df-generate:hover {\n",
              "        background-color: #434B5C;\n",
              "        box-shadow: 0px 1px 3px 1px rgba(0, 0, 0, 0.15);\n",
              "        filter: drop-shadow(0px 1px 2px rgba(0, 0, 0, 0.3));\n",
              "        fill: #FFFFFF;\n",
              "      }\n",
              "    </style>\n",
              "    <button class=\"colab-df-generate\" onclick=\"generateWithVariable('df_fundamental')\"\n",
              "            title=\"Generate code using this dataframe.\"\n",
              "            style=\"display:none;\">\n",
              "\n",
              "  <svg xmlns=\"http://www.w3.org/2000/svg\" height=\"24px\"viewBox=\"0 0 24 24\"\n",
              "       width=\"24px\">\n",
              "    <path d=\"M7,19H8.4L18.45,9,17,7.55,7,17.6ZM5,21V16.75L18.45,3.32a2,2,0,0,1,2.83,0l1.4,1.43a1.91,1.91,0,0,1,.58,1.4,1.91,1.91,0,0,1-.58,1.4L9.25,21ZM18.45,9,17,7.55Zm-12,3A5.31,5.31,0,0,0,4.9,8.1,5.31,5.31,0,0,0,1,6.5,5.31,5.31,0,0,0,4.9,4.9,5.31,5.31,0,0,0,6.5,1,5.31,5.31,0,0,0,8.1,4.9,5.31,5.31,0,0,0,12,6.5,5.46,5.46,0,0,0,6.5,12Z\"/>\n",
              "  </svg>\n",
              "    </button>\n",
              "    <script>\n",
              "      (() => {\n",
              "      const buttonEl =\n",
              "        document.querySelector('#id_301adcd4-b796-4b01-a732-80cd9ac6e145 button.colab-df-generate');\n",
              "      buttonEl.style.display =\n",
              "        google.colab.kernel.accessAllowed ? 'block' : 'none';\n",
              "\n",
              "      buttonEl.onclick = () => {\n",
              "        google.colab.notebook.generateWithVariable('df_fundamental');\n",
              "      }\n",
              "      })();\n",
              "    </script>\n",
              "  </div>\n",
              "\n",
              "    </div>\n",
              "  </div>\n"
            ],
            "application/vnd.google.colaboratory.intrinsic+json": {
              "type": "dataframe",
              "variable_name": "df_fundamental",
              "summary": "{\n  \"name\": \"df_fundamental\",\n  \"rows\": 5,\n  \"fields\": [\n    {\n      \"column\": \"Kode\",\n      \"properties\": {\n        \"dtype\": \"number\",\n        \"std\": 158,\n        \"min\": 100,\n        \"max\": 500,\n        \"num_unique_values\": 5,\n        \"samples\": [\n          200,\n          500,\n          300\n        ],\n        \"semantic_type\": \"\",\n        \"description\": \"\"\n      }\n    },\n    {\n      \"column\": \"Nama\",\n      \"properties\": {\n        \"dtype\": \"string\",\n        \"num_unique_values\": 5,\n        \"samples\": [\n          \"Beni\",\n          \"Edi\",\n          \"Cinta\"\n        ],\n        \"semantic_type\": \"\",\n        \"description\": \"\"\n      }\n    },\n    {\n      \"column\": \"Umur\",\n      \"properties\": {\n        \"dtype\": \"date\",\n        \"min\": 20,\n        \"max\": 50,\n        \"num_unique_values\": 5,\n        \"samples\": [\n          20,\n          50,\n          30\n        ],\n        \"semantic_type\": \"\",\n        \"description\": \"\"\n      }\n    },\n    {\n      \"column\": \"Gaji\",\n      \"properties\": {\n        \"dtype\": \"date\",\n        \"min\": 1000000,\n        \"max\": 5000000,\n        \"num_unique_values\": 5,\n        \"samples\": [\n          2000000,\n          5000000,\n          3000000\n        ],\n        \"semantic_type\": \"\",\n        \"description\": \"\"\n      }\n    }\n  ]\n}"
            }
          },
          "metadata": {},
          "execution_count": 120
        }
      ]
    },
    {
      "cell_type": "code",
      "source": [
        "# 2. Mengkonversi beberapa series menjadi dataframe\n",
        "# Buat list berisi kode_tuple, nama_teman, umur_tuple, dan gaji_tuple yang telah diubah menjadi object series\n",
        "list_of_series = [pd.Series(kode_tuple, name='Kode'),\n",
        "                  pd.Series(nama_teman, name='Nama'),\n",
        "                  pd.Series(umur_tuple, name='Umur'),\n",
        "                  pd.Series(gaji_tuple, name='Gaji')]\n",
        "# Proses list_of_series menjadi dataframe\n",
        "df_series = pd.DataFrame(list_of_series).T.set_index('Kode')\n",
        "df_series"
      ],
      "metadata": {
        "colab": {
          "base_uri": "https://localhost:8080/",
          "height": 238
        },
        "id": "rsmEEuaFu7ZY",
        "outputId": "1a972817-9973-41bb-a834-49b2bedb5b7a"
      },
      "execution_count": 125,
      "outputs": [
        {
          "output_type": "execute_result",
          "data": {
            "text/plain": [
              "       Nama Umur     Gaji\n",
              "Kode                     \n",
              "100    Amir   25  1000000\n",
              "200    Beni   20  2000000\n",
              "300   Cinta   30  3000000\n",
              "400   Dimas   40  4000000\n",
              "500     Edi   50  5000000"
            ],
            "text/html": [
              "\n",
              "  <div id=\"df-a617afb3-4911-44f3-a628-41ef41ef98d6\" class=\"colab-df-container\">\n",
              "    <div>\n",
              "<style scoped>\n",
              "    .dataframe tbody tr th:only-of-type {\n",
              "        vertical-align: middle;\n",
              "    }\n",
              "\n",
              "    .dataframe tbody tr th {\n",
              "        vertical-align: top;\n",
              "    }\n",
              "\n",
              "    .dataframe thead th {\n",
              "        text-align: right;\n",
              "    }\n",
              "</style>\n",
              "<table border=\"1\" class=\"dataframe\">\n",
              "  <thead>\n",
              "    <tr style=\"text-align: right;\">\n",
              "      <th></th>\n",
              "      <th>Nama</th>\n",
              "      <th>Umur</th>\n",
              "      <th>Gaji</th>\n",
              "    </tr>\n",
              "    <tr>\n",
              "      <th>Kode</th>\n",
              "      <th></th>\n",
              "      <th></th>\n",
              "      <th></th>\n",
              "    </tr>\n",
              "  </thead>\n",
              "  <tbody>\n",
              "    <tr>\n",
              "      <th>100</th>\n",
              "      <td>Amir</td>\n",
              "      <td>25</td>\n",
              "      <td>1000000</td>\n",
              "    </tr>\n",
              "    <tr>\n",
              "      <th>200</th>\n",
              "      <td>Beni</td>\n",
              "      <td>20</td>\n",
              "      <td>2000000</td>\n",
              "    </tr>\n",
              "    <tr>\n",
              "      <th>300</th>\n",
              "      <td>Cinta</td>\n",
              "      <td>30</td>\n",
              "      <td>3000000</td>\n",
              "    </tr>\n",
              "    <tr>\n",
              "      <th>400</th>\n",
              "      <td>Dimas</td>\n",
              "      <td>40</td>\n",
              "      <td>4000000</td>\n",
              "    </tr>\n",
              "    <tr>\n",
              "      <th>500</th>\n",
              "      <td>Edi</td>\n",
              "      <td>50</td>\n",
              "      <td>5000000</td>\n",
              "    </tr>\n",
              "  </tbody>\n",
              "</table>\n",
              "</div>\n",
              "    <div class=\"colab-df-buttons\">\n",
              "\n",
              "  <div class=\"colab-df-container\">\n",
              "    <button class=\"colab-df-convert\" onclick=\"convertToInteractive('df-a617afb3-4911-44f3-a628-41ef41ef98d6')\"\n",
              "            title=\"Convert this dataframe to an interactive table.\"\n",
              "            style=\"display:none;\">\n",
              "\n",
              "  <svg xmlns=\"http://www.w3.org/2000/svg\" height=\"24px\" viewBox=\"0 -960 960 960\">\n",
              "    <path d=\"M120-120v-720h720v720H120Zm60-500h600v-160H180v160Zm220 220h160v-160H400v160Zm0 220h160v-160H400v160ZM180-400h160v-160H180v160Zm440 0h160v-160H620v160ZM180-180h160v-160H180v160Zm440 0h160v-160H620v160Z\"/>\n",
              "  </svg>\n",
              "    </button>\n",
              "\n",
              "  <style>\n",
              "    .colab-df-container {\n",
              "      display:flex;\n",
              "      gap: 12px;\n",
              "    }\n",
              "\n",
              "    .colab-df-convert {\n",
              "      background-color: #E8F0FE;\n",
              "      border: none;\n",
              "      border-radius: 50%;\n",
              "      cursor: pointer;\n",
              "      display: none;\n",
              "      fill: #1967D2;\n",
              "      height: 32px;\n",
              "      padding: 0 0 0 0;\n",
              "      width: 32px;\n",
              "    }\n",
              "\n",
              "    .colab-df-convert:hover {\n",
              "      background-color: #E2EBFA;\n",
              "      box-shadow: 0px 1px 2px rgba(60, 64, 67, 0.3), 0px 1px 3px 1px rgba(60, 64, 67, 0.15);\n",
              "      fill: #174EA6;\n",
              "    }\n",
              "\n",
              "    .colab-df-buttons div {\n",
              "      margin-bottom: 4px;\n",
              "    }\n",
              "\n",
              "    [theme=dark] .colab-df-convert {\n",
              "      background-color: #3B4455;\n",
              "      fill: #D2E3FC;\n",
              "    }\n",
              "\n",
              "    [theme=dark] .colab-df-convert:hover {\n",
              "      background-color: #434B5C;\n",
              "      box-shadow: 0px 1px 3px 1px rgba(0, 0, 0, 0.15);\n",
              "      filter: drop-shadow(0px 1px 2px rgba(0, 0, 0, 0.3));\n",
              "      fill: #FFFFFF;\n",
              "    }\n",
              "  </style>\n",
              "\n",
              "    <script>\n",
              "      const buttonEl =\n",
              "        document.querySelector('#df-a617afb3-4911-44f3-a628-41ef41ef98d6 button.colab-df-convert');\n",
              "      buttonEl.style.display =\n",
              "        google.colab.kernel.accessAllowed ? 'block' : 'none';\n",
              "\n",
              "      async function convertToInteractive(key) {\n",
              "        const element = document.querySelector('#df-a617afb3-4911-44f3-a628-41ef41ef98d6');\n",
              "        const dataTable =\n",
              "          await google.colab.kernel.invokeFunction('convertToInteractive',\n",
              "                                                    [key], {});\n",
              "        if (!dataTable) return;\n",
              "\n",
              "        const docLinkHtml = 'Like what you see? Visit the ' +\n",
              "          '<a target=\"_blank\" href=https://colab.research.google.com/notebooks/data_table.ipynb>data table notebook</a>'\n",
              "          + ' to learn more about interactive tables.';\n",
              "        element.innerHTML = '';\n",
              "        dataTable['output_type'] = 'display_data';\n",
              "        await google.colab.output.renderOutput(dataTable, element);\n",
              "        const docLink = document.createElement('div');\n",
              "        docLink.innerHTML = docLinkHtml;\n",
              "        element.appendChild(docLink);\n",
              "      }\n",
              "    </script>\n",
              "  </div>\n",
              "\n",
              "\n",
              "<div id=\"df-d572ec49-cfdd-4d64-a9c1-311f5b46e08c\">\n",
              "  <button class=\"colab-df-quickchart\" onclick=\"quickchart('df-d572ec49-cfdd-4d64-a9c1-311f5b46e08c')\"\n",
              "            title=\"Suggest charts\"\n",
              "            style=\"display:none;\">\n",
              "\n",
              "<svg xmlns=\"http://www.w3.org/2000/svg\" height=\"24px\"viewBox=\"0 0 24 24\"\n",
              "     width=\"24px\">\n",
              "    <g>\n",
              "        <path d=\"M19 3H5c-1.1 0-2 .9-2 2v14c0 1.1.9 2 2 2h14c1.1 0 2-.9 2-2V5c0-1.1-.9-2-2-2zM9 17H7v-7h2v7zm4 0h-2V7h2v10zm4 0h-2v-4h2v4z\"/>\n",
              "    </g>\n",
              "</svg>\n",
              "  </button>\n",
              "\n",
              "<style>\n",
              "  .colab-df-quickchart {\n",
              "      --bg-color: #E8F0FE;\n",
              "      --fill-color: #1967D2;\n",
              "      --hover-bg-color: #E2EBFA;\n",
              "      --hover-fill-color: #174EA6;\n",
              "      --disabled-fill-color: #AAA;\n",
              "      --disabled-bg-color: #DDD;\n",
              "  }\n",
              "\n",
              "  [theme=dark] .colab-df-quickchart {\n",
              "      --bg-color: #3B4455;\n",
              "      --fill-color: #D2E3FC;\n",
              "      --hover-bg-color: #434B5C;\n",
              "      --hover-fill-color: #FFFFFF;\n",
              "      --disabled-bg-color: #3B4455;\n",
              "      --disabled-fill-color: #666;\n",
              "  }\n",
              "\n",
              "  .colab-df-quickchart {\n",
              "    background-color: var(--bg-color);\n",
              "    border: none;\n",
              "    border-radius: 50%;\n",
              "    cursor: pointer;\n",
              "    display: none;\n",
              "    fill: var(--fill-color);\n",
              "    height: 32px;\n",
              "    padding: 0;\n",
              "    width: 32px;\n",
              "  }\n",
              "\n",
              "  .colab-df-quickchart:hover {\n",
              "    background-color: var(--hover-bg-color);\n",
              "    box-shadow: 0 1px 2px rgba(60, 64, 67, 0.3), 0 1px 3px 1px rgba(60, 64, 67, 0.15);\n",
              "    fill: var(--button-hover-fill-color);\n",
              "  }\n",
              "\n",
              "  .colab-df-quickchart-complete:disabled,\n",
              "  .colab-df-quickchart-complete:disabled:hover {\n",
              "    background-color: var(--disabled-bg-color);\n",
              "    fill: var(--disabled-fill-color);\n",
              "    box-shadow: none;\n",
              "  }\n",
              "\n",
              "  .colab-df-spinner {\n",
              "    border: 2px solid var(--fill-color);\n",
              "    border-color: transparent;\n",
              "    border-bottom-color: var(--fill-color);\n",
              "    animation:\n",
              "      spin 1s steps(1) infinite;\n",
              "  }\n",
              "\n",
              "  @keyframes spin {\n",
              "    0% {\n",
              "      border-color: transparent;\n",
              "      border-bottom-color: var(--fill-color);\n",
              "      border-left-color: var(--fill-color);\n",
              "    }\n",
              "    20% {\n",
              "      border-color: transparent;\n",
              "      border-left-color: var(--fill-color);\n",
              "      border-top-color: var(--fill-color);\n",
              "    }\n",
              "    30% {\n",
              "      border-color: transparent;\n",
              "      border-left-color: var(--fill-color);\n",
              "      border-top-color: var(--fill-color);\n",
              "      border-right-color: var(--fill-color);\n",
              "    }\n",
              "    40% {\n",
              "      border-color: transparent;\n",
              "      border-right-color: var(--fill-color);\n",
              "      border-top-color: var(--fill-color);\n",
              "    }\n",
              "    60% {\n",
              "      border-color: transparent;\n",
              "      border-right-color: var(--fill-color);\n",
              "    }\n",
              "    80% {\n",
              "      border-color: transparent;\n",
              "      border-right-color: var(--fill-color);\n",
              "      border-bottom-color: var(--fill-color);\n",
              "    }\n",
              "    90% {\n",
              "      border-color: transparent;\n",
              "      border-bottom-color: var(--fill-color);\n",
              "    }\n",
              "  }\n",
              "</style>\n",
              "\n",
              "  <script>\n",
              "    async function quickchart(key) {\n",
              "      const quickchartButtonEl =\n",
              "        document.querySelector('#' + key + ' button');\n",
              "      quickchartButtonEl.disabled = true;  // To prevent multiple clicks.\n",
              "      quickchartButtonEl.classList.add('colab-df-spinner');\n",
              "      try {\n",
              "        const charts = await google.colab.kernel.invokeFunction(\n",
              "            'suggestCharts', [key], {});\n",
              "      } catch (error) {\n",
              "        console.error('Error during call to suggestCharts:', error);\n",
              "      }\n",
              "      quickchartButtonEl.classList.remove('colab-df-spinner');\n",
              "      quickchartButtonEl.classList.add('colab-df-quickchart-complete');\n",
              "    }\n",
              "    (() => {\n",
              "      let quickchartButtonEl =\n",
              "        document.querySelector('#df-d572ec49-cfdd-4d64-a9c1-311f5b46e08c button');\n",
              "      quickchartButtonEl.style.display =\n",
              "        google.colab.kernel.accessAllowed ? 'block' : 'none';\n",
              "    })();\n",
              "  </script>\n",
              "</div>\n",
              "\n",
              "  <div id=\"id_de38e8f6-3bd7-42b1-9ff3-9ba25d180a1e\">\n",
              "    <style>\n",
              "      .colab-df-generate {\n",
              "        background-color: #E8F0FE;\n",
              "        border: none;\n",
              "        border-radius: 50%;\n",
              "        cursor: pointer;\n",
              "        display: none;\n",
              "        fill: #1967D2;\n",
              "        height: 32px;\n",
              "        padding: 0 0 0 0;\n",
              "        width: 32px;\n",
              "      }\n",
              "\n",
              "      .colab-df-generate:hover {\n",
              "        background-color: #E2EBFA;\n",
              "        box-shadow: 0px 1px 2px rgba(60, 64, 67, 0.3), 0px 1px 3px 1px rgba(60, 64, 67, 0.15);\n",
              "        fill: #174EA6;\n",
              "      }\n",
              "\n",
              "      [theme=dark] .colab-df-generate {\n",
              "        background-color: #3B4455;\n",
              "        fill: #D2E3FC;\n",
              "      }\n",
              "\n",
              "      [theme=dark] .colab-df-generate:hover {\n",
              "        background-color: #434B5C;\n",
              "        box-shadow: 0px 1px 3px 1px rgba(0, 0, 0, 0.15);\n",
              "        filter: drop-shadow(0px 1px 2px rgba(0, 0, 0, 0.3));\n",
              "        fill: #FFFFFF;\n",
              "      }\n",
              "    </style>\n",
              "    <button class=\"colab-df-generate\" onclick=\"generateWithVariable('df_series')\"\n",
              "            title=\"Generate code using this dataframe.\"\n",
              "            style=\"display:none;\">\n",
              "\n",
              "  <svg xmlns=\"http://www.w3.org/2000/svg\" height=\"24px\"viewBox=\"0 0 24 24\"\n",
              "       width=\"24px\">\n",
              "    <path d=\"M7,19H8.4L18.45,9,17,7.55,7,17.6ZM5,21V16.75L18.45,3.32a2,2,0,0,1,2.83,0l1.4,1.43a1.91,1.91,0,0,1,.58,1.4,1.91,1.91,0,0,1-.58,1.4L9.25,21ZM18.45,9,17,7.55Zm-12,3A5.31,5.31,0,0,0,4.9,8.1,5.31,5.31,0,0,0,1,6.5,5.31,5.31,0,0,0,4.9,4.9,5.31,5.31,0,0,0,6.5,1,5.31,5.31,0,0,0,8.1,4.9,5.31,5.31,0,0,0,12,6.5,5.46,5.46,0,0,0,6.5,12Z\"/>\n",
              "  </svg>\n",
              "    </button>\n",
              "    <script>\n",
              "      (() => {\n",
              "      const buttonEl =\n",
              "        document.querySelector('#id_de38e8f6-3bd7-42b1-9ff3-9ba25d180a1e button.colab-df-generate');\n",
              "      buttonEl.style.display =\n",
              "        google.colab.kernel.accessAllowed ? 'block' : 'none';\n",
              "\n",
              "      buttonEl.onclick = () => {\n",
              "        google.colab.notebook.generateWithVariable('df_series');\n",
              "      }\n",
              "      })();\n",
              "    </script>\n",
              "  </div>\n",
              "\n",
              "    </div>\n",
              "  </div>\n"
            ],
            "application/vnd.google.colaboratory.intrinsic+json": {
              "type": "dataframe",
              "variable_name": "df_series",
              "summary": "{\n  \"name\": \"df_series\",\n  \"rows\": 5,\n  \"fields\": [\n    {\n      \"column\": \"Kode\",\n      \"properties\": {\n        \"dtype\": \"number\",\n        \"std\": 158,\n        \"min\": 100,\n        \"max\": 500,\n        \"num_unique_values\": 5,\n        \"samples\": [\n          200,\n          500,\n          300\n        ],\n        \"semantic_type\": \"\",\n        \"description\": \"\"\n      }\n    },\n    {\n      \"column\": \"Nama\",\n      \"properties\": {\n        \"dtype\": \"string\",\n        \"num_unique_values\": 5,\n        \"samples\": [\n          \"Beni\",\n          \"Edi\",\n          \"Cinta\"\n        ],\n        \"semantic_type\": \"\",\n        \"description\": \"\"\n      }\n    },\n    {\n      \"column\": \"Umur\",\n      \"properties\": {\n        \"dtype\": \"date\",\n        \"min\": 20,\n        \"max\": 50,\n        \"num_unique_values\": 5,\n        \"samples\": [\n          20,\n          50,\n          30\n        ],\n        \"semantic_type\": \"\",\n        \"description\": \"\"\n      }\n    },\n    {\n      \"column\": \"Gaji\",\n      \"properties\": {\n        \"dtype\": \"date\",\n        \"min\": 1000000,\n        \"max\": 5000000,\n        \"num_unique_values\": 5,\n        \"samples\": [\n          2000000,\n          5000000,\n          3000000\n        ],\n        \"semantic_type\": \"\",\n        \"description\": \"\"\n      }\n    }\n  ]\n}"
            }
          },
          "metadata": {},
          "execution_count": 125
        }
      ]
    },
    {
      "cell_type": "code",
      "source": [
        "# 3. Menkonversi dictionary menjadi dataframe\n",
        "# Buat dictionary dengan keys=['Kode', 'Nama', 'Umur', 'Gaji'] dan values=[kode_tuple, nama_teman, umur_tuple, gaji_tuple]\n",
        "data_teman = {\n",
        "    'Kode': kode_tuple,\n",
        "    'Nama' : nama_teman,\n",
        "    'Umur' : umur_tuple,\n",
        "    'Gaji' : gaji_tuple}\n",
        "# Konversi dictionary menjadi dataframe\n",
        "df_dictionary = pd.DataFrame(data_teman).set_index('Kode')\n",
        "df_dictionary"
      ],
      "metadata": {
        "colab": {
          "base_uri": "https://localhost:8080/",
          "height": 238
        },
        "id": "SV73Drfn7G5r",
        "outputId": "50f68c3d-34c3-4ccb-bf97-a3c239977cdc"
      },
      "execution_count": 131,
      "outputs": [
        {
          "output_type": "execute_result",
          "data": {
            "text/plain": [
              "       Nama  Umur     Gaji\n",
              "Kode                      \n",
              "100    Amir    25  1000000\n",
              "200    Beni    20  2000000\n",
              "300   Cinta    30  3000000\n",
              "400   Dimas    40  4000000\n",
              "500     Edi    50  5000000"
            ],
            "text/html": [
              "\n",
              "  <div id=\"df-2699b57b-92a9-47a8-b1f9-79438c0377c8\" class=\"colab-df-container\">\n",
              "    <div>\n",
              "<style scoped>\n",
              "    .dataframe tbody tr th:only-of-type {\n",
              "        vertical-align: middle;\n",
              "    }\n",
              "\n",
              "    .dataframe tbody tr th {\n",
              "        vertical-align: top;\n",
              "    }\n",
              "\n",
              "    .dataframe thead th {\n",
              "        text-align: right;\n",
              "    }\n",
              "</style>\n",
              "<table border=\"1\" class=\"dataframe\">\n",
              "  <thead>\n",
              "    <tr style=\"text-align: right;\">\n",
              "      <th></th>\n",
              "      <th>Nama</th>\n",
              "      <th>Umur</th>\n",
              "      <th>Gaji</th>\n",
              "    </tr>\n",
              "    <tr>\n",
              "      <th>Kode</th>\n",
              "      <th></th>\n",
              "      <th></th>\n",
              "      <th></th>\n",
              "    </tr>\n",
              "  </thead>\n",
              "  <tbody>\n",
              "    <tr>\n",
              "      <th>100</th>\n",
              "      <td>Amir</td>\n",
              "      <td>25</td>\n",
              "      <td>1000000</td>\n",
              "    </tr>\n",
              "    <tr>\n",
              "      <th>200</th>\n",
              "      <td>Beni</td>\n",
              "      <td>20</td>\n",
              "      <td>2000000</td>\n",
              "    </tr>\n",
              "    <tr>\n",
              "      <th>300</th>\n",
              "      <td>Cinta</td>\n",
              "      <td>30</td>\n",
              "      <td>3000000</td>\n",
              "    </tr>\n",
              "    <tr>\n",
              "      <th>400</th>\n",
              "      <td>Dimas</td>\n",
              "      <td>40</td>\n",
              "      <td>4000000</td>\n",
              "    </tr>\n",
              "    <tr>\n",
              "      <th>500</th>\n",
              "      <td>Edi</td>\n",
              "      <td>50</td>\n",
              "      <td>5000000</td>\n",
              "    </tr>\n",
              "  </tbody>\n",
              "</table>\n",
              "</div>\n",
              "    <div class=\"colab-df-buttons\">\n",
              "\n",
              "  <div class=\"colab-df-container\">\n",
              "    <button class=\"colab-df-convert\" onclick=\"convertToInteractive('df-2699b57b-92a9-47a8-b1f9-79438c0377c8')\"\n",
              "            title=\"Convert this dataframe to an interactive table.\"\n",
              "            style=\"display:none;\">\n",
              "\n",
              "  <svg xmlns=\"http://www.w3.org/2000/svg\" height=\"24px\" viewBox=\"0 -960 960 960\">\n",
              "    <path d=\"M120-120v-720h720v720H120Zm60-500h600v-160H180v160Zm220 220h160v-160H400v160Zm0 220h160v-160H400v160ZM180-400h160v-160H180v160Zm440 0h160v-160H620v160ZM180-180h160v-160H180v160Zm440 0h160v-160H620v160Z\"/>\n",
              "  </svg>\n",
              "    </button>\n",
              "\n",
              "  <style>\n",
              "    .colab-df-container {\n",
              "      display:flex;\n",
              "      gap: 12px;\n",
              "    }\n",
              "\n",
              "    .colab-df-convert {\n",
              "      background-color: #E8F0FE;\n",
              "      border: none;\n",
              "      border-radius: 50%;\n",
              "      cursor: pointer;\n",
              "      display: none;\n",
              "      fill: #1967D2;\n",
              "      height: 32px;\n",
              "      padding: 0 0 0 0;\n",
              "      width: 32px;\n",
              "    }\n",
              "\n",
              "    .colab-df-convert:hover {\n",
              "      background-color: #E2EBFA;\n",
              "      box-shadow: 0px 1px 2px rgba(60, 64, 67, 0.3), 0px 1px 3px 1px rgba(60, 64, 67, 0.15);\n",
              "      fill: #174EA6;\n",
              "    }\n",
              "\n",
              "    .colab-df-buttons div {\n",
              "      margin-bottom: 4px;\n",
              "    }\n",
              "\n",
              "    [theme=dark] .colab-df-convert {\n",
              "      background-color: #3B4455;\n",
              "      fill: #D2E3FC;\n",
              "    }\n",
              "\n",
              "    [theme=dark] .colab-df-convert:hover {\n",
              "      background-color: #434B5C;\n",
              "      box-shadow: 0px 1px 3px 1px rgba(0, 0, 0, 0.15);\n",
              "      filter: drop-shadow(0px 1px 2px rgba(0, 0, 0, 0.3));\n",
              "      fill: #FFFFFF;\n",
              "    }\n",
              "  </style>\n",
              "\n",
              "    <script>\n",
              "      const buttonEl =\n",
              "        document.querySelector('#df-2699b57b-92a9-47a8-b1f9-79438c0377c8 button.colab-df-convert');\n",
              "      buttonEl.style.display =\n",
              "        google.colab.kernel.accessAllowed ? 'block' : 'none';\n",
              "\n",
              "      async function convertToInteractive(key) {\n",
              "        const element = document.querySelector('#df-2699b57b-92a9-47a8-b1f9-79438c0377c8');\n",
              "        const dataTable =\n",
              "          await google.colab.kernel.invokeFunction('convertToInteractive',\n",
              "                                                    [key], {});\n",
              "        if (!dataTable) return;\n",
              "\n",
              "        const docLinkHtml = 'Like what you see? Visit the ' +\n",
              "          '<a target=\"_blank\" href=https://colab.research.google.com/notebooks/data_table.ipynb>data table notebook</a>'\n",
              "          + ' to learn more about interactive tables.';\n",
              "        element.innerHTML = '';\n",
              "        dataTable['output_type'] = 'display_data';\n",
              "        await google.colab.output.renderOutput(dataTable, element);\n",
              "        const docLink = document.createElement('div');\n",
              "        docLink.innerHTML = docLinkHtml;\n",
              "        element.appendChild(docLink);\n",
              "      }\n",
              "    </script>\n",
              "  </div>\n",
              "\n",
              "\n",
              "<div id=\"df-7a92e0f3-ad7c-4f0c-8fbb-6af5a93cd17b\">\n",
              "  <button class=\"colab-df-quickchart\" onclick=\"quickchart('df-7a92e0f3-ad7c-4f0c-8fbb-6af5a93cd17b')\"\n",
              "            title=\"Suggest charts\"\n",
              "            style=\"display:none;\">\n",
              "\n",
              "<svg xmlns=\"http://www.w3.org/2000/svg\" height=\"24px\"viewBox=\"0 0 24 24\"\n",
              "     width=\"24px\">\n",
              "    <g>\n",
              "        <path d=\"M19 3H5c-1.1 0-2 .9-2 2v14c0 1.1.9 2 2 2h14c1.1 0 2-.9 2-2V5c0-1.1-.9-2-2-2zM9 17H7v-7h2v7zm4 0h-2V7h2v10zm4 0h-2v-4h2v4z\"/>\n",
              "    </g>\n",
              "</svg>\n",
              "  </button>\n",
              "\n",
              "<style>\n",
              "  .colab-df-quickchart {\n",
              "      --bg-color: #E8F0FE;\n",
              "      --fill-color: #1967D2;\n",
              "      --hover-bg-color: #E2EBFA;\n",
              "      --hover-fill-color: #174EA6;\n",
              "      --disabled-fill-color: #AAA;\n",
              "      --disabled-bg-color: #DDD;\n",
              "  }\n",
              "\n",
              "  [theme=dark] .colab-df-quickchart {\n",
              "      --bg-color: #3B4455;\n",
              "      --fill-color: #D2E3FC;\n",
              "      --hover-bg-color: #434B5C;\n",
              "      --hover-fill-color: #FFFFFF;\n",
              "      --disabled-bg-color: #3B4455;\n",
              "      --disabled-fill-color: #666;\n",
              "  }\n",
              "\n",
              "  .colab-df-quickchart {\n",
              "    background-color: var(--bg-color);\n",
              "    border: none;\n",
              "    border-radius: 50%;\n",
              "    cursor: pointer;\n",
              "    display: none;\n",
              "    fill: var(--fill-color);\n",
              "    height: 32px;\n",
              "    padding: 0;\n",
              "    width: 32px;\n",
              "  }\n",
              "\n",
              "  .colab-df-quickchart:hover {\n",
              "    background-color: var(--hover-bg-color);\n",
              "    box-shadow: 0 1px 2px rgba(60, 64, 67, 0.3), 0 1px 3px 1px rgba(60, 64, 67, 0.15);\n",
              "    fill: var(--button-hover-fill-color);\n",
              "  }\n",
              "\n",
              "  .colab-df-quickchart-complete:disabled,\n",
              "  .colab-df-quickchart-complete:disabled:hover {\n",
              "    background-color: var(--disabled-bg-color);\n",
              "    fill: var(--disabled-fill-color);\n",
              "    box-shadow: none;\n",
              "  }\n",
              "\n",
              "  .colab-df-spinner {\n",
              "    border: 2px solid var(--fill-color);\n",
              "    border-color: transparent;\n",
              "    border-bottom-color: var(--fill-color);\n",
              "    animation:\n",
              "      spin 1s steps(1) infinite;\n",
              "  }\n",
              "\n",
              "  @keyframes spin {\n",
              "    0% {\n",
              "      border-color: transparent;\n",
              "      border-bottom-color: var(--fill-color);\n",
              "      border-left-color: var(--fill-color);\n",
              "    }\n",
              "    20% {\n",
              "      border-color: transparent;\n",
              "      border-left-color: var(--fill-color);\n",
              "      border-top-color: var(--fill-color);\n",
              "    }\n",
              "    30% {\n",
              "      border-color: transparent;\n",
              "      border-left-color: var(--fill-color);\n",
              "      border-top-color: var(--fill-color);\n",
              "      border-right-color: var(--fill-color);\n",
              "    }\n",
              "    40% {\n",
              "      border-color: transparent;\n",
              "      border-right-color: var(--fill-color);\n",
              "      border-top-color: var(--fill-color);\n",
              "    }\n",
              "    60% {\n",
              "      border-color: transparent;\n",
              "      border-right-color: var(--fill-color);\n",
              "    }\n",
              "    80% {\n",
              "      border-color: transparent;\n",
              "      border-right-color: var(--fill-color);\n",
              "      border-bottom-color: var(--fill-color);\n",
              "    }\n",
              "    90% {\n",
              "      border-color: transparent;\n",
              "      border-bottom-color: var(--fill-color);\n",
              "    }\n",
              "  }\n",
              "</style>\n",
              "\n",
              "  <script>\n",
              "    async function quickchart(key) {\n",
              "      const quickchartButtonEl =\n",
              "        document.querySelector('#' + key + ' button');\n",
              "      quickchartButtonEl.disabled = true;  // To prevent multiple clicks.\n",
              "      quickchartButtonEl.classList.add('colab-df-spinner');\n",
              "      try {\n",
              "        const charts = await google.colab.kernel.invokeFunction(\n",
              "            'suggestCharts', [key], {});\n",
              "      } catch (error) {\n",
              "        console.error('Error during call to suggestCharts:', error);\n",
              "      }\n",
              "      quickchartButtonEl.classList.remove('colab-df-spinner');\n",
              "      quickchartButtonEl.classList.add('colab-df-quickchart-complete');\n",
              "    }\n",
              "    (() => {\n",
              "      let quickchartButtonEl =\n",
              "        document.querySelector('#df-7a92e0f3-ad7c-4f0c-8fbb-6af5a93cd17b button');\n",
              "      quickchartButtonEl.style.display =\n",
              "        google.colab.kernel.accessAllowed ? 'block' : 'none';\n",
              "    })();\n",
              "  </script>\n",
              "</div>\n",
              "\n",
              "  <div id=\"id_70d1fb83-f70d-44e3-90d7-7d9c13721253\">\n",
              "    <style>\n",
              "      .colab-df-generate {\n",
              "        background-color: #E8F0FE;\n",
              "        border: none;\n",
              "        border-radius: 50%;\n",
              "        cursor: pointer;\n",
              "        display: none;\n",
              "        fill: #1967D2;\n",
              "        height: 32px;\n",
              "        padding: 0 0 0 0;\n",
              "        width: 32px;\n",
              "      }\n",
              "\n",
              "      .colab-df-generate:hover {\n",
              "        background-color: #E2EBFA;\n",
              "        box-shadow: 0px 1px 2px rgba(60, 64, 67, 0.3), 0px 1px 3px 1px rgba(60, 64, 67, 0.15);\n",
              "        fill: #174EA6;\n",
              "      }\n",
              "\n",
              "      [theme=dark] .colab-df-generate {\n",
              "        background-color: #3B4455;\n",
              "        fill: #D2E3FC;\n",
              "      }\n",
              "\n",
              "      [theme=dark] .colab-df-generate:hover {\n",
              "        background-color: #434B5C;\n",
              "        box-shadow: 0px 1px 3px 1px rgba(0, 0, 0, 0.15);\n",
              "        filter: drop-shadow(0px 1px 2px rgba(0, 0, 0, 0.3));\n",
              "        fill: #FFFFFF;\n",
              "      }\n",
              "    </style>\n",
              "    <button class=\"colab-df-generate\" onclick=\"generateWithVariable('df_dictionary')\"\n",
              "            title=\"Generate code using this dataframe.\"\n",
              "            style=\"display:none;\">\n",
              "\n",
              "  <svg xmlns=\"http://www.w3.org/2000/svg\" height=\"24px\"viewBox=\"0 0 24 24\"\n",
              "       width=\"24px\">\n",
              "    <path d=\"M7,19H8.4L18.45,9,17,7.55,7,17.6ZM5,21V16.75L18.45,3.32a2,2,0,0,1,2.83,0l1.4,1.43a1.91,1.91,0,0,1,.58,1.4,1.91,1.91,0,0,1-.58,1.4L9.25,21ZM18.45,9,17,7.55Zm-12,3A5.31,5.31,0,0,0,4.9,8.1,5.31,5.31,0,0,0,1,6.5,5.31,5.31,0,0,0,4.9,4.9,5.31,5.31,0,0,0,6.5,1,5.31,5.31,0,0,0,8.1,4.9,5.31,5.31,0,0,0,12,6.5,5.46,5.46,0,0,0,6.5,12Z\"/>\n",
              "  </svg>\n",
              "    </button>\n",
              "    <script>\n",
              "      (() => {\n",
              "      const buttonEl =\n",
              "        document.querySelector('#id_70d1fb83-f70d-44e3-90d7-7d9c13721253 button.colab-df-generate');\n",
              "      buttonEl.style.display =\n",
              "        google.colab.kernel.accessAllowed ? 'block' : 'none';\n",
              "\n",
              "      buttonEl.onclick = () => {\n",
              "        google.colab.notebook.generateWithVariable('df_dictionary');\n",
              "      }\n",
              "      })();\n",
              "    </script>\n",
              "  </div>\n",
              "\n",
              "    </div>\n",
              "  </div>\n"
            ],
            "application/vnd.google.colaboratory.intrinsic+json": {
              "type": "dataframe",
              "variable_name": "df_dictionary",
              "summary": "{\n  \"name\": \"df_dictionary\",\n  \"rows\": 5,\n  \"fields\": [\n    {\n      \"column\": \"Kode\",\n      \"properties\": {\n        \"dtype\": \"number\",\n        \"std\": 158,\n        \"min\": 100,\n        \"max\": 500,\n        \"num_unique_values\": 5,\n        \"samples\": [\n          200,\n          500,\n          300\n        ],\n        \"semantic_type\": \"\",\n        \"description\": \"\"\n      }\n    },\n    {\n      \"column\": \"Nama\",\n      \"properties\": {\n        \"dtype\": \"string\",\n        \"num_unique_values\": 5,\n        \"samples\": [\n          \"Beni\",\n          \"Edi\",\n          \"Cinta\"\n        ],\n        \"semantic_type\": \"\",\n        \"description\": \"\"\n      }\n    },\n    {\n      \"column\": \"Umur\",\n      \"properties\": {\n        \"dtype\": \"number\",\n        \"std\": 12,\n        \"min\": 20,\n        \"max\": 50,\n        \"num_unique_values\": 5,\n        \"samples\": [\n          20,\n          50,\n          30\n        ],\n        \"semantic_type\": \"\",\n        \"description\": \"\"\n      }\n    },\n    {\n      \"column\": \"Gaji\",\n      \"properties\": {\n        \"dtype\": \"number\",\n        \"std\": 1581138,\n        \"min\": 1000000,\n        \"max\": 5000000,\n        \"num_unique_values\": 5,\n        \"samples\": [\n          2000000,\n          5000000,\n          3000000\n        ],\n        \"semantic_type\": \"\",\n        \"description\": \"\"\n      }\n    }\n  ]\n}"
            }
          },
          "metadata": {},
          "execution_count": 131
        }
      ]
    },
    {
      "cell_type": "markdown",
      "source": [
        "##### METHOD `pd.concat`\n",
        "Method ini hanya dapat dipergunakan untuk menggabungkan object `dataframe` atau `series` menjadi sebuah dataframe.\n",
        "\n",
        "Salah satu parameter pada method ini adalah `axis` yang akan menentukan bagaimana penggabungan akan dilakukan.\n",
        "1. `axis` = 0, maka `series`/`dataframe` akan digabungkan secara tumpang tindih;\n",
        "2. `axis`= 1, maka `series`/`dataframe` akan digabungkan secara bersebelahan.\n",
        "\n",
        "Hal yang harus dipastikan adalah:\n",
        "1. Jika `axis`=0, nama kolom pada setiap `dataframe`/`series` yang digabungkan sama;\n",
        "2. Jika `axis`=1, penulisan index baris setiap `dataframe`/`series` yang digabungkan sama."
      ],
      "metadata": {
        "id": "ypSV77zaxeBI"
      }
    },
    {
      "cell_type": "code",
      "source": [
        "# Menggabungkan data pada list_of_series\n",
        "pd.concat(list_of_series, axis=1).set_index('Kode')"
      ],
      "metadata": {
        "colab": {
          "base_uri": "https://localhost:8080/",
          "height": 238
        },
        "id": "Fnpv5MZd0Ku9",
        "outputId": "cf663a23-4448-4c46-cb14-a639ae570324"
      },
      "execution_count": 133,
      "outputs": [
        {
          "output_type": "execute_result",
          "data": {
            "text/plain": [
              "       Nama  Umur     Gaji\n",
              "Kode                      \n",
              "100    Amir    25  1000000\n",
              "200    Beni    20  2000000\n",
              "300   Cinta    30  3000000\n",
              "400   Dimas    40  4000000\n",
              "500     Edi    50  5000000"
            ],
            "text/html": [
              "\n",
              "  <div id=\"df-77d82325-b9b9-419e-8664-75542f621477\" class=\"colab-df-container\">\n",
              "    <div>\n",
              "<style scoped>\n",
              "    .dataframe tbody tr th:only-of-type {\n",
              "        vertical-align: middle;\n",
              "    }\n",
              "\n",
              "    .dataframe tbody tr th {\n",
              "        vertical-align: top;\n",
              "    }\n",
              "\n",
              "    .dataframe thead th {\n",
              "        text-align: right;\n",
              "    }\n",
              "</style>\n",
              "<table border=\"1\" class=\"dataframe\">\n",
              "  <thead>\n",
              "    <tr style=\"text-align: right;\">\n",
              "      <th></th>\n",
              "      <th>Nama</th>\n",
              "      <th>Umur</th>\n",
              "      <th>Gaji</th>\n",
              "    </tr>\n",
              "    <tr>\n",
              "      <th>Kode</th>\n",
              "      <th></th>\n",
              "      <th></th>\n",
              "      <th></th>\n",
              "    </tr>\n",
              "  </thead>\n",
              "  <tbody>\n",
              "    <tr>\n",
              "      <th>100</th>\n",
              "      <td>Amir</td>\n",
              "      <td>25</td>\n",
              "      <td>1000000</td>\n",
              "    </tr>\n",
              "    <tr>\n",
              "      <th>200</th>\n",
              "      <td>Beni</td>\n",
              "      <td>20</td>\n",
              "      <td>2000000</td>\n",
              "    </tr>\n",
              "    <tr>\n",
              "      <th>300</th>\n",
              "      <td>Cinta</td>\n",
              "      <td>30</td>\n",
              "      <td>3000000</td>\n",
              "    </tr>\n",
              "    <tr>\n",
              "      <th>400</th>\n",
              "      <td>Dimas</td>\n",
              "      <td>40</td>\n",
              "      <td>4000000</td>\n",
              "    </tr>\n",
              "    <tr>\n",
              "      <th>500</th>\n",
              "      <td>Edi</td>\n",
              "      <td>50</td>\n",
              "      <td>5000000</td>\n",
              "    </tr>\n",
              "  </tbody>\n",
              "</table>\n",
              "</div>\n",
              "    <div class=\"colab-df-buttons\">\n",
              "\n",
              "  <div class=\"colab-df-container\">\n",
              "    <button class=\"colab-df-convert\" onclick=\"convertToInteractive('df-77d82325-b9b9-419e-8664-75542f621477')\"\n",
              "            title=\"Convert this dataframe to an interactive table.\"\n",
              "            style=\"display:none;\">\n",
              "\n",
              "  <svg xmlns=\"http://www.w3.org/2000/svg\" height=\"24px\" viewBox=\"0 -960 960 960\">\n",
              "    <path d=\"M120-120v-720h720v720H120Zm60-500h600v-160H180v160Zm220 220h160v-160H400v160Zm0 220h160v-160H400v160ZM180-400h160v-160H180v160Zm440 0h160v-160H620v160ZM180-180h160v-160H180v160Zm440 0h160v-160H620v160Z\"/>\n",
              "  </svg>\n",
              "    </button>\n",
              "\n",
              "  <style>\n",
              "    .colab-df-container {\n",
              "      display:flex;\n",
              "      gap: 12px;\n",
              "    }\n",
              "\n",
              "    .colab-df-convert {\n",
              "      background-color: #E8F0FE;\n",
              "      border: none;\n",
              "      border-radius: 50%;\n",
              "      cursor: pointer;\n",
              "      display: none;\n",
              "      fill: #1967D2;\n",
              "      height: 32px;\n",
              "      padding: 0 0 0 0;\n",
              "      width: 32px;\n",
              "    }\n",
              "\n",
              "    .colab-df-convert:hover {\n",
              "      background-color: #E2EBFA;\n",
              "      box-shadow: 0px 1px 2px rgba(60, 64, 67, 0.3), 0px 1px 3px 1px rgba(60, 64, 67, 0.15);\n",
              "      fill: #174EA6;\n",
              "    }\n",
              "\n",
              "    .colab-df-buttons div {\n",
              "      margin-bottom: 4px;\n",
              "    }\n",
              "\n",
              "    [theme=dark] .colab-df-convert {\n",
              "      background-color: #3B4455;\n",
              "      fill: #D2E3FC;\n",
              "    }\n",
              "\n",
              "    [theme=dark] .colab-df-convert:hover {\n",
              "      background-color: #434B5C;\n",
              "      box-shadow: 0px 1px 3px 1px rgba(0, 0, 0, 0.15);\n",
              "      filter: drop-shadow(0px 1px 2px rgba(0, 0, 0, 0.3));\n",
              "      fill: #FFFFFF;\n",
              "    }\n",
              "  </style>\n",
              "\n",
              "    <script>\n",
              "      const buttonEl =\n",
              "        document.querySelector('#df-77d82325-b9b9-419e-8664-75542f621477 button.colab-df-convert');\n",
              "      buttonEl.style.display =\n",
              "        google.colab.kernel.accessAllowed ? 'block' : 'none';\n",
              "\n",
              "      async function convertToInteractive(key) {\n",
              "        const element = document.querySelector('#df-77d82325-b9b9-419e-8664-75542f621477');\n",
              "        const dataTable =\n",
              "          await google.colab.kernel.invokeFunction('convertToInteractive',\n",
              "                                                    [key], {});\n",
              "        if (!dataTable) return;\n",
              "\n",
              "        const docLinkHtml = 'Like what you see? Visit the ' +\n",
              "          '<a target=\"_blank\" href=https://colab.research.google.com/notebooks/data_table.ipynb>data table notebook</a>'\n",
              "          + ' to learn more about interactive tables.';\n",
              "        element.innerHTML = '';\n",
              "        dataTable['output_type'] = 'display_data';\n",
              "        await google.colab.output.renderOutput(dataTable, element);\n",
              "        const docLink = document.createElement('div');\n",
              "        docLink.innerHTML = docLinkHtml;\n",
              "        element.appendChild(docLink);\n",
              "      }\n",
              "    </script>\n",
              "  </div>\n",
              "\n",
              "\n",
              "<div id=\"df-7b90b081-3a6a-47ba-959c-b7c9d446013b\">\n",
              "  <button class=\"colab-df-quickchart\" onclick=\"quickchart('df-7b90b081-3a6a-47ba-959c-b7c9d446013b')\"\n",
              "            title=\"Suggest charts\"\n",
              "            style=\"display:none;\">\n",
              "\n",
              "<svg xmlns=\"http://www.w3.org/2000/svg\" height=\"24px\"viewBox=\"0 0 24 24\"\n",
              "     width=\"24px\">\n",
              "    <g>\n",
              "        <path d=\"M19 3H5c-1.1 0-2 .9-2 2v14c0 1.1.9 2 2 2h14c1.1 0 2-.9 2-2V5c0-1.1-.9-2-2-2zM9 17H7v-7h2v7zm4 0h-2V7h2v10zm4 0h-2v-4h2v4z\"/>\n",
              "    </g>\n",
              "</svg>\n",
              "  </button>\n",
              "\n",
              "<style>\n",
              "  .colab-df-quickchart {\n",
              "      --bg-color: #E8F0FE;\n",
              "      --fill-color: #1967D2;\n",
              "      --hover-bg-color: #E2EBFA;\n",
              "      --hover-fill-color: #174EA6;\n",
              "      --disabled-fill-color: #AAA;\n",
              "      --disabled-bg-color: #DDD;\n",
              "  }\n",
              "\n",
              "  [theme=dark] .colab-df-quickchart {\n",
              "      --bg-color: #3B4455;\n",
              "      --fill-color: #D2E3FC;\n",
              "      --hover-bg-color: #434B5C;\n",
              "      --hover-fill-color: #FFFFFF;\n",
              "      --disabled-bg-color: #3B4455;\n",
              "      --disabled-fill-color: #666;\n",
              "  }\n",
              "\n",
              "  .colab-df-quickchart {\n",
              "    background-color: var(--bg-color);\n",
              "    border: none;\n",
              "    border-radius: 50%;\n",
              "    cursor: pointer;\n",
              "    display: none;\n",
              "    fill: var(--fill-color);\n",
              "    height: 32px;\n",
              "    padding: 0;\n",
              "    width: 32px;\n",
              "  }\n",
              "\n",
              "  .colab-df-quickchart:hover {\n",
              "    background-color: var(--hover-bg-color);\n",
              "    box-shadow: 0 1px 2px rgba(60, 64, 67, 0.3), 0 1px 3px 1px rgba(60, 64, 67, 0.15);\n",
              "    fill: var(--button-hover-fill-color);\n",
              "  }\n",
              "\n",
              "  .colab-df-quickchart-complete:disabled,\n",
              "  .colab-df-quickchart-complete:disabled:hover {\n",
              "    background-color: var(--disabled-bg-color);\n",
              "    fill: var(--disabled-fill-color);\n",
              "    box-shadow: none;\n",
              "  }\n",
              "\n",
              "  .colab-df-spinner {\n",
              "    border: 2px solid var(--fill-color);\n",
              "    border-color: transparent;\n",
              "    border-bottom-color: var(--fill-color);\n",
              "    animation:\n",
              "      spin 1s steps(1) infinite;\n",
              "  }\n",
              "\n",
              "  @keyframes spin {\n",
              "    0% {\n",
              "      border-color: transparent;\n",
              "      border-bottom-color: var(--fill-color);\n",
              "      border-left-color: var(--fill-color);\n",
              "    }\n",
              "    20% {\n",
              "      border-color: transparent;\n",
              "      border-left-color: var(--fill-color);\n",
              "      border-top-color: var(--fill-color);\n",
              "    }\n",
              "    30% {\n",
              "      border-color: transparent;\n",
              "      border-left-color: var(--fill-color);\n",
              "      border-top-color: var(--fill-color);\n",
              "      border-right-color: var(--fill-color);\n",
              "    }\n",
              "    40% {\n",
              "      border-color: transparent;\n",
              "      border-right-color: var(--fill-color);\n",
              "      border-top-color: var(--fill-color);\n",
              "    }\n",
              "    60% {\n",
              "      border-color: transparent;\n",
              "      border-right-color: var(--fill-color);\n",
              "    }\n",
              "    80% {\n",
              "      border-color: transparent;\n",
              "      border-right-color: var(--fill-color);\n",
              "      border-bottom-color: var(--fill-color);\n",
              "    }\n",
              "    90% {\n",
              "      border-color: transparent;\n",
              "      border-bottom-color: var(--fill-color);\n",
              "    }\n",
              "  }\n",
              "</style>\n",
              "\n",
              "  <script>\n",
              "    async function quickchart(key) {\n",
              "      const quickchartButtonEl =\n",
              "        document.querySelector('#' + key + ' button');\n",
              "      quickchartButtonEl.disabled = true;  // To prevent multiple clicks.\n",
              "      quickchartButtonEl.classList.add('colab-df-spinner');\n",
              "      try {\n",
              "        const charts = await google.colab.kernel.invokeFunction(\n",
              "            'suggestCharts', [key], {});\n",
              "      } catch (error) {\n",
              "        console.error('Error during call to suggestCharts:', error);\n",
              "      }\n",
              "      quickchartButtonEl.classList.remove('colab-df-spinner');\n",
              "      quickchartButtonEl.classList.add('colab-df-quickchart-complete');\n",
              "    }\n",
              "    (() => {\n",
              "      let quickchartButtonEl =\n",
              "        document.querySelector('#df-7b90b081-3a6a-47ba-959c-b7c9d446013b button');\n",
              "      quickchartButtonEl.style.display =\n",
              "        google.colab.kernel.accessAllowed ? 'block' : 'none';\n",
              "    })();\n",
              "  </script>\n",
              "</div>\n",
              "\n",
              "    </div>\n",
              "  </div>\n"
            ],
            "application/vnd.google.colaboratory.intrinsic+json": {
              "type": "dataframe",
              "summary": "{\n  \"name\": \"pd\",\n  \"rows\": 5,\n  \"fields\": [\n    {\n      \"column\": \"Kode\",\n      \"properties\": {\n        \"dtype\": \"number\",\n        \"std\": 158,\n        \"min\": 100,\n        \"max\": 500,\n        \"num_unique_values\": 5,\n        \"samples\": [\n          200,\n          500,\n          300\n        ],\n        \"semantic_type\": \"\",\n        \"description\": \"\"\n      }\n    },\n    {\n      \"column\": \"Nama\",\n      \"properties\": {\n        \"dtype\": \"string\",\n        \"num_unique_values\": 5,\n        \"samples\": [\n          \"Beni\",\n          \"Edi\",\n          \"Cinta\"\n        ],\n        \"semantic_type\": \"\",\n        \"description\": \"\"\n      }\n    },\n    {\n      \"column\": \"Umur\",\n      \"properties\": {\n        \"dtype\": \"number\",\n        \"std\": 12,\n        \"min\": 20,\n        \"max\": 50,\n        \"num_unique_values\": 5,\n        \"samples\": [\n          20,\n          50,\n          30\n        ],\n        \"semantic_type\": \"\",\n        \"description\": \"\"\n      }\n    },\n    {\n      \"column\": \"Gaji\",\n      \"properties\": {\n        \"dtype\": \"number\",\n        \"std\": 1581138,\n        \"min\": 1000000,\n        \"max\": 5000000,\n        \"num_unique_values\": 5,\n        \"samples\": [\n          2000000,\n          5000000,\n          3000000\n        ],\n        \"semantic_type\": \"\",\n        \"description\": \"\"\n      }\n    }\n  ]\n}"
            }
          },
          "metadata": {},
          "execution_count": 133
        }
      ]
    },
    {
      "cell_type": "markdown",
      "metadata": {
        "id": "X2wP6M-0e2t9"
      },
      "source": [
        "---"
      ]
    }
  ],
  "metadata": {
    "colab": {
      "provenance": []
    },
    "kernelspec": {
      "display_name": "Python 3",
      "name": "python3"
    },
    "language_info": {
      "name": "python"
    }
  },
  "nbformat": 4,
  "nbformat_minor": 0
}