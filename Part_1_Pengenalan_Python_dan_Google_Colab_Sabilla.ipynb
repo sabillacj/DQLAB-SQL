{
  "cells": [
    {
      "cell_type": "markdown",
      "metadata": {
        "id": "sqCD1r_j9ANz"
      },
      "source": [
        "# ALGORITMA\n",
        "> \"*Algoritma adalah serangkaian langkah-langkah yang digunakan untuk menyelesaikan masalah atau menyelesaikan tugas.*\"\n",
        "\n",
        "Secara sederhana, algoritma adalah metode untuk menyelesaikan masalah dengan mengatur urutan langkah-langkah yang harus dilakukan. Algoritma digunakan secara luas di berbagai bidang, seperti:\n",
        "- ***Computer Science***;\n",
        "- **Matematika**;\n",
        "- **Riset Operasi**;\n",
        "- ***Artificial Intelligence***; dan\n",
        "- ***Data Science***.\n",
        "\n",
        "Agar bisa menyelesaikan masalah dengan efektif, sebuah algoritma terdiri dari instruksi-instruksi yang terstruktur, berurutan, dan tidak ambigu, sehingga prosesnya konsisten dan menghasilkan output yang diharapkan. Instruksi-instruksi dalam algoritma idealnya memiliki karakteristik berikut:\n",
        "1. **Input yang Jelas**: Setiap input yang dibutuhkan harus ditentukan dengan jelas;\n",
        "2. **Tidak Ambigu**: Setiap langkah harus jelas agar tidak menimbulkan penafsiran ganda;\n",
        "3. **Berakhir**: Algoritma harus selesai setelah sejumlah langkah yang terbatas;\n",
        "4. **Output yang Jelas**: Algoritma harus menghasilkan output yang sudah ditentukan dengan jelas;\n",
        "5. **Efektif**: Algoritma harus mampu menyelesaikan masalah sesuai yang diharapkan;\n",
        "6. **Independen Bahasa**: Algoritma harus bisa diterjemahkan ke berbagai bahasa pemrograman, tanpa bergantung pada satu bahasa tertentu.\n",
        "\n",
        "## Mengapa Algoritma Penting?\n",
        "Di zaman yang serba digital ini, memahami algoritma sangat penting, baik untuk mereka yang bekerja di bidang teknologi maupun dalam kehidupan sehari-hari. Banyak aplikasi yang kita gunakan setiap hari juga bekerja dengan algoritma. Misalnya, aplikasi pemesanan makanan mengatur proses dari memilih makanan hingga mengantarnya ke rumah kita dengan langkah-langkah yang mirip dengan algoritma memasak atau belanja bulanan. Memahami Algoritma akan membantu kita membuat keputusan yang lebih baik, bekerja lebih efisien, dan memahami proses di sekitar kita dengan lebih baik.\n",
        "\n"
      ]
    },
    {
      "cell_type": "markdown",
      "metadata": {
        "id": "noHUIEmAGZav"
      },
      "source": [
        "## Algoritma Dalam Keseharian\n",
        "Pada dasarnya algoritma bukanlah sesuatu yang asing, hampir setiap aspek dalam keseharian kita akan berurusan dengan algoritma. Permasalahan sehari-hari yang kita hadapi biasanya membutuhkan penanganan logis dan sistematis, maka secara natural algoritma akan selalu dapat diterapkan. Selain membantu menyederhanakan permasalahan yang kompleks, algoritma juga memungkinkan replikasi proses pemecahan masalah oleh individu lain yang menghadapi permasalahan serupa serta memastikan output yang sama akan dihasilkan, terlepas dari siapapun yang melaksanakan proses.\n",
        "\n",
        "Resep Masakan adalah ilustrasi paling nyata dari penerapan algoritma dalam kehidupan sehari-hari. Mengkonsumsi makanan yang telah dimasak adalah salah satu cara untuk memenuhi kebutuhan energi dan melangsungkan kehidupan. Untuk memastikan bahwa makanan yang dikonsumsi memenuhi standar selera serta nutrisi berdasarkan bahan baku tertentu, maka disusunlah tata cara memasak yang dituangkan ke dalam sebuah resep. Dengan adanya resep tersebut, maka cita rasa dan nutrisi yang serupa dapat disediakan di meja setiap rumahtangga yang menggunakannya.\n",
        "\n",
        "Tidak hanya Resep seperti dideskripsikan di atas, masih banyak hal dari keseharian kita yang sebenarnya merupakan ilustrasi penerapan dari algoritma. Untuk membantu dalam memahami bagaimana algoritma diterapkan dalam berbagai pemecahan masalah, di bawah berikut telah disusun beberapa ilustrasi lain secara lebih terperinci."
      ]
    },
    {
      "cell_type": "markdown",
      "metadata": {
        "id": "Ga-5VwgRvsnr"
      },
      "source": [
        "### Memasak Mie Goreng Instan\n",
        "Memasak mie goreng instan adalah satu-satunya keterampilan memasak yang diperlukan bagi seorang pria Indonesia sejati untuk bisa bertahan hidup.\n",
        "\n",
        "```\n",
        "Nyalakan kompor\n",
        "Isi panci dengan air bersih\n",
        "Taruh panci berisi air di kompor yang menyala\n",
        "Buka bungkus mie goreng\n",
        "Ambil mangkuk dan tuangkan bumbu instan\n",
        "Jika air di panci mendidih\n",
        "    Masukkan mie ke dalam panci\n",
        "    Jika waktu rebus masih di bawah 3 menit\n",
        "        Biarkan mie di panci\n",
        "    Matikan kompor\n",
        "    Angkat panci\n",
        "Pindahkan mie dari panci ke saringan\n",
        "Tiriskan mie di saringan\n",
        "Tuang mie yang sudah ditiriskan ke mangkuk\n",
        "Aduk mie hingga bumbu merata\n",
        "Sajikan mie goreng\n",
        "```"
      ]
    },
    {
      "cell_type": "markdown",
      "source": [
        "**Coba pikirkan:** Apakah ada efisiensi yang dapat dilakukan terhadap algoritma di atas??"
      ],
      "metadata": {
        "id": "HlbIPbNe9L3Y"
      }
    },
    {
      "cell_type": "markdown",
      "metadata": {
        "id": "G07QWLNqGo47"
      },
      "source": [
        "### Belanja Bulanan Keluarga\n",
        "\n",
        "Dalam rangka memenuhi kebutuhannya, setiap awal bulan sebuah keluarga harus melakukan belanja bulanan. Sebelum berbelanja, keluarga tersebut akan membuat sebuah daftar belanja berisikan berbagai barang serta jumlah yang diperkirakan akan dibutuhkan olehnya selama sebulan ke depan. Untuk memastikan agar siapapun yang berbelanja akan membawa pulang berbagai barang yang sesuai dengan kebutuhan, maka keluarga tersebut membuat sebuah prosedur belanja bulanan seperti berikut ini:\n",
        "\n",
        "```\n",
        "Buka `Daftar Belanja`\n",
        "Jika seluruh `Item` pada `Daftar Belanja` sudah tercoret\n",
        "    Batalkan belanja bulanan\n",
        "Ambil `Trolley`\n",
        "Untuk setiap `Item` pada `Daftar Belanja`\n",
        "    Cari dan kumpulkan setiap `Merek` tersedia dari `Item`\n",
        "    Buat `Daftar Merek` berisi setiap `Merek` dari `Item` yang tersedia\n",
        "    Jika jumlah `Merek` pada `Daftar Merek` lebih dari 1\n",
        "        Untuk setiap `Merek` pada `Daftar Merek`\n",
        "            Hitung `Harga per satuan` dari `Merek`\n",
        "            Proses `Merek` selanjutnya\n",
        "        Urutkan `Merek` pada `Daftar Merek` berdasarkan `Harga per satuan`\n",
        "        Masukkan `Item` dengan `Harga per satuan` paling rendah ke `Trolley` sebanyak jumlah tertera pada `Daftar Belanja`\n",
        "        Coret `Item` pada `Daftar Belanja`\n",
        "    Jika `Merek` pada `Ragam Item` hanya 1\n",
        "        Masukkan `Item` ke `Trolley` sebanyak jumlah tertera pada `Daftar Belanja`\n",
        "        Coret `Item` pada `Daftar Belanja`\n",
        "    Lanjutkan pencarian ke `Item` berikutnya\n",
        "Bawa `Trolley` ke kasir dan lakukan pembayaran\n",
        "Jika terdapat `Item` pada `Daftar Belanja` yang belum tercoret\n",
        "    Pergi ke toko lain, ulangi proses belanja dari awal\n",
        "```"
      ]
    },
    {
      "cell_type": "markdown",
      "source": [
        "**Coba pikirkan:** Adakah proses yang perlu ditambahkan/dikurangi dari algoritma di atas??"
      ],
      "metadata": {
        "id": "lpmlV-yexqfs"
      }
    },
    {
      "cell_type": "markdown",
      "metadata": {
        "id": "pevDAA3WNUx2"
      },
      "source": [
        "### Sensus Tumbuh Kembang Anak\n",
        "Dalam rangka melakukan analisis kecukupan gizi siswa Sekolah Dasar (SD) di sebuah Kabupaten, maka setiap Kepala SD di Kabupaten tersebut diperintahkan untuk melakukan Sensus **Indikator Tumbuh Kembang** anak terhadap seluruh murid yang terdaftar di sekolahnya. Untuk memastikan agar pelaksanaan dan output dari sensus sesuai dengan seharusnya, maka pelaksana sensus menetapkan sebuah prosedur sederhana yang harus dipatuhi oleh setiap kepala sekolah seperti berikut ini:\n",
        "\n",
        "```\n",
        "Buka `Daftar Murid`, ambil data dari kolom `Nama`, `Jenis Kelamin`, dan `Tanggal Lahir`\n",
        "Untuk setiap `Murid` pada `Daftar Murid`\n",
        "    Panggil `Murid` menghadap ke UKS\n",
        "    Untuk setiap `Indikator` pada `Indikator Tumbuh Kembang`\n",
        "        Ukur dan catat `Indikator` dari `Murid`\n",
        "        Lanjutkan pengukuran dan pencatatan untuk `Indikator` berikutnya\n",
        "    Tandai `Murid` sudah disurvey pada `Daftar Murid`\n",
        "    Lanjutkan proses ke `Murid` berikutnya\n",
        "Hitung `Umur` seluruh `Murid` berdasarkan `Tanggal Lahir`\n",
        "Tentukan `Kelompok Usia` setiap `Murid` berdasarkan hasil perhitungan `Umur`\n",
        "Hitung statistics:\n",
        "  1. Kelompokkan data berdasarkan `Kelompok Usia`\n",
        "  2. Hitung `mean`, `min`, `max`, & `stdev` per `Kelompok Usia`\n",
        "```"
      ]
    },
    {
      "cell_type": "markdown",
      "source": [
        "\n",
        "## Kesimpulan\n",
        "Algoritma adalah bagian integral dari kehidupan kita, dari hal-hal sederhana seperti memasak mie hingga proses yang lebih kompleks dalam dunia teknologi. Dengan memahami dan menerapkan algoritma, kita dapat menyelesaikan masalah lebih efisien dan memastikan hasil yang konsisten."
      ],
      "metadata": {
        "id": "6fFrvX9mx_nH"
      }
    },
    {
      "cell_type": "markdown",
      "metadata": {
        "id": "zZ70T0LvlJMU"
      },
      "source": [
        "---\n",
        "# ALGORITMA DALAM DATA ANALYTICS : *SORTING*\n",
        "> \"*Sorting adalah proses untuk mengurutkan angka/karakter berdasarkan urutan tertentu (Descending/Ascending)*.\"\n",
        "\n",
        "*Sorting* merupakan salah satu proses terkomputerisasi dasar penting yang menjadi bagian integral dari algoritma proses terkomputerisasi lanjutan lainnya. Sebagai ilustrasi, dalam setiap algoritma *search*, proses *sorting* merupakan proses pertama yang dikenakan terhadap data, sebelum pencarian dilakukan. Seperti kata pepatah \"Banyak jalan menuju Roma\", demikian pula halnya dengan proses melakukan *sorting*, terdapat banyak alternatif algoritma yang dapat dipilih, mulai dari yang paling sederhana hingga yang teramat kompleks. Oleh karena itu, pemahaman atas bagaimana berbagai proses *sorting* yang berbeda dilakukan, merupakan sebuah langkah awal untuk mengerti berbagai alternatif algoritma lain yang tersedia untuk menyelesaikan suatu permasalahan.\n",
        "\n",
        "Meskipun banyak alternatif algoritma yang tersedia bagi proses *sorting*, namun mempertimbangkan sisi kemudahan pembelajaran dan keterbatasan waktu, maka pada *exercise* ini hanya akan dilakukan pembahasan terkait dua algoritma *sorting* klasik, yaitu:\n",
        "1. ***Bubble Sorting***; dan\n",
        "2. ***Quick Sorting***.\n",
        "\n",
        "Pembahasan akan dimulai dengan melakukan proses *sorting* terhadap sebuah deret acak dengan menggunakan kedua algoritma tersebut, untuk membandingkan *output* dari keduanya. Selanjutnya akan ditunjukkan dampak dari pemilihan masing-masing algoritma terhadap proses *sorting* yang dilakukan--baik terhadap cara pemrosesan maupun terhadap efisiensi dari proses."
      ]
    },
    {
      "cell_type": "markdown",
      "source": [
        "___\n",
        "> Untuk dapat mengikuti dan menjalankan beberapa *exercises* di bawah berikut, silahkan unduh modul [functions](https://drive.google.com/file/d/1dXMuGyplSRowrLZ-_tvowhavE7rJ3Xw_/view?usp=sharing) terlebih dahulu, lalu unggah modul tersebut ke `session storage` sehingga berbagai fungsi yang telah dibuat di dalamnya dapat di*import* ke `notebook` ini.\n",
        "___"
      ],
      "metadata": {
        "id": "tx2J11yIyphO"
      }
    },
    {
      "cell_type": "markdown",
      "metadata": {
        "id": "X1llBIIk5Plk"
      },
      "source": [
        "## Membuat Deret Angka Acak\n",
        "\n",
        "1. Dari modul `functions` panggil fungsi `generate_deret` dan `print_satu_persatu`;\n",
        "2. Buat deret berisi 10 angka bulat acak, dengan range nilai 0 - 100000, simpan pada variabel `deret`;\n",
        "3. Tampilkan `deret` ke layar menggunakan fungsi `print_satu_persatu`."
      ]
    },
    {
      "cell_type": "code",
      "execution_count": 4,
      "metadata": {
        "id": "pO1fzVPu65eC"
      },
      "outputs": [],
      "source": [
        "# Import fungsi-fungsi yang diperlukan dari modul `functions`\n",
        "from functions import generate_deret, print_satu_persatu"
      ]
    },
    {
      "cell_type": "code",
      "source": [
        "type(generate_deret)"
      ],
      "metadata": {
        "id": "nlzqyFLiX22H",
        "colab": {
          "base_uri": "https://localhost:8080/"
        },
        "outputId": "36f06254-a5c1-4b67-fd73-58cdb578c65d"
      },
      "execution_count": 5,
      "outputs": [
        {
          "output_type": "execute_result",
          "data": {
            "text/plain": [
              "function"
            ]
          },
          "metadata": {},
          "execution_count": 5
        }
      ]
    },
    {
      "cell_type": "code",
      "source": [
        "help(generate_deret)"
      ],
      "metadata": {
        "id": "dYVCuh-KYEkX",
        "colab": {
          "base_uri": "https://localhost:8080/"
        },
        "outputId": "7e0d3d91-4be5-4888-cb88-6959945fe897"
      },
      "execution_count": 6,
      "outputs": [
        {
          "output_type": "stream",
          "name": "stdout",
          "text": [
            "Help on function generate_deret in module functions:\n",
            "\n",
            "generate_deret(jumlah_elemen: int, batas_bawah: int, batas_atas: int, seed: int = 10) -> list\n",
            "    FUNGSI UNTUK MEN-GENERATE DERET ACAK\n",
            "    PARAMETERS:\n",
            "      1. jumlah_elemen : Int, jumlah elemen deret yang akan digenerate;\n",
            "      2. batas_bawah : Int, nilai batas bawah dari angka yang akan digenerate;\n",
            "      3. batas_atas : Int, nilai batas atas dari angka yang akan digenerate;\n",
            "      4. seed : Int, nilai seed bagi fungsi random, agar deret yang sama dapat\n",
            "           digenerate ulang (nilai default = 10).\n",
            "\n"
          ]
        }
      ]
    },
    {
      "cell_type": "code",
      "source": [
        "type(print_satu_persatu)"
      ],
      "metadata": {
        "id": "EcGhJDd9X69F",
        "colab": {
          "base_uri": "https://localhost:8080/"
        },
        "outputId": "b500a0a8-8740-44e2-9d46-287bcbf2e20a"
      },
      "execution_count": 7,
      "outputs": [
        {
          "output_type": "execute_result",
          "data": {
            "text/plain": [
              "function"
            ]
          },
          "metadata": {},
          "execution_count": 7
        }
      ]
    },
    {
      "cell_type": "code",
      "source": [
        "help(print_satu_persatu)"
      ],
      "metadata": {
        "id": "Q6iI3AzSKR_C",
        "colab": {
          "base_uri": "https://localhost:8080/"
        },
        "outputId": "9df206f4-8695-4e38-8847-3bf0edb64303"
      },
      "execution_count": 8,
      "outputs": [
        {
          "output_type": "stream",
          "name": "stdout",
          "text": [
            "Help on function print_satu_persatu in module functions:\n",
            "\n",
            "print_satu_persatu(jdl: str, deret: list, margin: int) -> None\n",
            "    Fungsi untuk menampilkan isi sebuah list secara animasi\n",
            "    PARAMETERS:\n",
            "        1. jdl -> string yang ditampilkan sebagai dari judul deret;\n",
            "        2. deret -> list yang akan dianimasikan;\n",
            "        3. margin -> sebuah angka bulat yang menentukan panjang margin layar.\n",
            "\n"
          ]
        }
      ]
    },
    {
      "cell_type": "code",
      "source": [
        "type(print)"
      ],
      "metadata": {
        "id": "LljyXQnAYThF",
        "colab": {
          "base_uri": "https://localhost:8080/"
        },
        "outputId": "2924fcc8-8336-4463-cfe2-a8826487fbc1"
      },
      "execution_count": 9,
      "outputs": [
        {
          "output_type": "execute_result",
          "data": {
            "text/plain": [
              "builtin_function_or_method"
            ]
          },
          "metadata": {},
          "execution_count": 9
        }
      ]
    },
    {
      "cell_type": "code",
      "source": [
        "help(print)"
      ],
      "metadata": {
        "id": "mZrUlDT0YW4F",
        "colab": {
          "base_uri": "https://localhost:8080/"
        },
        "outputId": "eeb64c01-1aeb-4b93-8537-26b875ff944a"
      },
      "execution_count": 10,
      "outputs": [
        {
          "output_type": "stream",
          "name": "stdout",
          "text": [
            "Help on built-in function print in module builtins:\n",
            "\n",
            "print(...)\n",
            "    print(value, ..., sep=' ', end='\\n', file=sys.stdout, flush=False)\n",
            "    \n",
            "    Prints the values to a stream, or to sys.stdout by default.\n",
            "    Optional keyword arguments:\n",
            "    file:  a file-like object (stream); defaults to the current sys.stdout.\n",
            "    sep:   string inserted between values, default a space.\n",
            "    end:   string appended after the last value, default a newline.\n",
            "    flush: whether to forcibly flush the stream.\n",
            "\n"
          ]
        }
      ]
    },
    {
      "cell_type": "code",
      "execution_count": 11,
      "metadata": {
        "id": "NDZ98nq3Q1Jk",
        "colab": {
          "base_uri": "https://localhost:8080/"
        },
        "outputId": "af6d736b-cdc5-40bb-bd19-7d3f506bd835"
      },
      "outputs": [
        {
          "output_type": "stream",
          "name": "stdout",
          "text": [
            "Deret acak yang dihasilkan: [74894, 4270, 56215, 63250, 75771, 1944, 27013, 60631, 64395, 36375]"
          ]
        }
      ],
      "source": [
        "# INPUTS:\n",
        "# 1. Tentukan jumlah elemen deret\n",
        "jml_elemen = 10\n",
        "# 2. Tentukan batas bawah nilai elemen\n",
        "bts_bawah = 0\n",
        "# 3. Tentukan batas atas nilai elemen\n",
        "bts_atas = 100000\n",
        "\n",
        "# PROSES & OUTPUT:\n",
        "# 1. Buat `deret`, masukkan variabel-variabel INPUTS ke fungsi `generate_deret`\n",
        "deret = generate_deret(jumlah_elemen=jml_elemen, batas_bawah=bts_bawah, batas_atas=bts_atas)\n",
        "# 2. Tampilkan `deret` menggunakan fungsi `print_satu_persatu`\n",
        "print_satu_persatu(jdl=\"Deret acak yang dihasilkan:\", deret=deret, margin=0)"
      ]
    },
    {
      "cell_type": "markdown",
      "metadata": {
        "id": "t-x12EBE7hEC"
      },
      "source": [
        "## Melakukan *Sorting*"
      ]
    },
    {
      "cell_type": "markdown",
      "metadata": {
        "id": "XKvxKH6MXcjm"
      },
      "source": [
        "### *Bubble Sorting*\n",
        "Algoritma *Bubble Sorting* menerapkan teknik ***Nested Loop***, dimana sebuah proses iterasi dilakukan di dalam sebuah iterasi lain. Sehingga algoritma ini akan dicirikan dengan terdapatnya sebuah ***inner loop*** dalam sebuah ***outer loop***. *Nested Loop* ini dilakukan untuk memastikan agar output yang dihasilkan dari proses sesuai dengan harapan.\n",
        "\n",
        "Pada *bubble sorting* ini, ***inner loop*** akan berupa pengulangan proses **perbandingan nilai dan penukaran posisi** untuk setiap elemen pada `deret` dari elemen paling kiri hingga paling kanan. Selanjutnya, setiap `deret` hasil ***inner loop*** akan diproses ulang sebanyak jumlah elemen pada `deret` oleh sebuah ***outer loop***.\n",
        "\n",
        "Adapun algoritma dimaksud, akan seperti dituliskan di bawah berikut:\n",
        "```\n",
        "Terima `deret` untuk disort\n",
        "Tentukan `banyaknya_proses` berdasarkan jumlah elemen pada `deret`\n",
        "Untuk setiap `urutan_proses` pada `banyaknya_proses`\n",
        "    Untuk setiap `posisi_elemen` pada `deret`\n",
        "        Jika elemen ke-(`posisi_elemen`) > elemen ke-(`posisi_elemen`+1)\n",
        "            Tukar posisi elemen ke-(`posisi_elemen`) dengan elemen ke-(`posisi_elemen`+1)\n",
        "        Lanjut ke `posisi_elemen` berikutnya\n",
        "    Lanjut ke `urutan_proses` berikutnya\n",
        "```"
      ]
    },
    {
      "cell_type": "code",
      "execution_count": 12,
      "metadata": {
        "id": "JQbuiSur7oAw"
      },
      "outputs": [],
      "source": [
        "# Import fungsi-fungsi yang diperlukan dari `functions`\n",
        "from functions import bubble_sort"
      ]
    },
    {
      "cell_type": "code",
      "source": [
        "type(bubble_sort)"
      ],
      "metadata": {
        "id": "nPzG8Xz3ZRs0",
        "colab": {
          "base_uri": "https://localhost:8080/"
        },
        "outputId": "4ef93692-4387-4a90-adbc-2c5e84b548d0"
      },
      "execution_count": 13,
      "outputs": [
        {
          "output_type": "execute_result",
          "data": {
            "text/plain": [
              "function"
            ]
          },
          "metadata": {},
          "execution_count": 13
        }
      ]
    },
    {
      "cell_type": "code",
      "source": [
        "help(bubble_sort)"
      ],
      "metadata": {
        "id": "kG09YqklML7Z",
        "colab": {
          "base_uri": "https://localhost:8080/"
        },
        "outputId": "844b0325-4c0b-4d3b-8f54-0507183be403"
      },
      "execution_count": 14,
      "outputs": [
        {
          "output_type": "stream",
          "name": "stdout",
          "text": [
            "Help on function bubble_sort in module functions:\n",
            "\n",
            "bubble_sort(deret: list) -> list\n",
            "    Fungsi untuk melakukan pengurutan elemen pada suatu deret \n",
            "      dengan menggunakan algoritma 'bubble sort`\n",
            "    PARAMETERS:\n",
            "        1. deret -> list yang belum disortir.\n",
            "\n"
          ]
        }
      ]
    },
    {
      "cell_type": "code",
      "execution_count": 15,
      "metadata": {
        "id": "-NIMcCOl8hiA",
        "colab": {
          "base_uri": "https://localhost:8080/"
        },
        "outputId": "152bbcda-2027-4013-8642-dbf45aeee7e1"
      },
      "outputs": [
        {
          "output_type": "stream",
          "name": "stdout",
          "text": [
            "Hasil Bubble Sort: [1944, 4270, 27013, 36375, 56215, 60631, 63250, 64395, 74894, 75771]"
          ]
        }
      ],
      "source": [
        "# 1. Urut `deret` dengan fungsi `bubble_sort`, simpan pada variabel `deret_bubble_sort`\n",
        "deret_bubble_sort = bubble_sort(deret)\n",
        "# 2. Tampilkan Hasil sorting menggunakan fungsi `print_satu_persatu`\n",
        "print_satu_persatu(jdl=\"Hasil Bubble Sort:\", deret=deret_bubble_sort, margin=0)"
      ]
    },
    {
      "cell_type": "markdown",
      "metadata": {
        "id": "1M9tosuEfIAX"
      },
      "source": [
        "#### *Quick Sorting*\n",
        "Algoritma *Quick Sorting* menerapkan teknik ***Function Recursion***, dimana suatu fungsi akan memanggil dirinya sendiri untuk memproses *output*nya. Sehingga algoritma ini akan dicirikan dengan terdapatnya pemanggilan dirinya sendiri untuk memproses output yang dihasilkannya. Hal penting yang perlu ditentukan pada teknis *recursive* adalah untuk menghindari terjadinya pemrosesan tanpa akhir (*infinite*). Oleh karena itu pada algoritma ini akan diperlukan penetapan kondisi dimana proses *recursive* harus dihentikan.\n",
        "\n",
        "Proses *recursive* yang dilakukan pada saat menerapkan algoritma *quick sorting* melibatkan tiga proses berikut ini:\n",
        "1. Pemilihan sebuah elemen dari `deret` untuk bertindak sebagai **pivot**, biasanya dipilih dari elemen paling tengah, paling awal, atau paling ujung pada `deret`;\n",
        "2. Proses **partisi** yang memisahkan elemen deret menjadi tiga kelompok `deret`, yaitu `deret kiri`, `deret tengah`, dan `deret kanan`, dengan cara membandingkan nilai setiap elemen dengan nilai **pivot**; dan\n",
        "3. Memanggil dirinya sendiri untuk memproses setiap kelompok `deret kiri` dan `deret kanan` yang dihasilkan.\n",
        "\n",
        "Agar proses *recursive* di atas tidak berlangsung selamanya, maka perlu ditentukan sebuah kondisi penghentian proses, yaitu ketika jumlah elemen pada `deret` yang diproses lebih kecil atau sama dengan satu.\n",
        "\n",
        "Adapun algoritma dimaksud, akan seperti dituliskan di bawah berikut:\n",
        "```\n",
        "Terima `deret` untuk disort\n",
        "Jika jumlah elemen pada `deret`<=1\n",
        "    maka `deret` tidak perlu diproses\n",
        "Set nilai `pivot` = elemen `deret` paling tengah\n",
        "Pisah elemen `deret` bernilai < `pivot` ke deret `kiri`\n",
        "Pisah elemen `deret` bernilai == `pivot` ke deret `tengah`\n",
        "Pisah elemen `deret` bernilai > `pivot` ke deret `kanan`\n",
        "Lakukan langkah 1 - 7 terhadap `kiri`\n",
        "Lakukan langkah 1 - 7 terhadap `kanan`\n",
        "Gabungkan hasil langkah ke-8 dengan `tengah` dan hasil langkah ke-9\n",
        "```"
      ]
    },
    {
      "cell_type": "code",
      "execution_count": 16,
      "metadata": {
        "id": "MPJyb-sJF123"
      },
      "outputs": [],
      "source": [
        "# Import fungsi-fungsi yang diperlukan dari `functions`\n",
        "from functions import quick_sort"
      ]
    },
    {
      "cell_type": "code",
      "source": [
        "type(quick_sort)"
      ],
      "metadata": {
        "id": "-Z9KR5tbXhmn",
        "colab": {
          "base_uri": "https://localhost:8080/"
        },
        "outputId": "e03c5272-5670-4b56-8cea-096614db7d00"
      },
      "execution_count": 17,
      "outputs": [
        {
          "output_type": "execute_result",
          "data": {
            "text/plain": [
              "function"
            ]
          },
          "metadata": {},
          "execution_count": 17
        }
      ]
    },
    {
      "cell_type": "code",
      "source": [
        "help(quick_sort)"
      ],
      "metadata": {
        "id": "oZ5hcWMbMrS8",
        "colab": {
          "base_uri": "https://localhost:8080/"
        },
        "outputId": "745f6290-c2d2-461e-bd1a-f3f0e0d9bc9a"
      },
      "execution_count": 18,
      "outputs": [
        {
          "output_type": "stream",
          "name": "stdout",
          "text": [
            "Help on function quick_sort in module functions:\n",
            "\n",
            "quick_sort(deret: list) -> list\n",
            "    Fungsi untuk mengurutkan elemen pada suatu deret \n",
            "      yang dilakukan dengan algoritma 'quick sort`\n",
            "    PARAMETERS:\n",
            "        1. deret -> list yang belum disortir.\n",
            "\n"
          ]
        }
      ]
    },
    {
      "cell_type": "code",
      "execution_count": 19,
      "metadata": {
        "id": "OOM5dl-dGCPX",
        "colab": {
          "base_uri": "https://localhost:8080/"
        },
        "outputId": "fb019e7d-35b3-489e-c7e6-97a02b506fa0"
      },
      "outputs": [
        {
          "output_type": "stream",
          "name": "stdout",
          "text": [
            "Hasil Quick sort: [1944, 4270, 27013, 36375, 56215, 60631, 63250, 64395, 74894, 75771]"
          ]
        }
      ],
      "source": [
        "# 1. Urut deret dengan `quick_sort`, simpan pada variabel `deret_quick_sort`\n",
        "deret_quick_sort = quick_sort(deret)\n",
        "# 2. Tampilkan `deret_quick_sort` menggunakan print_satu_persatu\n",
        "print_satu_persatu(\"Hasil Quick sort:\", deret_quick_sort, 0)"
      ]
    },
    {
      "cell_type": "code",
      "source": [
        "deret_bubble_sort==deret_quick_sort"
      ],
      "metadata": {
        "id": "BPqy-85tM6W0",
        "colab": {
          "base_uri": "https://localhost:8080/"
        },
        "outputId": "927137ca-7dc2-4168-9ae3-8db429e67021"
      },
      "execution_count": 20,
      "outputs": [
        {
          "output_type": "execute_result",
          "data": {
            "text/plain": [
              "True"
            ]
          },
          "metadata": {},
          "execution_count": 20
        }
      ]
    },
    {
      "cell_type": "markdown",
      "metadata": {
        "id": "2O81cc8JKSI1"
      },
      "source": [
        "### Kesimpulan\n",
        "Penerapan algoritma baik `Bubble` maupun `Quick` *sorting* terhadap sebuah deret yang acak, akan menghasilkan output berupa deret terurut yang serupa!!"
      ]
    },
    {
      "cell_type": "markdown",
      "metadata": {
        "id": "xLr9H10Aw2zB"
      },
      "source": [
        "## Bubble Vs Quick Sorting"
      ]
    },
    {
      "cell_type": "markdown",
      "metadata": {
        "id": "uqkx3KGEHAEm"
      },
      "source": [
        "### Langkah Pemrosesan\n",
        "Perbedaan paling mendasar dari kedua algoritma *sorting* tersebut terletak pada berbagai langkah yang dilakukan untuk melakukan proses *sorting*. Bagian berikut di bawah ini akan mencoba untuk menunjukkan perbedaan antara kedua algoritma yang disebutkan, dari segi cara pemrosesan secara visual sederhana."
      ]
    },
    {
      "cell_type": "markdown",
      "metadata": {
        "id": "q0BMK9cJxJNC"
      },
      "source": [
        "#### Bubble Sorting\n",
        "Agar dapat memvisualisasikan langkah-langkah yang dilakukan ketika menjalankan algoritma *Bubble Sorting*, maka fungsi `bubble_sort` yang sudah kita pergunakan sebelumnya di atas telah dimodifikasi dan disimpan dalam fungsi baru bernama `bubble_sort_show`."
      ]
    },
    {
      "cell_type": "code",
      "execution_count": 21,
      "metadata": {
        "id": "eZWki4bCK-Hs"
      },
      "outputs": [],
      "source": [
        "# 0. Import fungsi `bubble_sort_show` dari functions\n",
        "from functions import bubble_sort_show"
      ]
    },
    {
      "cell_type": "code",
      "source": [
        "type(bubble_sort_show)"
      ],
      "metadata": {
        "id": "yrRqjbHhZ5jE",
        "colab": {
          "base_uri": "https://localhost:8080/"
        },
        "outputId": "efa318f7-2501-49f5-b18c-69554094427b"
      },
      "execution_count": 22,
      "outputs": [
        {
          "output_type": "execute_result",
          "data": {
            "text/plain": [
              "function"
            ]
          },
          "metadata": {},
          "execution_count": 22
        }
      ]
    },
    {
      "cell_type": "code",
      "source": [
        "help(bubble_sort_show)"
      ],
      "metadata": {
        "id": "hJcMnkieOS_a",
        "colab": {
          "base_uri": "https://localhost:8080/"
        },
        "outputId": "5d2e6d71-ba7b-4059-8a36-8651579b74c2"
      },
      "execution_count": 23,
      "outputs": [
        {
          "output_type": "stream",
          "name": "stdout",
          "text": [
            "Help on function bubble_sort_show in module functions:\n",
            "\n",
            "bubble_sort_show(deret: list, N: int) -> list\n",
            "    Fungsi untuk melakukan visualisasi bagi proses pengurutan deret \n",
            "      yang dilakukan dengan menggunakan algoritma `bubble sort`\n",
            "    PARAMETERS:\n",
            "        1. deret -> list yang belum disortir;\n",
            "        2. N -> int dari angka lebar layar pada tampilan.\n",
            "\n"
          ]
        }
      ]
    },
    {
      "cell_type": "code",
      "execution_count": 24,
      "metadata": {
        "id": "lcPw7ufMwTSr",
        "colab": {
          "base_uri": "https://localhost:8080/"
        },
        "outputId": "57e5f136-daf3-4672-b285-1329d2cba2e9"
      },
      "outputs": [
        {
          "output_type": "stream",
          "name": "stdout",
          "text": [
            " DERET AWAL ========================================================================================\n",
            "                [74894, 4270, 56215, 63250, 75771, 1944, 27013, 60631, 64395, 36375]                \n",
            "====================================================================================================\n",
            "         Proses ke-1 : [4270, 56215, 63250, 74894, 1944, 27013, 60631, 64395, 36375, 75771]         \n",
            "         Proses ke-2 : [4270, 56215, 63250, 1944, 27013, 60631, 64395, 36375, 74894, 75771]         \n",
            "         Proses ke-3 : [4270, 56215, 1944, 27013, 60631, 63250, 36375, 64395, 74894, 75771]         \n",
            "         Proses ke-4 : [4270, 1944, 27013, 56215, 60631, 36375, 63250, 64395, 74894, 75771]         \n",
            "         Proses ke-5 : [1944, 4270, 27013, 56215, 36375, 60631, 63250, 64395, 74894, 75771]         \n",
            "         Proses ke-6 : [1944, 4270, 27013, 36375, 56215, 60631, 63250, 64395, 74894, 75771]         \n",
            "         Proses ke-7 : [1944, 4270, 27013, 36375, 56215, 60631, 63250, 64395, 74894, 75771]         \n",
            "         Proses ke-8 : [1944, 4270, 27013, 36375, 56215, 60631, 63250, 64395, 74894, 75771]         \n",
            "         Proses ke-9 : [1944, 4270, 27013, 36375, 56215, 60631, 63250, 64395, 74894, 75771]         \n",
            "        Proses ke-10 : [1944, 4270, 27013, 36375, 56215, 60631, 63250, 64395, 74894, 75771]         \n",
            "======================================================================================= DERET AKHIR \n",
            "                [1944, 4270, 27013, 36375, 56215, 60631, 63250, 64395, 74894, 75771]                \n",
            "====================================================================================================\n"
          ]
        }
      ],
      "source": [
        "# 1. Setting margin Tampilan\n",
        "margin = 100\n",
        "# 2. Cetak garis Pembatas awal\n",
        "print(f\"{' DERET AWAL ':=<{margin}}\")\n",
        "# 3. Cetak Deret awal yang akan di sort\n",
        "print_satu_persatu(\"\", deret, margin)\n",
        "# 4. Cetak Garis Pembatas\n",
        "print(f\"\\n{'':=^{margin}}\")\n",
        "# 5. Visualisasikan proses Sorting dan simpan hasilnya pada `new_deret`\n",
        "new_deret = bubble_sort_show(deret, margin)\n",
        "# 6. Cetak Garis Pembatas\n",
        "print(f\"{' DERET AKHIR ':=>{margin}}\")\n",
        "# 7. Cetak hasil sorting\n",
        "print_satu_persatu(\"\", new_deret, margin)\n",
        "# 8. Cetak garis pembatas akhir\n",
        "print(f\"\\n{'':=^{margin}}\")"
      ]
    },
    {
      "cell_type": "markdown",
      "metadata": {
        "id": "1yq5Qv2kxGIs"
      },
      "source": [
        "#### Quick Sorting\n",
        "Serupa dengan sebelumnya, untuk memvisualisasikan proses yang terjadi di dalam sebuah algoritma *quick sorting*, maka telah dilakukan modifikasi terhadap fungsi `quick_sort` menjadi fungsi lain bernama `quick_sort_show`."
      ]
    },
    {
      "cell_type": "code",
      "execution_count": 25,
      "metadata": {
        "id": "qaZTzrSlMCQ0"
      },
      "outputs": [],
      "source": [
        "# 0. Import fungsi `quick_sort` dari `functions`\n",
        "from functions import quick_sort_show"
      ]
    },
    {
      "cell_type": "code",
      "source": [
        "type(quick_sort_show)"
      ],
      "metadata": {
        "id": "1d0qtYI2akik",
        "colab": {
          "base_uri": "https://localhost:8080/"
        },
        "outputId": "fe380554-7924-43fb-9b23-50529e67f682"
      },
      "execution_count": 26,
      "outputs": [
        {
          "output_type": "execute_result",
          "data": {
            "text/plain": [
              "function"
            ]
          },
          "metadata": {},
          "execution_count": 26
        }
      ]
    },
    {
      "cell_type": "code",
      "source": [
        "help(quick_sort_show)"
      ],
      "metadata": {
        "id": "thEWiJbzPt6O",
        "colab": {
          "base_uri": "https://localhost:8080/"
        },
        "outputId": "f7162c07-71ea-4ae0-94f3-fb6927ba8cd8"
      },
      "execution_count": 27,
      "outputs": [
        {
          "output_type": "stream",
          "name": "stdout",
          "text": [
            "Help on function quick_sort_show in module functions:\n",
            "\n",
            "quick_sort_show(deret: list, N: int, recursive=1) -> list\n",
            "    Fungsi untuk memvisualisasikan proses pengurutan elemen suatu deret \n",
            "      yang dilakukan dengan algoritma `quick sort`\n",
            "    PARAMETERS:\n",
            "        1. deret -> list yang belum di sortir;\n",
            "        2. N -> int berupa angka lebar layar;\n",
            "        3. recursive -> penomoran proses dengan default angka 1.\n",
            "\n"
          ]
        }
      ]
    },
    {
      "cell_type": "code",
      "execution_count": 28,
      "metadata": {
        "id": "Zwpsz3TlCgH0",
        "colab": {
          "base_uri": "https://localhost:8080/"
        },
        "outputId": "5b59fae2-fff1-4ab5-f2e8-cea256411ca3"
      },
      "outputs": [
        {
          "output_type": "stream",
          "name": "stdout",
          "text": [
            " DERET AWAL ========================================================================================\n",
            "                [74894, 4270, 56215, 63250, 75771, 1944, 27013, 60631, 64395, 36375]                \n",
            "=========================================== PARTISI KE-1 ===========================================\n",
            "                [74894, 4270, 56215, 63250, 75771, 1944, 27013, 60631, 64395, 36375]                \n",
            "------------------------------------------- PIVOT = 1944 -------------------------------------------\n",
            "\n",
            "                                   Elemen bernilai = 1944: [1944]                                   \n",
            "       Elemen bernilai > 1944: [74894, 4270, 56215, 63250, 75771, 27013, 60631, 64395, 36375]       \n",
            "=========================================== PARTISI KE-2 ===========================================\n",
            "                   [74894, 4270, 56215, 63250, 75771, 27013, 60631, 64395, 36375]                   \n",
            "------------------------------------------ PIVOT = 75771 -------------------------------------------\n",
            "          Elemen bernilai < 75771: [74894, 4270, 56215, 63250, 27013, 60631, 64395, 36375]          \n",
            "                                  Elemen bernilai = 75771: [75771]                                  \n",
            "\n",
            "=========================================== PARTISI KE-3 ===========================================\n",
            "                       [74894, 4270, 56215, 63250, 27013, 60631, 64395, 36375]                      \n",
            "------------------------------------------ PIVOT = 27013 -------------------------------------------\n",
            "                                  Elemen bernilai < 27013: [4270]                                   \n",
            "                                  Elemen bernilai = 27013: [27013]                                  \n",
            "                Elemen bernilai > 27013: [74894, 56215, 63250, 60631, 64395, 36375]                 \n",
            "=========================================== PARTISI KE-4 ===========================================\n",
            "                             [74894, 56215, 63250, 60631, 64395, 36375]                             \n",
            "------------------------------------------ PIVOT = 60631 -------------------------------------------\n",
            "                              Elemen bernilai < 60631: [56215, 36375]                               \n",
            "                                  Elemen bernilai = 60631: [60631]                                  \n",
            "                           Elemen bernilai > 60631: [74894, 63250, 64395]                           \n",
            "=========================================== PARTISI KE-5 ===========================================\n",
            "                                           [56215, 36375]                                           \n",
            "------------------------------------------ PIVOT = 36375 -------------------------------------------\n",
            "\n",
            "                                  Elemen bernilai = 36375: [36375]                                  \n",
            "                                  Elemen bernilai > 36375: [56215]                                  \n",
            "=========================================== PARTISI KE-5 ===========================================\n",
            "                                        [74894, 63250, 64395]                                       \n",
            "------------------------------------------ PIVOT = 63250 -------------------------------------------\n",
            "\n",
            "                                  Elemen bernilai = 63250: [63250]                                  \n",
            "                              Elemen bernilai > 63250: [74894, 64395]                               \n",
            "=========================================== PARTISI KE-6 ===========================================\n",
            "                                           [74894, 64395]                                           \n",
            "------------------------------------------ PIVOT = 64395 -------------------------------------------\n",
            "\n",
            "                                  Elemen bernilai = 64395: [64395]                                  \n",
            "                                  Elemen bernilai > 64395: [74894]                                  \n",
            "======================================================================================= DERET AKHIR \n",
            "                [1944, 4270, 27013, 36375, 56215, 60631, 63250, 64395, 74894, 75771]                \n",
            "====================================================================================================\n"
          ]
        }
      ],
      "source": [
        "# 1. Cetak garis Pembatas awal\n",
        "print(f\"{' DERET AWAL ':=<{margin}}\")\n",
        "# 2. Cetak Deret awal yang akan di sort\n",
        "print_satu_persatu(\"\", deret, margin)\n",
        "# 3. Beri Jeda Pemrosesan\n",
        "input()\n",
        "# 4. Lakukan Sorting dan simpan hasilnya pada `new_deret`\n",
        "new_deret = quick_sort_show(deret, margin)\n",
        "# 5. Cetak Garis Pembatas\n",
        "print(f\"{' DERET AKHIR ':=>{margin}}\")\n",
        "# 6. Cetak hasil sorting\n",
        "print_satu_persatu(\"\", new_deret, margin)\n",
        "# 7. Cetak garis pembatas akhir\n",
        "print(f\"\\n{'':=^{margin}}\")"
      ]
    },
    {
      "cell_type": "markdown",
      "metadata": {
        "id": "8CXWy9y_jPN3"
      },
      "source": [
        "#### `Elapsed Time`\n",
        "Penerapan algoritma berbeda, seperti dijelaskan sebelumnya, akan berdampat terhadap *Elapsed Time* (waktu pemrosesan) yang dipergunakan untuk menghasilkan output. Di bawah berikut telah disediakan sebuah pemrosesan yang ditujukan untuk melakukan pencatatan `elapsed_time` dari kedua algoritma *sorting* berdasarkan inputan jumlah elemen pada `deret` yang disorting."
      ]
    },
    {
      "cell_type": "code",
      "execution_count": 29,
      "metadata": {
        "id": "rHC26AfONM4z"
      },
      "outputs": [],
      "source": [
        "# Import fungsi yang diperlukan\n",
        "from functions import elapsed_time, visual_sebaran"
      ]
    },
    {
      "cell_type": "code",
      "source": [
        "type(elapsed_time)"
      ],
      "metadata": {
        "id": "5jbzMjB1kNiL",
        "colab": {
          "base_uri": "https://localhost:8080/"
        },
        "outputId": "0c3c88da-6f65-4e93-b3e2-19c5aad91327"
      },
      "execution_count": 30,
      "outputs": [
        {
          "output_type": "execute_result",
          "data": {
            "text/plain": [
              "function"
            ]
          },
          "metadata": {},
          "execution_count": 30
        }
      ]
    },
    {
      "cell_type": "code",
      "source": [
        "help(elapsed_time)"
      ],
      "metadata": {
        "id": "ZxQyn2JNkRiX",
        "colab": {
          "base_uri": "https://localhost:8080/"
        },
        "outputId": "2f36f3d7-2de0-4a9a-b35e-11538ed6180c"
      },
      "execution_count": 31,
      "outputs": [
        {
          "output_type": "stream",
          "name": "stdout",
          "text": [
            "Help on function elapsed_time in module functions:\n",
            "\n",
            "elapsed_time(fungsi: object, deret: list) -> object\n",
            "    Fungsi untuk menghitung `elapsed time` pemrosesan \n",
            "      yang dilakukan oleh suatu fungsi terhadap sebuah deret\n",
            "    PARAMETERS:\n",
            "        1. fungsi -> object berupa fungsi yang akan dinilai `elapsed time`nya;\n",
            "        2. deret -> list yang akan disortir dengan menggunakan fungsi.\n",
            "\n"
          ]
        }
      ]
    },
    {
      "cell_type": "code",
      "source": [
        "type(visual_sebaran)"
      ],
      "metadata": {
        "id": "3pQYJmmfkUZX",
        "colab": {
          "base_uri": "https://localhost:8080/"
        },
        "outputId": "626ed574-26ad-4da3-f8e6-1999e7768327"
      },
      "execution_count": 32,
      "outputs": [
        {
          "output_type": "execute_result",
          "data": {
            "text/plain": [
              "function"
            ]
          },
          "metadata": {},
          "execution_count": 32
        }
      ]
    },
    {
      "cell_type": "code",
      "source": [
        "help(visual_sebaran)"
      ],
      "metadata": {
        "id": "k7I_zAMRkY0-",
        "colab": {
          "base_uri": "https://localhost:8080/"
        },
        "outputId": "9f06a71f-5af1-4600-9f7c-50749a950406"
      },
      "execution_count": 33,
      "outputs": [
        {
          "output_type": "stream",
          "name": "stdout",
          "text": [
            "Help on function visual_sebaran in module functions:\n",
            "\n",
            "visual_sebaran(data: object, output_path: str) -> None\n",
            "    Fungsi untuk membuat grafik sebaran dari sebuah dictionary\n",
            "    dan menyimpan hasilnya dalam format `png`\n",
            "    PARAMETERS:\n",
            "    1. data -> object, dictionary;\n",
            "    2. output_path -> str, path menyimpan file.\n",
            "\n"
          ]
        }
      ]
    },
    {
      "cell_type": "code",
      "execution_count": 34,
      "metadata": {
        "id": "hkLUaUT3IqsV",
        "colab": {
          "base_uri": "https://localhost:8080/",
          "height": 407
        },
        "outputId": "387ae34a-8e8c-4ca4-ee56-604100061c81"
      },
      "outputs": [
        {
          "output_type": "stream",
          "name": "stdout",
          "text": [
            "Jumlah elemen pada deret            = 20\n",
            "Jumlah Simulasi dilakukan           = 10\n",
            "Average Elapsed Time Bubble Sort    = 0.000072 detik/proses\n",
            "Average Elapsed Time Quick Sort     = 0.000057 detik/proses\n"
          ]
        },
        {
          "output_type": "display_data",
          "data": {
            "text/plain": [
              "<Figure size 1000x500 with 1 Axes>"
            ],
            "image/png": "[encoded data removed]"
          },
          "metadata": {}
        }
      ],
      "source": [
        "# INPUTS:\n",
        "# 1. Mintakan jumlah elemen pada deret dari User\n",
        "print(f\"{'Jumlah elemen pada deret': <35}\", end=\"\")\n",
        "jml = input(\" = \")\n",
        "# 3. Mintakan jumlah sampel pemrosesan yang akan dikumpulkan\n",
        "print(f\"{'Jumlah Simulasi dilakukan': <35}\", end=\"\")\n",
        "sim = input(\" = \")\n",
        "\n",
        "# PRE-PROCESSING:\n",
        "# Cast `jml` dan `sims` menjadi angka bulat\n",
        "jml_elemen = int(jml) if jml else None\n",
        "sims = int(sim) if sim else None\n",
        "\n",
        "# PROCESSING & OUTPUT:\n",
        "# 1. Generate `deret` berisi angka bulat acak\n",
        "deret = generate_deret(jml_elemen, 0, 100000)\n",
        "# 2. Proses Simulasi untuk kedua fungsi, catat data pada `dict_output`\n",
        "dict_output = {fungsi.__name__:[elapsed_time(fungsi, deret) for _ in range(sims)] for fungsi in [bubble_sort, quick_sort]}\n",
        "# Untuk setiap `key` pada `dict_output`\n",
        "for key in dict_output.keys():\n",
        "  # Rata-ratakan seluruh `value` pada list\n",
        "  average_et=sum(value for value in iter(dict_output[key]))/sims\n",
        "  # Buat Text `pesan`\n",
        "  pesan = f\"Average Elapsed Time %s\" % (key.title().replace(\"_\",\" \"))\n",
        "  # Tampilkan Pesan ke layar\n",
        "  print(f\"{pesan: <35} ={average_et: >9,.6f} detik/proses\")\n",
        "# Buat Visualisasi dari data yang dihasilkan dan tampilkan ke layar\n",
        "visual_sebaran(dict_output, f\"Sebaran Elapsed Time Sorting {jml_elemen:,.0f} Elemen {sims:,.0f} Kali Simulasi\")"
      ]
    },
    {
      "cell_type": "markdown",
      "metadata": {
        "id": "etS7xjoZ5TQS"
      },
      "source": [
        "### Simulasi *Time Complexity*"
      ]
    },
    {
      "cell_type": "code",
      "execution_count": 35,
      "metadata": {
        "id": "-SXKW9sZqEO0"
      },
      "outputs": [],
      "source": [
        "# Import berbagai fungsi yang diperlukan\n",
        "from functions import generate_time_complexity as gtc, buat_visualisasi"
      ]
    },
    {
      "cell_type": "code",
      "source": [
        "type(gtc)"
      ],
      "metadata": {
        "id": "Wb1yAr0Sh2Es",
        "colab": {
          "base_uri": "https://localhost:8080/"
        },
        "outputId": "354c1a9c-32c1-4a7f-f8ec-636a169d8066"
      },
      "execution_count": 36,
      "outputs": [
        {
          "output_type": "execute_result",
          "data": {
            "text/plain": [
              "function"
            ]
          },
          "metadata": {},
          "execution_count": 36
        }
      ]
    },
    {
      "cell_type": "code",
      "source": [
        "help(gtc)"
      ],
      "metadata": {
        "id": "2FJkWFc_h5F9",
        "colab": {
          "base_uri": "https://localhost:8080/"
        },
        "outputId": "baf22f2f-75ba-4e97-e755-31dce9d93e66"
      },
      "execution_count": 37,
      "outputs": [
        {
          "output_type": "stream",
          "name": "stdout",
          "text": [
            "Help on function generate_time_complexity in module functions:\n",
            "\n",
            "generate_time_complexity(fungsi1: object, fungsi2: object, ukuran_input: list, sims: int = 1) -> tuple\n",
            "    Fungsi untuk mencatat data jumlah elemen yang harus diproses (N), dan\n",
            "      elapsed time yang diperlukan untuk memproses sejumlah elemen tersebut\n",
            "      oleh dua buah proses sejenis yang menerapkan algoritma berbeda\n",
            "    PARAMETERS:\n",
            "        1. fungsi1 -> object, fungsi sortir pertama yang akan diperbandingkan;\n",
            "        2. fungsi2 -> object, fungsi sortir kedua yang akan diperbandingkan;\n",
            "        3. ukuran_input -> list berisi int, jumlah deret yang akan disortir;\n",
            "        4. sims -> int, angka jumlah pengulangan simulasi yang dilakukan (secara default = 1 kali).\n",
            "\n"
          ]
        }
      ]
    },
    {
      "cell_type": "code",
      "execution_count": 38,
      "metadata": {
        "id": "ldXs5AoC49k2",
        "colab": {
          "base_uri": "https://localhost:8080/",
          "height": 367
        },
        "outputId": "b99b7ec7-1899-42ec-bae7-ced86e1cad8c"
      },
      "outputs": [
        {
          "output_type": "stream",
          "name": "stdout",
          "text": [
            "Simulasi ke-10"
          ]
        },
        {
          "output_type": "display_data",
          "data": {
            "text/plain": [
              "<Figure size 1000x500 with 1 Axes>"
            ],
            "image/png": "[encoded data removed]"
          },
          "metadata": {}
        }
      ],
      "source": [
        "# 1. Tentukan Jumlah elemen maksimum pada deret\n",
        "jml_elemen = 500\n",
        "# 2. Tentukan Jumlah Simulasi\n",
        "simulasi = 10\n",
        "# 3. Lakukan sampling time complexity yang diulang sebanyak `simulasi`\n",
        "df_raw, df_aggregate = gtc(quick_sort, bubble_sort, range(1, jml_elemen+1, 1), simulasi)\n",
        "# 4. Buat Visualisasi hasil pengolahan\n",
        "buat_visualisasi(df_aggregate, \"Time_Complexity.png\")"
      ]
    },
    {
      "cell_type": "code",
      "source": [
        "type(df_raw)"
      ],
      "metadata": {
        "id": "n4Lo2UTHk06Z",
        "colab": {
          "base_uri": "https://localhost:8080/",
          "height": 204
        },
        "outputId": "679e9434-5d5d-4afd-df5a-0d0e9a95d6b7"
      },
      "execution_count": 39,
      "outputs": [
        {
          "output_type": "execute_result",
          "data": {
            "text/plain": [
              "pandas.core.frame.DataFrame"
            ],
            "text/html": [
              "<div style=\"max-width:800px; border: 1px solid var(--colab-border-color);\"><style>\n",
              "      pre.function-repr-contents {\n",
              "        overflow-x: auto;\n",
              "        padding: 8px 12px;\n",
              "        max-height: 500px;\n",
              "      }\n",
              "\n",
              "      pre.function-repr-contents.function-repr-contents-collapsed {\n",
              "        cursor: pointer;\n",
              "        max-height: 100px;\n",
              "      }\n",
              "    </style>\n",
              "    <pre style=\"white-space: initial; background:\n",
              "         var(--colab-secondary-surface-color); padding: 8px 12px;\n",
              "         border-bottom: 1px solid var(--colab-border-color);\"><b>pandas.core.frame.DataFrame</b><br/>def __init__(data=None, index: Axes | None=None, columns: Axes | None=None, dtype: Dtype | None=None, copy: bool | None=None) -&gt; None</pre><pre class=\"function-repr-contents function-repr-contents-collapsed\" style=\"\"><a class=\"filepath\" style=\"display:none\" href=\"#\">/usr/local/lib/python3.10/dist-packages/pandas/core/frame.py</a>Two-dimensional, size-mutable, potentially heterogeneous tabular data.\n",
              "\n",
              "Data structure also contains labeled axes (rows and columns).\n",
              "Arithmetic operations align on both row and column labels. Can be\n",
              "thought of as a dict-like container for Series objects. The primary\n",
              "pandas data structure.\n",
              "\n",
              "Parameters\n",
              "----------\n",
              "data : ndarray (structured or homogeneous), Iterable, dict, or DataFrame\n",
              "    Dict can contain Series, arrays, constants, dataclass or list-like objects. If\n",
              "    data is a dict, column order follows insertion-order. If a dict contains Series\n",
              "    which have an index defined, it is aligned by its index. This alignment also\n",
              "    occurs if data is a Series or a DataFrame itself. Alignment is done on\n",
              "    Series/DataFrame inputs.\n",
              "\n",
              "    If data is a list of dicts, column order follows insertion-order.\n",
              "\n",
              "index : Index or array-like\n",
              "    Index to use for resulting frame. Will default to RangeIndex if\n",
              "    no indexing information part of input data and no index provided.\n",
              "columns : Index or array-like\n",
              "    Column labels to use for resulting frame when data does not have them,\n",
              "    defaulting to RangeIndex(0, 1, 2, ..., n). If data contains column labels,\n",
              "    will perform column selection instead.\n",
              "dtype : dtype, default None\n",
              "    Data type to force. Only a single dtype is allowed. If None, infer.\n",
              "copy : bool or None, default None\n",
              "    Copy data from inputs.\n",
              "    For dict data, the default of None behaves like ``copy=True``.  For DataFrame\n",
              "    or 2d ndarray input, the default of None behaves like ``copy=False``.\n",
              "    If data is a dict containing one or more Series (possibly of different dtypes),\n",
              "    ``copy=False`` will ensure that these inputs are not copied.\n",
              "\n",
              "    .. versionchanged:: 1.3.0\n",
              "\n",
              "See Also\n",
              "--------\n",
              "DataFrame.from_records : Constructor from tuples, also record arrays.\n",
              "DataFrame.from_dict : From dicts of Series, arrays, or dicts.\n",
              "read_csv : Read a comma-separated values (csv) file into DataFrame.\n",
              "read_table : Read general delimited file into DataFrame.\n",
              "read_clipboard : Read text from clipboard into DataFrame.\n",
              "\n",
              "Notes\n",
              "-----\n",
              "Please reference the :ref:`User Guide &lt;basics.dataframe&gt;` for more information.\n",
              "\n",
              "Examples\n",
              "--------\n",
              "Constructing DataFrame from a dictionary.\n",
              "\n",
              "&gt;&gt;&gt; d = {&#x27;col1&#x27;: [1, 2], &#x27;col2&#x27;: [3, 4]}\n",
              "&gt;&gt;&gt; df = pd.DataFrame(data=d)\n",
              "&gt;&gt;&gt; df\n",
              "   col1  col2\n",
              "0     1     3\n",
              "1     2     4\n",
              "\n",
              "Notice that the inferred dtype is int64.\n",
              "\n",
              "&gt;&gt;&gt; df.dtypes\n",
              "col1    int64\n",
              "col2    int64\n",
              "dtype: object\n",
              "\n",
              "To enforce a single dtype:\n",
              "\n",
              "&gt;&gt;&gt; df = pd.DataFrame(data=d, dtype=np.int8)\n",
              "&gt;&gt;&gt; df.dtypes\n",
              "col1    int8\n",
              "col2    int8\n",
              "dtype: object\n",
              "\n",
              "Constructing DataFrame from a dictionary including Series:\n",
              "\n",
              "&gt;&gt;&gt; d = {&#x27;col1&#x27;: [0, 1, 2, 3], &#x27;col2&#x27;: pd.Series([2, 3], index=[2, 3])}\n",
              "&gt;&gt;&gt; pd.DataFrame(data=d, index=[0, 1, 2, 3])\n",
              "   col1  col2\n",
              "0     0   NaN\n",
              "1     1   NaN\n",
              "2     2   2.0\n",
              "3     3   3.0\n",
              "\n",
              "Constructing DataFrame from numpy ndarray:\n",
              "\n",
              "&gt;&gt;&gt; df2 = pd.DataFrame(np.array([[1, 2, 3], [4, 5, 6], [7, 8, 9]]),\n",
              "...                    columns=[&#x27;a&#x27;, &#x27;b&#x27;, &#x27;c&#x27;])\n",
              "&gt;&gt;&gt; df2\n",
              "   a  b  c\n",
              "0  1  2  3\n",
              "1  4  5  6\n",
              "2  7  8  9\n",
              "\n",
              "Constructing DataFrame from a numpy ndarray that has labeled columns:\n",
              "\n",
              "&gt;&gt;&gt; data = np.array([(1, 2, 3), (4, 5, 6), (7, 8, 9)],\n",
              "...                 dtype=[(&quot;a&quot;, &quot;i4&quot;), (&quot;b&quot;, &quot;i4&quot;), (&quot;c&quot;, &quot;i4&quot;)])\n",
              "&gt;&gt;&gt; df3 = pd.DataFrame(data, columns=[&#x27;c&#x27;, &#x27;a&#x27;])\n",
              "...\n",
              "&gt;&gt;&gt; df3\n",
              "   c  a\n",
              "0  3  1\n",
              "1  6  4\n",
              "2  9  7\n",
              "\n",
              "Constructing DataFrame from dataclass:\n",
              "\n",
              "&gt;&gt;&gt; from dataclasses import make_dataclass\n",
              "&gt;&gt;&gt; Point = make_dataclass(&quot;Point&quot;, [(&quot;x&quot;, int), (&quot;y&quot;, int)])\n",
              "&gt;&gt;&gt; pd.DataFrame([Point(0, 0), Point(0, 3), Point(2, 3)])\n",
              "   x  y\n",
              "0  0  0\n",
              "1  0  3\n",
              "2  2  3\n",
              "\n",
              "Constructing DataFrame from Series/DataFrame:\n",
              "\n",
              "&gt;&gt;&gt; ser = pd.Series([1, 2, 3], index=[&quot;a&quot;, &quot;b&quot;, &quot;c&quot;])\n",
              "&gt;&gt;&gt; df = pd.DataFrame(data=ser, index=[&quot;a&quot;, &quot;c&quot;])\n",
              "&gt;&gt;&gt; df\n",
              "   0\n",
              "a  1\n",
              "c  3\n",
              "\n",
              "&gt;&gt;&gt; df1 = pd.DataFrame([1, 2, 3], index=[&quot;a&quot;, &quot;b&quot;, &quot;c&quot;], columns=[&quot;x&quot;])\n",
              "&gt;&gt;&gt; df2 = pd.DataFrame(data=df1, index=[&quot;a&quot;, &quot;c&quot;])\n",
              "&gt;&gt;&gt; df2\n",
              "   x\n",
              "a  1\n",
              "c  3</pre>\n",
              "      <script>\n",
              "      if (google.colab.kernel.accessAllowed && google.colab.files && google.colab.files.view) {\n",
              "        for (const element of document.querySelectorAll('.filepath')) {\n",
              "          element.style.display = 'block'\n",
              "          element.onclick = (event) => {\n",
              "            event.preventDefault();\n",
              "            event.stopPropagation();\n",
              "            google.colab.files.view(element.textContent, 509);\n",
              "          };\n",
              "        }\n",
              "      }\n",
              "      for (const element of document.querySelectorAll('.function-repr-contents')) {\n",
              "        element.onclick = (event) => {\n",
              "          event.preventDefault();\n",
              "          event.stopPropagation();\n",
              "          element.classList.toggle('function-repr-contents-collapsed');\n",
              "        };\n",
              "      }\n",
              "      </script>\n",
              "      </div>"
            ]
          },
          "metadata": {},
          "execution_count": 39
        }
      ]
    },
    {
      "cell_type": "code",
      "source": [
        "help(df_raw)"
      ],
      "metadata": {
        "id": "QEnNWpzWlHPZ"
      },
      "execution_count": null,
      "outputs": []
    },
    {
      "cell_type": "code",
      "execution_count": 41,
      "metadata": {
        "id": "nMP8sBiwhnyq",
        "colab": {
          "base_uri": "https://localhost:8080/",
          "height": 455
        },
        "outputId": "c1b639a9-0d15-446b-e6fd-cf23b775cb98"
      },
      "outputs": [
        {
          "output_type": "execute_result",
          "data": {
            "text/plain": [
              "                 quick_sort  bubble_sort\n",
              "N   simulasi_ke                         \n",
              "1   1              0.000003     0.000005\n",
              "2   1              0.000009     0.000007\n",
              "3   1              0.000013     0.000005\n",
              "4   1              0.000008     0.000005\n",
              "5   1              0.000009     0.000005\n",
              "...                     ...          ...\n",
              "496 10             0.001217     0.022097\n",
              "497 10             0.001195     0.021928\n",
              "498 10             0.001230     0.020132\n",
              "499 10             0.001189     0.020228\n",
              "500 10             0.001151     0.021292\n",
              "\n",
              "[5000 rows x 2 columns]"
            ],
            "text/html": [
              "\n",
              "  <div id=\"df-7dd2fc14-4c90-4c57-b344-0990f58234a3\" class=\"colab-df-container\">\n",
              "    <div>\n",
              "<style scoped>\n",
              "    .dataframe tbody tr th:only-of-type {\n",
              "        vertical-align: middle;\n",
              "    }\n",
              "\n",
              "    .dataframe tbody tr th {\n",
              "        vertical-align: top;\n",
              "    }\n",
              "\n",
              "    .dataframe thead th {\n",
              "        text-align: right;\n",
              "    }\n",
              "</style>\n",
              "<table border=\"1\" class=\"dataframe\">\n",
              "  <thead>\n",
              "    <tr style=\"text-align: right;\">\n",
              "      <th></th>\n",
              "      <th></th>\n",
              "      <th>quick_sort</th>\n",
              "      <th>bubble_sort</th>\n",
              "    </tr>\n",
              "    <tr>\n",
              "      <th>N</th>\n",
              "      <th>simulasi_ke</th>\n",
              "      <th></th>\n",
              "      <th></th>\n",
              "    </tr>\n",
              "  </thead>\n",
              "  <tbody>\n",
              "    <tr>\n",
              "      <th>1</th>\n",
              "      <th>1</th>\n",
              "      <td>0.000003</td>\n",
              "      <td>0.000005</td>\n",
              "    </tr>\n",
              "    <tr>\n",
              "      <th>2</th>\n",
              "      <th>1</th>\n",
              "      <td>0.000009</td>\n",
              "      <td>0.000007</td>\n",
              "    </tr>\n",
              "    <tr>\n",
              "      <th>3</th>\n",
              "      <th>1</th>\n",
              "      <td>0.000013</td>\n",
              "      <td>0.000005</td>\n",
              "    </tr>\n",
              "    <tr>\n",
              "      <th>4</th>\n",
              "      <th>1</th>\n",
              "      <td>0.000008</td>\n",
              "      <td>0.000005</td>\n",
              "    </tr>\n",
              "    <tr>\n",
              "      <th>5</th>\n",
              "      <th>1</th>\n",
              "      <td>0.000009</td>\n",
              "      <td>0.000005</td>\n",
              "    </tr>\n",
              "    <tr>\n",
              "      <th>...</th>\n",
              "      <th>...</th>\n",
              "      <td>...</td>\n",
              "      <td>...</td>\n",
              "    </tr>\n",
              "    <tr>\n",
              "      <th>496</th>\n",
              "      <th>10</th>\n",
              "      <td>0.001217</td>\n",
              "      <td>0.022097</td>\n",
              "    </tr>\n",
              "    <tr>\n",
              "      <th>497</th>\n",
              "      <th>10</th>\n",
              "      <td>0.001195</td>\n",
              "      <td>0.021928</td>\n",
              "    </tr>\n",
              "    <tr>\n",
              "      <th>498</th>\n",
              "      <th>10</th>\n",
              "      <td>0.001230</td>\n",
              "      <td>0.020132</td>\n",
              "    </tr>\n",
              "    <tr>\n",
              "      <th>499</th>\n",
              "      <th>10</th>\n",
              "      <td>0.001189</td>\n",
              "      <td>0.020228</td>\n",
              "    </tr>\n",
              "    <tr>\n",
              "      <th>500</th>\n",
              "      <th>10</th>\n",
              "      <td>0.001151</td>\n",
              "      <td>0.021292</td>\n",
              "    </tr>\n",
              "  </tbody>\n",
              "</table>\n",
              "<p>5000 rows × 2 columns</p>\n",
              "</div>\n",
              "    <div class=\"colab-df-buttons\">\n",
              "\n",
              "  <div class=\"colab-df-container\">\n",
              "    <button class=\"colab-df-convert\" onclick=\"convertToInteractive('df-7dd2fc14-4c90-4c57-b344-0990f58234a3')\"\n",
              "            title=\"Convert this dataframe to an interactive table.\"\n",
              "            style=\"display:none;\">\n",
              "\n",
              "  <svg xmlns=\"http://www.w3.org/2000/svg\" height=\"24px\" viewBox=\"0 -960 960 960\">\n",
              "    <path d=\"M120-120v-720h720v720H120Zm60-500h600v-160H180v160Zm220 220h160v-160H400v160Zm0 220h160v-160H400v160ZM180-400h160v-160H180v160Zm440 0h160v-160H620v160ZM180-180h160v-160H180v160Zm440 0h160v-160H620v160Z\"/>\n",
              "  </svg>\n",
              "    </button>\n",
              "\n",
              "  <style>\n",
              "    .colab-df-container {\n",
              "      display:flex;\n",
              "      gap: 12px;\n",
              "    }\n",
              "\n",
              "    .colab-df-convert {\n",
              "      background-color: #E8F0FE;\n",
              "      border: none;\n",
              "      border-radius: 50%;\n",
              "      cursor: pointer;\n",
              "      display: none;\n",
              "      fill: #1967D2;\n",
              "      height: 32px;\n",
              "      padding: 0 0 0 0;\n",
              "      width: 32px;\n",
              "    }\n",
              "\n",
              "    .colab-df-convert:hover {\n",
              "      background-color: #E2EBFA;\n",
              "      box-shadow: 0px 1px 2px rgba(60, 64, 67, 0.3), 0px 1px 3px 1px rgba(60, 64, 67, 0.15);\n",
              "      fill: #174EA6;\n",
              "    }\n",
              "\n",
              "    .colab-df-buttons div {\n",
              "      margin-bottom: 4px;\n",
              "    }\n",
              "\n",
              "    [theme=dark] .colab-df-convert {\n",
              "      background-color: #3B4455;\n",
              "      fill: #D2E3FC;\n",
              "    }\n",
              "\n",
              "    [theme=dark] .colab-df-convert:hover {\n",
              "      background-color: #434B5C;\n",
              "      box-shadow: 0px 1px 3px 1px rgba(0, 0, 0, 0.15);\n",
              "      filter: drop-shadow(0px 1px 2px rgba(0, 0, 0, 0.3));\n",
              "      fill: #FFFFFF;\n",
              "    }\n",
              "  </style>\n",
              "\n",
              "    <script>\n",
              "      const buttonEl =\n",
              "        document.querySelector('#df-7dd2fc14-4c90-4c57-b344-0990f58234a3 button.colab-df-convert');\n",
              "      buttonEl.style.display =\n",
              "        google.colab.kernel.accessAllowed ? 'block' : 'none';\n",
              "\n",
              "      async function convertToInteractive(key) {\n",
              "        const element = document.querySelector('#df-7dd2fc14-4c90-4c57-b344-0990f58234a3');\n",
              "        const dataTable =\n",
              "          await google.colab.kernel.invokeFunction('convertToInteractive',\n",
              "                                                    [key], {});\n",
              "        if (!dataTable) return;\n",
              "\n",
              "        const docLinkHtml = 'Like what you see? Visit the ' +\n",
              "          '<a target=\"_blank\" href=https://colab.research.google.com/notebooks/data_table.ipynb>data table notebook</a>'\n",
              "          + ' to learn more about interactive tables.';\n",
              "        element.innerHTML = '';\n",
              "        dataTable['output_type'] = 'display_data';\n",
              "        await google.colab.output.renderOutput(dataTable, element);\n",
              "        const docLink = document.createElement('div');\n",
              "        docLink.innerHTML = docLinkHtml;\n",
              "        element.appendChild(docLink);\n",
              "      }\n",
              "    </script>\n",
              "  </div>\n",
              "\n",
              "\n",
              "<div id=\"df-29cdc8fe-3630-4354-a27d-24ba5d6ed89b\">\n",
              "  <button class=\"colab-df-quickchart\" onclick=\"quickchart('df-29cdc8fe-3630-4354-a27d-24ba5d6ed89b')\"\n",
              "            title=\"Suggest charts\"\n",
              "            style=\"display:none;\">\n",
              "\n",
              "<svg xmlns=\"http://www.w3.org/2000/svg\" height=\"24px\"viewBox=\"0 0 24 24\"\n",
              "     width=\"24px\">\n",
              "    <g>\n",
              "        <path d=\"M19 3H5c-1.1 0-2 .9-2 2v14c0 1.1.9 2 2 2h14c1.1 0 2-.9 2-2V5c0-1.1-.9-2-2-2zM9 17H7v-7h2v7zm4 0h-2V7h2v10zm4 0h-2v-4h2v4z\"/>\n",
              "    </g>\n",
              "</svg>\n",
              "  </button>\n",
              "\n",
              "<style>\n",
              "  .colab-df-quickchart {\n",
              "      --bg-color: #E8F0FE;\n",
              "      --fill-color: #1967D2;\n",
              "      --hover-bg-color: #E2EBFA;\n",
              "      --hover-fill-color: #174EA6;\n",
              "      --disabled-fill-color: #AAA;\n",
              "      --disabled-bg-color: #DDD;\n",
              "  }\n",
              "\n",
              "  [theme=dark] .colab-df-quickchart {\n",
              "      --bg-color: #3B4455;\n",
              "      --fill-color: #D2E3FC;\n",
              "      --hover-bg-color: #434B5C;\n",
              "      --hover-fill-color: #FFFFFF;\n",
              "      --disabled-bg-color: #3B4455;\n",
              "      --disabled-fill-color: #666;\n",
              "  }\n",
              "\n",
              "  .colab-df-quickchart {\n",
              "    background-color: var(--bg-color);\n",
              "    border: none;\n",
              "    border-radius: 50%;\n",
              "    cursor: pointer;\n",
              "    display: none;\n",
              "    fill: var(--fill-color);\n",
              "    height: 32px;\n",
              "    padding: 0;\n",
              "    width: 32px;\n",
              "  }\n",
              "\n",
              "  .colab-df-quickchart:hover {\n",
              "    background-color: var(--hover-bg-color);\n",
              "    box-shadow: 0 1px 2px rgba(60, 64, 67, 0.3), 0 1px 3px 1px rgba(60, 64, 67, 0.15);\n",
              "    fill: var(--button-hover-fill-color);\n",
              "  }\n",
              "\n",
              "  .colab-df-quickchart-complete:disabled,\n",
              "  .colab-df-quickchart-complete:disabled:hover {\n",
              "    background-color: var(--disabled-bg-color);\n",
              "    fill: var(--disabled-fill-color);\n",
              "    box-shadow: none;\n",
              "  }\n",
              "\n",
              "  .colab-df-spinner {\n",
              "    border: 2px solid var(--fill-color);\n",
              "    border-color: transparent;\n",
              "    border-bottom-color: var(--fill-color);\n",
              "    animation:\n",
              "      spin 1s steps(1) infinite;\n",
              "  }\n",
              "\n",
              "  @keyframes spin {\n",
              "    0% {\n",
              "      border-color: transparent;\n",
              "      border-bottom-color: var(--fill-color);\n",
              "      border-left-color: var(--fill-color);\n",
              "    }\n",
              "    20% {\n",
              "      border-color: transparent;\n",
              "      border-left-color: var(--fill-color);\n",
              "      border-top-color: var(--fill-color);\n",
              "    }\n",
              "    30% {\n",
              "      border-color: transparent;\n",
              "      border-left-color: var(--fill-color);\n",
              "      border-top-color: var(--fill-color);\n",
              "      border-right-color: var(--fill-color);\n",
              "    }\n",
              "    40% {\n",
              "      border-color: transparent;\n",
              "      border-right-color: var(--fill-color);\n",
              "      border-top-color: var(--fill-color);\n",
              "    }\n",
              "    60% {\n",
              "      border-color: transparent;\n",
              "      border-right-color: var(--fill-color);\n",
              "    }\n",
              "    80% {\n",
              "      border-color: transparent;\n",
              "      border-right-color: var(--fill-color);\n",
              "      border-bottom-color: var(--fill-color);\n",
              "    }\n",
              "    90% {\n",
              "      border-color: transparent;\n",
              "      border-bottom-color: var(--fill-color);\n",
              "    }\n",
              "  }\n",
              "</style>\n",
              "\n",
              "  <script>\n",
              "    async function quickchart(key) {\n",
              "      const quickchartButtonEl =\n",
              "        document.querySelector('#' + key + ' button');\n",
              "      quickchartButtonEl.disabled = true;  // To prevent multiple clicks.\n",
              "      quickchartButtonEl.classList.add('colab-df-spinner');\n",
              "      try {\n",
              "        const charts = await google.colab.kernel.invokeFunction(\n",
              "            'suggestCharts', [key], {});\n",
              "      } catch (error) {\n",
              "        console.error('Error during call to suggestCharts:', error);\n",
              "      }\n",
              "      quickchartButtonEl.classList.remove('colab-df-spinner');\n",
              "      quickchartButtonEl.classList.add('colab-df-quickchart-complete');\n",
              "    }\n",
              "    (() => {\n",
              "      let quickchartButtonEl =\n",
              "        document.querySelector('#df-29cdc8fe-3630-4354-a27d-24ba5d6ed89b button');\n",
              "      quickchartButtonEl.style.display =\n",
              "        google.colab.kernel.accessAllowed ? 'block' : 'none';\n",
              "    })();\n",
              "  </script>\n",
              "</div>\n",
              "\n",
              "  <div id=\"id_cad2c1cd-bca3-4162-a69d-77d53eabc3b1\">\n",
              "    <style>\n",
              "      .colab-df-generate {\n",
              "        background-color: #E8F0FE;\n",
              "        border: none;\n",
              "        border-radius: 50%;\n",
              "        cursor: pointer;\n",
              "        display: none;\n",
              "        fill: #1967D2;\n",
              "        height: 32px;\n",
              "        padding: 0 0 0 0;\n",
              "        width: 32px;\n",
              "      }\n",
              "\n",
              "      .colab-df-generate:hover {\n",
              "        background-color: #E2EBFA;\n",
              "        box-shadow: 0px 1px 2px rgba(60, 64, 67, 0.3), 0px 1px 3px 1px rgba(60, 64, 67, 0.15);\n",
              "        fill: #174EA6;\n",
              "      }\n",
              "\n",
              "      [theme=dark] .colab-df-generate {\n",
              "        background-color: #3B4455;\n",
              "        fill: #D2E3FC;\n",
              "      }\n",
              "\n",
              "      [theme=dark] .colab-df-generate:hover {\n",
              "        background-color: #434B5C;\n",
              "        box-shadow: 0px 1px 3px 1px rgba(0, 0, 0, 0.15);\n",
              "        filter: drop-shadow(0px 1px 2px rgba(0, 0, 0, 0.3));\n",
              "        fill: #FFFFFF;\n",
              "      }\n",
              "    </style>\n",
              "    <button class=\"colab-df-generate\" onclick=\"generateWithVariable('df_raw')\"\n",
              "            title=\"Generate code using this dataframe.\"\n",
              "            style=\"display:none;\">\n",
              "\n",
              "  <svg xmlns=\"http://www.w3.org/2000/svg\" height=\"24px\"viewBox=\"0 0 24 24\"\n",
              "       width=\"24px\">\n",
              "    <path d=\"M7,19H8.4L18.45,9,17,7.55,7,17.6ZM5,21V16.75L18.45,3.32a2,2,0,0,1,2.83,0l1.4,1.43a1.91,1.91,0,0,1,.58,1.4,1.91,1.91,0,0,1-.58,1.4L9.25,21ZM18.45,9,17,7.55Zm-12,3A5.31,5.31,0,0,0,4.9,8.1,5.31,5.31,0,0,0,1,6.5,5.31,5.31,0,0,0,4.9,4.9,5.31,5.31,0,0,0,6.5,1,5.31,5.31,0,0,0,8.1,4.9,5.31,5.31,0,0,0,12,6.5,5.46,5.46,0,0,0,6.5,12Z\"/>\n",
              "  </svg>\n",
              "    </button>\n",
              "    <script>\n",
              "      (() => {\n",
              "      const buttonEl =\n",
              "        document.querySelector('#id_cad2c1cd-bca3-4162-a69d-77d53eabc3b1 button.colab-df-generate');\n",
              "      buttonEl.style.display =\n",
              "        google.colab.kernel.accessAllowed ? 'block' : 'none';\n",
              "\n",
              "      buttonEl.onclick = () => {\n",
              "        google.colab.notebook.generateWithVariable('df_raw');\n",
              "      }\n",
              "      })();\n",
              "    </script>\n",
              "  </div>\n",
              "\n",
              "    </div>\n",
              "  </div>\n"
            ],
            "application/vnd.google.colaboratory.intrinsic+json": {
              "type": "dataframe",
              "variable_name": "df_raw",
              "summary": "{\n  \"name\": \"df_raw\",\n  \"rows\": 5000,\n  \"fields\": [\n    {\n      \"column\": \"quick_sort\",\n      \"properties\": {\n        \"dtype\": \"number\",\n        \"std\": 0.00044511342907315295,\n        \"min\": 3.219999939574336e-06,\n        \"max\": 0.00355771099998492,\n        \"num_unique_values\": 4991,\n        \"samples\": [\n          0.00035458799993648427,\n          0.0004955439999321243,\n          0.0011215680000304928\n        ],\n        \"semantic_type\": \"\",\n        \"description\": \"\"\n      }\n    },\n    {\n      \"column\": \"bubble_sort\",\n      \"properties\": {\n        \"dtype\": \"number\",\n        \"std\": 0.007704258895084676,\n        \"min\": 2.8980000479350565e-06,\n        \"max\": 0.04952806400001464,\n        \"num_unique_values\": 4999,\n        \"samples\": [\n          0.0010057109999479508,\n          0.03511444699995536,\n          0.007360160999951404\n        ],\n        \"semantic_type\": \"\",\n        \"description\": \"\"\n      }\n    }\n  ]\n}"
            }
          },
          "metadata": {},
          "execution_count": 41
        }
      ],
      "source": [
        "# Cek raw data hasil simulasi\n",
        "df_raw"
      ]
    },
    {
      "cell_type": "code",
      "source": [
        "# Menampilkan hasil seluruh simulasi untuk N=1\n",
        "df_raw.loc[(1, slice(None)), :]"
      ],
      "metadata": {
        "id": "NGE6juyqgzke",
        "colab": {
          "base_uri": "https://localhost:8080/",
          "height": 394
        },
        "outputId": "e478b6ab-8631-4975-9a45-1f1119939ac6"
      },
      "execution_count": 42,
      "outputs": [
        {
          "output_type": "execute_result",
          "data": {
            "text/plain": [
              "               quick_sort  bubble_sort\n",
              "N simulasi_ke                         \n",
              "1 1              0.000003     0.000005\n",
              "  2              0.000005     0.000007\n",
              "  3              0.000004     0.000006\n",
              "  4              0.000003     0.000004\n",
              "  5              0.000024     0.000005\n",
              "  6              0.000005     0.000007\n",
              "  7              0.000004     0.000005\n",
              "  8              0.000004     0.000006\n",
              "  9              0.000005     0.000007\n",
              "  10             0.000004     0.000008"
            ],
            "text/html": [
              "\n",
              "  <div id=\"df-e21299df-0666-452f-ab6b-338c4e550c31\" class=\"colab-df-container\">\n",
              "    <div>\n",
              "<style scoped>\n",
              "    .dataframe tbody tr th:only-of-type {\n",
              "        vertical-align: middle;\n",
              "    }\n",
              "\n",
              "    .dataframe tbody tr th {\n",
              "        vertical-align: top;\n",
              "    }\n",
              "\n",
              "    .dataframe thead th {\n",
              "        text-align: right;\n",
              "    }\n",
              "</style>\n",
              "<table border=\"1\" class=\"dataframe\">\n",
              "  <thead>\n",
              "    <tr style=\"text-align: right;\">\n",
              "      <th></th>\n",
              "      <th></th>\n",
              "      <th>quick_sort</th>\n",
              "      <th>bubble_sort</th>\n",
              "    </tr>\n",
              "    <tr>\n",
              "      <th>N</th>\n",
              "      <th>simulasi_ke</th>\n",
              "      <th></th>\n",
              "      <th></th>\n",
              "    </tr>\n",
              "  </thead>\n",
              "  <tbody>\n",
              "    <tr>\n",
              "      <th rowspan=\"10\" valign=\"top\">1</th>\n",
              "      <th>1</th>\n",
              "      <td>0.000003</td>\n",
              "      <td>0.000005</td>\n",
              "    </tr>\n",
              "    <tr>\n",
              "      <th>2</th>\n",
              "      <td>0.000005</td>\n",
              "      <td>0.000007</td>\n",
              "    </tr>\n",
              "    <tr>\n",
              "      <th>3</th>\n",
              "      <td>0.000004</td>\n",
              "      <td>0.000006</td>\n",
              "    </tr>\n",
              "    <tr>\n",
              "      <th>4</th>\n",
              "      <td>0.000003</td>\n",
              "      <td>0.000004</td>\n",
              "    </tr>\n",
              "    <tr>\n",
              "      <th>5</th>\n",
              "      <td>0.000024</td>\n",
              "      <td>0.000005</td>\n",
              "    </tr>\n",
              "    <tr>\n",
              "      <th>6</th>\n",
              "      <td>0.000005</td>\n",
              "      <td>0.000007</td>\n",
              "    </tr>\n",
              "    <tr>\n",
              "      <th>7</th>\n",
              "      <td>0.000004</td>\n",
              "      <td>0.000005</td>\n",
              "    </tr>\n",
              "    <tr>\n",
              "      <th>8</th>\n",
              "      <td>0.000004</td>\n",
              "      <td>0.000006</td>\n",
              "    </tr>\n",
              "    <tr>\n",
              "      <th>9</th>\n",
              "      <td>0.000005</td>\n",
              "      <td>0.000007</td>\n",
              "    </tr>\n",
              "    <tr>\n",
              "      <th>10</th>\n",
              "      <td>0.000004</td>\n",
              "      <td>0.000008</td>\n",
              "    </tr>\n",
              "  </tbody>\n",
              "</table>\n",
              "</div>\n",
              "    <div class=\"colab-df-buttons\">\n",
              "\n",
              "  <div class=\"colab-df-container\">\n",
              "    <button class=\"colab-df-convert\" onclick=\"convertToInteractive('df-e21299df-0666-452f-ab6b-338c4e550c31')\"\n",
              "            title=\"Convert this dataframe to an interactive table.\"\n",
              "            style=\"display:none;\">\n",
              "\n",
              "  <svg xmlns=\"http://www.w3.org/2000/svg\" height=\"24px\" viewBox=\"0 -960 960 960\">\n",
              "    <path d=\"M120-120v-720h720v720H120Zm60-500h600v-160H180v160Zm220 220h160v-160H400v160Zm0 220h160v-160H400v160ZM180-400h160v-160H180v160Zm440 0h160v-160H620v160ZM180-180h160v-160H180v160Zm440 0h160v-160H620v160Z\"/>\n",
              "  </svg>\n",
              "    </button>\n",
              "\n",
              "  <style>\n",
              "    .colab-df-container {\n",
              "      display:flex;\n",
              "      gap: 12px;\n",
              "    }\n",
              "\n",
              "    .colab-df-convert {\n",
              "      background-color: #E8F0FE;\n",
              "      border: none;\n",
              "      border-radius: 50%;\n",
              "      cursor: pointer;\n",
              "      display: none;\n",
              "      fill: #1967D2;\n",
              "      height: 32px;\n",
              "      padding: 0 0 0 0;\n",
              "      width: 32px;\n",
              "    }\n",
              "\n",
              "    .colab-df-convert:hover {\n",
              "      background-color: #E2EBFA;\n",
              "      box-shadow: 0px 1px 2px rgba(60, 64, 67, 0.3), 0px 1px 3px 1px rgba(60, 64, 67, 0.15);\n",
              "      fill: #174EA6;\n",
              "    }\n",
              "\n",
              "    .colab-df-buttons div {\n",
              "      margin-bottom: 4px;\n",
              "    }\n",
              "\n",
              "    [theme=dark] .colab-df-convert {\n",
              "      background-color: #3B4455;\n",
              "      fill: #D2E3FC;\n",
              "    }\n",
              "\n",
              "    [theme=dark] .colab-df-convert:hover {\n",
              "      background-color: #434B5C;\n",
              "      box-shadow: 0px 1px 3px 1px rgba(0, 0, 0, 0.15);\n",
              "      filter: drop-shadow(0px 1px 2px rgba(0, 0, 0, 0.3));\n",
              "      fill: #FFFFFF;\n",
              "    }\n",
              "  </style>\n",
              "\n",
              "    <script>\n",
              "      const buttonEl =\n",
              "        document.querySelector('#df-e21299df-0666-452f-ab6b-338c4e550c31 button.colab-df-convert');\n",
              "      buttonEl.style.display =\n",
              "        google.colab.kernel.accessAllowed ? 'block' : 'none';\n",
              "\n",
              "      async function convertToInteractive(key) {\n",
              "        const element = document.querySelector('#df-e21299df-0666-452f-ab6b-338c4e550c31');\n",
              "        const dataTable =\n",
              "          await google.colab.kernel.invokeFunction('convertToInteractive',\n",
              "                                                    [key], {});\n",
              "        if (!dataTable) return;\n",
              "\n",
              "        const docLinkHtml = 'Like what you see? Visit the ' +\n",
              "          '<a target=\"_blank\" href=https://colab.research.google.com/notebooks/data_table.ipynb>data table notebook</a>'\n",
              "          + ' to learn more about interactive tables.';\n",
              "        element.innerHTML = '';\n",
              "        dataTable['output_type'] = 'display_data';\n",
              "        await google.colab.output.renderOutput(dataTable, element);\n",
              "        const docLink = document.createElement('div');\n",
              "        docLink.innerHTML = docLinkHtml;\n",
              "        element.appendChild(docLink);\n",
              "      }\n",
              "    </script>\n",
              "  </div>\n",
              "\n",
              "\n",
              "<div id=\"df-a30b6a4e-d691-4ab4-8701-4c21a4faeebf\">\n",
              "  <button class=\"colab-df-quickchart\" onclick=\"quickchart('df-a30b6a4e-d691-4ab4-8701-4c21a4faeebf')\"\n",
              "            title=\"Suggest charts\"\n",
              "            style=\"display:none;\">\n",
              "\n",
              "<svg xmlns=\"http://www.w3.org/2000/svg\" height=\"24px\"viewBox=\"0 0 24 24\"\n",
              "     width=\"24px\">\n",
              "    <g>\n",
              "        <path d=\"M19 3H5c-1.1 0-2 .9-2 2v14c0 1.1.9 2 2 2h14c1.1 0 2-.9 2-2V5c0-1.1-.9-2-2-2zM9 17H7v-7h2v7zm4 0h-2V7h2v10zm4 0h-2v-4h2v4z\"/>\n",
              "    </g>\n",
              "</svg>\n",
              "  </button>\n",
              "\n",
              "<style>\n",
              "  .colab-df-quickchart {\n",
              "      --bg-color: #E8F0FE;\n",
              "      --fill-color: #1967D2;\n",
              "      --hover-bg-color: #E2EBFA;\n",
              "      --hover-fill-color: #174EA6;\n",
              "      --disabled-fill-color: #AAA;\n",
              "      --disabled-bg-color: #DDD;\n",
              "  }\n",
              "\n",
              "  [theme=dark] .colab-df-quickchart {\n",
              "      --bg-color: #3B4455;\n",
              "      --fill-color: #D2E3FC;\n",
              "      --hover-bg-color: #434B5C;\n",
              "      --hover-fill-color: #FFFFFF;\n",
              "      --disabled-bg-color: #3B4455;\n",
              "      --disabled-fill-color: #666;\n",
              "  }\n",
              "\n",
              "  .colab-df-quickchart {\n",
              "    background-color: var(--bg-color);\n",
              "    border: none;\n",
              "    border-radius: 50%;\n",
              "    cursor: pointer;\n",
              "    display: none;\n",
              "    fill: var(--fill-color);\n",
              "    height: 32px;\n",
              "    padding: 0;\n",
              "    width: 32px;\n",
              "  }\n",
              "\n",
              "  .colab-df-quickchart:hover {\n",
              "    background-color: var(--hover-bg-color);\n",
              "    box-shadow: 0 1px 2px rgba(60, 64, 67, 0.3), 0 1px 3px 1px rgba(60, 64, 67, 0.15);\n",
              "    fill: var(--button-hover-fill-color);\n",
              "  }\n",
              "\n",
              "  .colab-df-quickchart-complete:disabled,\n",
              "  .colab-df-quickchart-complete:disabled:hover {\n",
              "    background-color: var(--disabled-bg-color);\n",
              "    fill: var(--disabled-fill-color);\n",
              "    box-shadow: none;\n",
              "  }\n",
              "\n",
              "  .colab-df-spinner {\n",
              "    border: 2px solid var(--fill-color);\n",
              "    border-color: transparent;\n",
              "    border-bottom-color: var(--fill-color);\n",
              "    animation:\n",
              "      spin 1s steps(1) infinite;\n",
              "  }\n",
              "\n",
              "  @keyframes spin {\n",
              "    0% {\n",
              "      border-color: transparent;\n",
              "      border-bottom-color: var(--fill-color);\n",
              "      border-left-color: var(--fill-color);\n",
              "    }\n",
              "    20% {\n",
              "      border-color: transparent;\n",
              "      border-left-color: var(--fill-color);\n",
              "      border-top-color: var(--fill-color);\n",
              "    }\n",
              "    30% {\n",
              "      border-color: transparent;\n",
              "      border-left-color: var(--fill-color);\n",
              "      border-top-color: var(--fill-color);\n",
              "      border-right-color: var(--fill-color);\n",
              "    }\n",
              "    40% {\n",
              "      border-color: transparent;\n",
              "      border-right-color: var(--fill-color);\n",
              "      border-top-color: var(--fill-color);\n",
              "    }\n",
              "    60% {\n",
              "      border-color: transparent;\n",
              "      border-right-color: var(--fill-color);\n",
              "    }\n",
              "    80% {\n",
              "      border-color: transparent;\n",
              "      border-right-color: var(--fill-color);\n",
              "      border-bottom-color: var(--fill-color);\n",
              "    }\n",
              "    90% {\n",
              "      border-color: transparent;\n",
              "      border-bottom-color: var(--fill-color);\n",
              "    }\n",
              "  }\n",
              "</style>\n",
              "\n",
              "  <script>\n",
              "    async function quickchart(key) {\n",
              "      const quickchartButtonEl =\n",
              "        document.querySelector('#' + key + ' button');\n",
              "      quickchartButtonEl.disabled = true;  // To prevent multiple clicks.\n",
              "      quickchartButtonEl.classList.add('colab-df-spinner');\n",
              "      try {\n",
              "        const charts = await google.colab.kernel.invokeFunction(\n",
              "            'suggestCharts', [key], {});\n",
              "      } catch (error) {\n",
              "        console.error('Error during call to suggestCharts:', error);\n",
              "      }\n",
              "      quickchartButtonEl.classList.remove('colab-df-spinner');\n",
              "      quickchartButtonEl.classList.add('colab-df-quickchart-complete');\n",
              "    }\n",
              "    (() => {\n",
              "      let quickchartButtonEl =\n",
              "        document.querySelector('#df-a30b6a4e-d691-4ab4-8701-4c21a4faeebf button');\n",
              "      quickchartButtonEl.style.display =\n",
              "        google.colab.kernel.accessAllowed ? 'block' : 'none';\n",
              "    })();\n",
              "  </script>\n",
              "</div>\n",
              "\n",
              "    </div>\n",
              "  </div>\n"
            ],
            "application/vnd.google.colaboratory.intrinsic+json": {
              "type": "dataframe",
              "summary": "{\n  \"name\": \"df_raw\",\n  \"rows\": 10,\n  \"fields\": [\n    {\n      \"column\": \"quick_sort\",\n      \"properties\": {\n        \"dtype\": \"number\",\n        \"std\": 6.455019194609298e-06,\n        \"min\": 3.219999939574336e-06,\n        \"max\": 2.4270000039905426e-05,\n        \"num_unique_values\": 10,\n        \"samples\": [\n          4.604999958246481e-06,\n          4.6730000349270995e-06,\n          4.527999976744468e-06\n        ],\n        \"semantic_type\": \"\",\n        \"description\": \"\"\n      }\n    },\n    {\n      \"column\": \"bubble_sort\",\n      \"properties\": {\n        \"dtype\": \"number\",\n        \"std\": 1.1276239796687883e-06,\n        \"min\": 4.403000048114336e-06,\n        \"max\": 7.883999955993204e-06,\n        \"num_unique_values\": 10,\n        \"samples\": [\n          6.6579999611349194e-06,\n          6.794000000809319e-06,\n          6.530999939968751e-06\n        ],\n        \"semantic_type\": \"\",\n        \"description\": \"\"\n      }\n    }\n  ]\n}"
            }
          },
          "metadata": {},
          "execution_count": 42
        }
      ]
    },
    {
      "cell_type": "code",
      "source": [
        "# Cek hasil simulasi ke-1 untuk seluruh N\n",
        "df_raw.loc[(slice(None), 1), :]"
      ],
      "metadata": {
        "id": "3_-C4qUCdtR7",
        "colab": {
          "base_uri": "https://localhost:8080/",
          "height": 455
        },
        "outputId": "2ef5cc71-bf4f-4f70-a5ec-e9c3ecaa9a7d"
      },
      "execution_count": 43,
      "outputs": [
        {
          "output_type": "execute_result",
          "data": {
            "text/plain": [
              "                 quick_sort  bubble_sort\n",
              "N   simulasi_ke                         \n",
              "1   1              0.000003     0.000005\n",
              "2   1              0.000009     0.000007\n",
              "3   1              0.000013     0.000005\n",
              "4   1              0.000008     0.000005\n",
              "5   1              0.000009     0.000005\n",
              "...                     ...          ...\n",
              "496 1              0.001246     0.020075\n",
              "497 1              0.001209     0.020685\n",
              "498 1              0.001229     0.020445\n",
              "499 1              0.001251     0.020614\n",
              "500 1              0.001286     0.020400\n",
              "\n",
              "[500 rows x 2 columns]"
            ],
            "text/html": [
              "\n",
              "  <div id=\"df-bb6abaa2-933c-4593-b3a0-2ee035abf495\" class=\"colab-df-container\">\n",
              "    <div>\n",
              "<style scoped>\n",
              "    .dataframe tbody tr th:only-of-type {\n",
              "        vertical-align: middle;\n",
              "    }\n",
              "\n",
              "    .dataframe tbody tr th {\n",
              "        vertical-align: top;\n",
              "    }\n",
              "\n",
              "    .dataframe thead th {\n",
              "        text-align: right;\n",
              "    }\n",
              "</style>\n",
              "<table border=\"1\" class=\"dataframe\">\n",
              "  <thead>\n",
              "    <tr style=\"text-align: right;\">\n",
              "      <th></th>\n",
              "      <th></th>\n",
              "      <th>quick_sort</th>\n",
              "      <th>bubble_sort</th>\n",
              "    </tr>\n",
              "    <tr>\n",
              "      <th>N</th>\n",
              "      <th>simulasi_ke</th>\n",
              "      <th></th>\n",
              "      <th></th>\n",
              "    </tr>\n",
              "  </thead>\n",
              "  <tbody>\n",
              "    <tr>\n",
              "      <th>1</th>\n",
              "      <th>1</th>\n",
              "      <td>0.000003</td>\n",
              "      <td>0.000005</td>\n",
              "    </tr>\n",
              "    <tr>\n",
              "      <th>2</th>\n",
              "      <th>1</th>\n",
              "      <td>0.000009</td>\n",
              "      <td>0.000007</td>\n",
              "    </tr>\n",
              "    <tr>\n",
              "      <th>3</th>\n",
              "      <th>1</th>\n",
              "      <td>0.000013</td>\n",
              "      <td>0.000005</td>\n",
              "    </tr>\n",
              "    <tr>\n",
              "      <th>4</th>\n",
              "      <th>1</th>\n",
              "      <td>0.000008</td>\n",
              "      <td>0.000005</td>\n",
              "    </tr>\n",
              "    <tr>\n",
              "      <th>5</th>\n",
              "      <th>1</th>\n",
              "      <td>0.000009</td>\n",
              "      <td>0.000005</td>\n",
              "    </tr>\n",
              "    <tr>\n",
              "      <th>...</th>\n",
              "      <th>...</th>\n",
              "      <td>...</td>\n",
              "      <td>...</td>\n",
              "    </tr>\n",
              "    <tr>\n",
              "      <th>496</th>\n",
              "      <th>1</th>\n",
              "      <td>0.001246</td>\n",
              "      <td>0.020075</td>\n",
              "    </tr>\n",
              "    <tr>\n",
              "      <th>497</th>\n",
              "      <th>1</th>\n",
              "      <td>0.001209</td>\n",
              "      <td>0.020685</td>\n",
              "    </tr>\n",
              "    <tr>\n",
              "      <th>498</th>\n",
              "      <th>1</th>\n",
              "      <td>0.001229</td>\n",
              "      <td>0.020445</td>\n",
              "    </tr>\n",
              "    <tr>\n",
              "      <th>499</th>\n",
              "      <th>1</th>\n",
              "      <td>0.001251</td>\n",
              "      <td>0.020614</td>\n",
              "    </tr>\n",
              "    <tr>\n",
              "      <th>500</th>\n",
              "      <th>1</th>\n",
              "      <td>0.001286</td>\n",
              "      <td>0.020400</td>\n",
              "    </tr>\n",
              "  </tbody>\n",
              "</table>\n",
              "<p>500 rows × 2 columns</p>\n",
              "</div>\n",
              "    <div class=\"colab-df-buttons\">\n",
              "\n",
              "  <div class=\"colab-df-container\">\n",
              "    <button class=\"colab-df-convert\" onclick=\"convertToInteractive('df-bb6abaa2-933c-4593-b3a0-2ee035abf495')\"\n",
              "            title=\"Convert this dataframe to an interactive table.\"\n",
              "            style=\"display:none;\">\n",
              "\n",
              "  <svg xmlns=\"http://www.w3.org/2000/svg\" height=\"24px\" viewBox=\"0 -960 960 960\">\n",
              "    <path d=\"M120-120v-720h720v720H120Zm60-500h600v-160H180v160Zm220 220h160v-160H400v160Zm0 220h160v-160H400v160ZM180-400h160v-160H180v160Zm440 0h160v-160H620v160ZM180-180h160v-160H180v160Zm440 0h160v-160H620v160Z\"/>\n",
              "  </svg>\n",
              "    </button>\n",
              "\n",
              "  <style>\n",
              "    .colab-df-container {\n",
              "      display:flex;\n",
              "      gap: 12px;\n",
              "    }\n",
              "\n",
              "    .colab-df-convert {\n",
              "      background-color: #E8F0FE;\n",
              "      border: none;\n",
              "      border-radius: 50%;\n",
              "      cursor: pointer;\n",
              "      display: none;\n",
              "      fill: #1967D2;\n",
              "      height: 32px;\n",
              "      padding: 0 0 0 0;\n",
              "      width: 32px;\n",
              "    }\n",
              "\n",
              "    .colab-df-convert:hover {\n",
              "      background-color: #E2EBFA;\n",
              "      box-shadow: 0px 1px 2px rgba(60, 64, 67, 0.3), 0px 1px 3px 1px rgba(60, 64, 67, 0.15);\n",
              "      fill: #174EA6;\n",
              "    }\n",
              "\n",
              "    .colab-df-buttons div {\n",
              "      margin-bottom: 4px;\n",
              "    }\n",
              "\n",
              "    [theme=dark] .colab-df-convert {\n",
              "      background-color: #3B4455;\n",
              "      fill: #D2E3FC;\n",
              "    }\n",
              "\n",
              "    [theme=dark] .colab-df-convert:hover {\n",
              "      background-color: #434B5C;\n",
              "      box-shadow: 0px 1px 3px 1px rgba(0, 0, 0, 0.15);\n",
              "      filter: drop-shadow(0px 1px 2px rgba(0, 0, 0, 0.3));\n",
              "      fill: #FFFFFF;\n",
              "    }\n",
              "  </style>\n",
              "\n",
              "    <script>\n",
              "      const buttonEl =\n",
              "        document.querySelector('#df-bb6abaa2-933c-4593-b3a0-2ee035abf495 button.colab-df-convert');\n",
              "      buttonEl.style.display =\n",
              "        google.colab.kernel.accessAllowed ? 'block' : 'none';\n",
              "\n",
              "      async function convertToInteractive(key) {\n",
              "        const element = document.querySelector('#df-bb6abaa2-933c-4593-b3a0-2ee035abf495');\n",
              "        const dataTable =\n",
              "          await google.colab.kernel.invokeFunction('convertToInteractive',\n",
              "                                                    [key], {});\n",
              "        if (!dataTable) return;\n",
              "\n",
              "        const docLinkHtml = 'Like what you see? Visit the ' +\n",
              "          '<a target=\"_blank\" href=https://colab.research.google.com/notebooks/data_table.ipynb>data table notebook</a>'\n",
              "          + ' to learn more about interactive tables.';\n",
              "        element.innerHTML = '';\n",
              "        dataTable['output_type'] = 'display_data';\n",
              "        await google.colab.output.renderOutput(dataTable, element);\n",
              "        const docLink = document.createElement('div');\n",
              "        docLink.innerHTML = docLinkHtml;\n",
              "        element.appendChild(docLink);\n",
              "      }\n",
              "    </script>\n",
              "  </div>\n",
              "\n",
              "\n",
              "<div id=\"df-597bc753-0590-4ebe-a68b-9da6b645f7bb\">\n",
              "  <button class=\"colab-df-quickchart\" onclick=\"quickchart('df-597bc753-0590-4ebe-a68b-9da6b645f7bb')\"\n",
              "            title=\"Suggest charts\"\n",
              "            style=\"display:none;\">\n",
              "\n",
              "<svg xmlns=\"http://www.w3.org/2000/svg\" height=\"24px\"viewBox=\"0 0 24 24\"\n",
              "     width=\"24px\">\n",
              "    <g>\n",
              "        <path d=\"M19 3H5c-1.1 0-2 .9-2 2v14c0 1.1.9 2 2 2h14c1.1 0 2-.9 2-2V5c0-1.1-.9-2-2-2zM9 17H7v-7h2v7zm4 0h-2V7h2v10zm4 0h-2v-4h2v4z\"/>\n",
              "    </g>\n",
              "</svg>\n",
              "  </button>\n",
              "\n",
              "<style>\n",
              "  .colab-df-quickchart {\n",
              "      --bg-color: #E8F0FE;\n",
              "      --fill-color: #1967D2;\n",
              "      --hover-bg-color: #E2EBFA;\n",
              "      --hover-fill-color: #174EA6;\n",
              "      --disabled-fill-color: #AAA;\n",
              "      --disabled-bg-color: #DDD;\n",
              "  }\n",
              "\n",
              "  [theme=dark] .colab-df-quickchart {\n",
              "      --bg-color: #3B4455;\n",
              "      --fill-color: #D2E3FC;\n",
              "      --hover-bg-color: #434B5C;\n",
              "      --hover-fill-color: #FFFFFF;\n",
              "      --disabled-bg-color: #3B4455;\n",
              "      --disabled-fill-color: #666;\n",
              "  }\n",
              "\n",
              "  .colab-df-quickchart {\n",
              "    background-color: var(--bg-color);\n",
              "    border: none;\n",
              "    border-radius: 50%;\n",
              "    cursor: pointer;\n",
              "    display: none;\n",
              "    fill: var(--fill-color);\n",
              "    height: 32px;\n",
              "    padding: 0;\n",
              "    width: 32px;\n",
              "  }\n",
              "\n",
              "  .colab-df-quickchart:hover {\n",
              "    background-color: var(--hover-bg-color);\n",
              "    box-shadow: 0 1px 2px rgba(60, 64, 67, 0.3), 0 1px 3px 1px rgba(60, 64, 67, 0.15);\n",
              "    fill: var(--button-hover-fill-color);\n",
              "  }\n",
              "\n",
              "  .colab-df-quickchart-complete:disabled,\n",
              "  .colab-df-quickchart-complete:disabled:hover {\n",
              "    background-color: var(--disabled-bg-color);\n",
              "    fill: var(--disabled-fill-color);\n",
              "    box-shadow: none;\n",
              "  }\n",
              "\n",
              "  .colab-df-spinner {\n",
              "    border: 2px solid var(--fill-color);\n",
              "    border-color: transparent;\n",
              "    border-bottom-color: var(--fill-color);\n",
              "    animation:\n",
              "      spin 1s steps(1) infinite;\n",
              "  }\n",
              "\n",
              "  @keyframes spin {\n",
              "    0% {\n",
              "      border-color: transparent;\n",
              "      border-bottom-color: var(--fill-color);\n",
              "      border-left-color: var(--fill-color);\n",
              "    }\n",
              "    20% {\n",
              "      border-color: transparent;\n",
              "      border-left-color: var(--fill-color);\n",
              "      border-top-color: var(--fill-color);\n",
              "    }\n",
              "    30% {\n",
              "      border-color: transparent;\n",
              "      border-left-color: var(--fill-color);\n",
              "      border-top-color: var(--fill-color);\n",
              "      border-right-color: var(--fill-color);\n",
              "    }\n",
              "    40% {\n",
              "      border-color: transparent;\n",
              "      border-right-color: var(--fill-color);\n",
              "      border-top-color: var(--fill-color);\n",
              "    }\n",
              "    60% {\n",
              "      border-color: transparent;\n",
              "      border-right-color: var(--fill-color);\n",
              "    }\n",
              "    80% {\n",
              "      border-color: transparent;\n",
              "      border-right-color: var(--fill-color);\n",
              "      border-bottom-color: var(--fill-color);\n",
              "    }\n",
              "    90% {\n",
              "      border-color: transparent;\n",
              "      border-bottom-color: var(--fill-color);\n",
              "    }\n",
              "  }\n",
              "</style>\n",
              "\n",
              "  <script>\n",
              "    async function quickchart(key) {\n",
              "      const quickchartButtonEl =\n",
              "        document.querySelector('#' + key + ' button');\n",
              "      quickchartButtonEl.disabled = true;  // To prevent multiple clicks.\n",
              "      quickchartButtonEl.classList.add('colab-df-spinner');\n",
              "      try {\n",
              "        const charts = await google.colab.kernel.invokeFunction(\n",
              "            'suggestCharts', [key], {});\n",
              "      } catch (error) {\n",
              "        console.error('Error during call to suggestCharts:', error);\n",
              "      }\n",
              "      quickchartButtonEl.classList.remove('colab-df-spinner');\n",
              "      quickchartButtonEl.classList.add('colab-df-quickchart-complete');\n",
              "    }\n",
              "    (() => {\n",
              "      let quickchartButtonEl =\n",
              "        document.querySelector('#df-597bc753-0590-4ebe-a68b-9da6b645f7bb button');\n",
              "      quickchartButtonEl.style.display =\n",
              "        google.colab.kernel.accessAllowed ? 'block' : 'none';\n",
              "    })();\n",
              "  </script>\n",
              "</div>\n",
              "\n",
              "    </div>\n",
              "  </div>\n"
            ],
            "application/vnd.google.colaboratory.intrinsic+json": {
              "type": "dataframe",
              "summary": "{\n  \"name\": \"df_raw\",\n  \"rows\": 500,\n  \"fields\": [\n    {\n      \"column\": \"quick_sort\",\n      \"properties\": {\n        \"dtype\": \"number\",\n        \"std\": 0.000376069190028931,\n        \"min\": 3.219999939574336e-06,\n        \"max\": 0.002072164000082921,\n        \"num_unique_values\": 500,\n        \"samples\": [\n          0.0008792370000492156,\n          0.00013555600003201107,\n          0.0008577499999091742\n        ],\n        \"semantic_type\": \"\",\n        \"description\": \"\"\n      }\n    },\n    {\n      \"column\": \"bubble_sort\",\n      \"properties\": {\n        \"dtype\": \"number\",\n        \"std\": 0.006251696541204007,\n        \"min\": 4.547000003185531e-06,\n        \"max\": 0.02577190200008772,\n        \"num_unique_values\": 500,\n        \"samples\": [\n          0.010473305999994409,\n          0.00047811899992211693,\n          0.0111316509999142\n        ],\n        \"semantic_type\": \"\",\n        \"description\": \"\"\n      }\n    }\n  ]\n}"
            }
          },
          "metadata": {},
          "execution_count": 43
        }
      ]
    },
    {
      "cell_type": "code",
      "source": [
        "df_raw.info()"
      ],
      "metadata": {
        "id": "F6aKiX6Xopht",
        "colab": {
          "base_uri": "https://localhost:8080/"
        },
        "outputId": "6ebd3769-b0d5-440b-d9e8-0ed3049ec7a7"
      },
      "execution_count": 44,
      "outputs": [
        {
          "output_type": "stream",
          "name": "stdout",
          "text": [
            "<class 'pandas.core.frame.DataFrame'>\n",
            "MultiIndex: 5000 entries, (1, 1) to (500, 10)\n",
            "Data columns (total 2 columns):\n",
            " #   Column       Non-Null Count  Dtype  \n",
            "---  ------       --------------  -----  \n",
            " 0   quick_sort   5000 non-null   float64\n",
            " 1   bubble_sort  5000 non-null   float64\n",
            "dtypes: float64(2)\n",
            "memory usage: 113.3 KB\n"
          ]
        }
      ]
    },
    {
      "cell_type": "code",
      "source": [
        "df_raw.describe()"
      ],
      "metadata": {
        "id": "I8UL8EwYowGl",
        "colab": {
          "base_uri": "https://localhost:8080/",
          "height": 300
        },
        "outputId": "f240745b-ebfb-4d5c-dd59-0a7c14e6fb0c"
      },
      "execution_count": 45,
      "outputs": [
        {
          "output_type": "execute_result",
          "data": {
            "text/plain": [
              "        quick_sort  bubble_sort\n",
              "count  5000.000000  5000.000000\n",
              "mean      0.000637     0.007549\n",
              "std       0.000445     0.007704\n",
              "min       0.000003     0.000003\n",
              "25%       0.000264     0.001355\n",
              "50%       0.000606     0.005228\n",
              "75%       0.000927     0.011567\n",
              "max       0.003558     0.049528"
            ],
            "text/html": [
              "\n",
              "  <div id=\"df-146fca22-c766-4b15-8a71-acc8a929627d\" class=\"colab-df-container\">\n",
              "    <div>\n",
              "<style scoped>\n",
              "    .dataframe tbody tr th:only-of-type {\n",
              "        vertical-align: middle;\n",
              "    }\n",
              "\n",
              "    .dataframe tbody tr th {\n",
              "        vertical-align: top;\n",
              "    }\n",
              "\n",
              "    .dataframe thead th {\n",
              "        text-align: right;\n",
              "    }\n",
              "</style>\n",
              "<table border=\"1\" class=\"dataframe\">\n",
              "  <thead>\n",
              "    <tr style=\"text-align: right;\">\n",
              "      <th></th>\n",
              "      <th>quick_sort</th>\n",
              "      <th>bubble_sort</th>\n",
              "    </tr>\n",
              "  </thead>\n",
              "  <tbody>\n",
              "    <tr>\n",
              "      <th>count</th>\n",
              "      <td>5000.000000</td>\n",
              "      <td>5000.000000</td>\n",
              "    </tr>\n",
              "    <tr>\n",
              "      <th>mean</th>\n",
              "      <td>0.000637</td>\n",
              "      <td>0.007549</td>\n",
              "    </tr>\n",
              "    <tr>\n",
              "      <th>std</th>\n",
              "      <td>0.000445</td>\n",
              "      <td>0.007704</td>\n",
              "    </tr>\n",
              "    <tr>\n",
              "      <th>min</th>\n",
              "      <td>0.000003</td>\n",
              "      <td>0.000003</td>\n",
              "    </tr>\n",
              "    <tr>\n",
              "      <th>25%</th>\n",
              "      <td>0.000264</td>\n",
              "      <td>0.001355</td>\n",
              "    </tr>\n",
              "    <tr>\n",
              "      <th>50%</th>\n",
              "      <td>0.000606</td>\n",
              "      <td>0.005228</td>\n",
              "    </tr>\n",
              "    <tr>\n",
              "      <th>75%</th>\n",
              "      <td>0.000927</td>\n",
              "      <td>0.011567</td>\n",
              "    </tr>\n",
              "    <tr>\n",
              "      <th>max</th>\n",
              "      <td>0.003558</td>\n",
              "      <td>0.049528</td>\n",
              "    </tr>\n",
              "  </tbody>\n",
              "</table>\n",
              "</div>\n",
              "    <div class=\"colab-df-buttons\">\n",
              "\n",
              "  <div class=\"colab-df-container\">\n",
              "    <button class=\"colab-df-convert\" onclick=\"convertToInteractive('df-146fca22-c766-4b15-8a71-acc8a929627d')\"\n",
              "            title=\"Convert this dataframe to an interactive table.\"\n",
              "            style=\"display:none;\">\n",
              "\n",
              "  <svg xmlns=\"http://www.w3.org/2000/svg\" height=\"24px\" viewBox=\"0 -960 960 960\">\n",
              "    <path d=\"M120-120v-720h720v720H120Zm60-500h600v-160H180v160Zm220 220h160v-160H400v160Zm0 220h160v-160H400v160ZM180-400h160v-160H180v160Zm440 0h160v-160H620v160ZM180-180h160v-160H180v160Zm440 0h160v-160H620v160Z\"/>\n",
              "  </svg>\n",
              "    </button>\n",
              "\n",
              "  <style>\n",
              "    .colab-df-container {\n",
              "      display:flex;\n",
              "      gap: 12px;\n",
              "    }\n",
              "\n",
              "    .colab-df-convert {\n",
              "      background-color: #E8F0FE;\n",
              "      border: none;\n",
              "      border-radius: 50%;\n",
              "      cursor: pointer;\n",
              "      display: none;\n",
              "      fill: #1967D2;\n",
              "      height: 32px;\n",
              "      padding: 0 0 0 0;\n",
              "      width: 32px;\n",
              "    }\n",
              "\n",
              "    .colab-df-convert:hover {\n",
              "      background-color: #E2EBFA;\n",
              "      box-shadow: 0px 1px 2px rgba(60, 64, 67, 0.3), 0px 1px 3px 1px rgba(60, 64, 67, 0.15);\n",
              "      fill: #174EA6;\n",
              "    }\n",
              "\n",
              "    .colab-df-buttons div {\n",
              "      margin-bottom: 4px;\n",
              "    }\n",
              "\n",
              "    [theme=dark] .colab-df-convert {\n",
              "      background-color: #3B4455;\n",
              "      fill: #D2E3FC;\n",
              "    }\n",
              "\n",
              "    [theme=dark] .colab-df-convert:hover {\n",
              "      background-color: #434B5C;\n",
              "      box-shadow: 0px 1px 3px 1px rgba(0, 0, 0, 0.15);\n",
              "      filter: drop-shadow(0px 1px 2px rgba(0, 0, 0, 0.3));\n",
              "      fill: #FFFFFF;\n",
              "    }\n",
              "  </style>\n",
              "\n",
              "    <script>\n",
              "      const buttonEl =\n",
              "        document.querySelector('#df-146fca22-c766-4b15-8a71-acc8a929627d button.colab-df-convert');\n",
              "      buttonEl.style.display =\n",
              "        google.colab.kernel.accessAllowed ? 'block' : 'none';\n",
              "\n",
              "      async function convertToInteractive(key) {\n",
              "        const element = document.querySelector('#df-146fca22-c766-4b15-8a71-acc8a929627d');\n",
              "        const dataTable =\n",
              "          await google.colab.kernel.invokeFunction('convertToInteractive',\n",
              "                                                    [key], {});\n",
              "        if (!dataTable) return;\n",
              "\n",
              "        const docLinkHtml = 'Like what you see? Visit the ' +\n",
              "          '<a target=\"_blank\" href=https://colab.research.google.com/notebooks/data_table.ipynb>data table notebook</a>'\n",
              "          + ' to learn more about interactive tables.';\n",
              "        element.innerHTML = '';\n",
              "        dataTable['output_type'] = 'display_data';\n",
              "        await google.colab.output.renderOutput(dataTable, element);\n",
              "        const docLink = document.createElement('div');\n",
              "        docLink.innerHTML = docLinkHtml;\n",
              "        element.appendChild(docLink);\n",
              "      }\n",
              "    </script>\n",
              "  </div>\n",
              "\n",
              "\n",
              "<div id=\"df-a7858870-d28e-41fb-abed-82228d8ae94d\">\n",
              "  <button class=\"colab-df-quickchart\" onclick=\"quickchart('df-a7858870-d28e-41fb-abed-82228d8ae94d')\"\n",
              "            title=\"Suggest charts\"\n",
              "            style=\"display:none;\">\n",
              "\n",
              "<svg xmlns=\"http://www.w3.org/2000/svg\" height=\"24px\"viewBox=\"0 0 24 24\"\n",
              "     width=\"24px\">\n",
              "    <g>\n",
              "        <path d=\"M19 3H5c-1.1 0-2 .9-2 2v14c0 1.1.9 2 2 2h14c1.1 0 2-.9 2-2V5c0-1.1-.9-2-2-2zM9 17H7v-7h2v7zm4 0h-2V7h2v10zm4 0h-2v-4h2v4z\"/>\n",
              "    </g>\n",
              "</svg>\n",
              "  </button>\n",
              "\n",
              "<style>\n",
              "  .colab-df-quickchart {\n",
              "      --bg-color: #E8F0FE;\n",
              "      --fill-color: #1967D2;\n",
              "      --hover-bg-color: #E2EBFA;\n",
              "      --hover-fill-color: #174EA6;\n",
              "      --disabled-fill-color: #AAA;\n",
              "      --disabled-bg-color: #DDD;\n",
              "  }\n",
              "\n",
              "  [theme=dark] .colab-df-quickchart {\n",
              "      --bg-color: #3B4455;\n",
              "      --fill-color: #D2E3FC;\n",
              "      --hover-bg-color: #434B5C;\n",
              "      --hover-fill-color: #FFFFFF;\n",
              "      --disabled-bg-color: #3B4455;\n",
              "      --disabled-fill-color: #666;\n",
              "  }\n",
              "\n",
              "  .colab-df-quickchart {\n",
              "    background-color: var(--bg-color);\n",
              "    border: none;\n",
              "    border-radius: 50%;\n",
              "    cursor: pointer;\n",
              "    display: none;\n",
              "    fill: var(--fill-color);\n",
              "    height: 32px;\n",
              "    padding: 0;\n",
              "    width: 32px;\n",
              "  }\n",
              "\n",
              "  .colab-df-quickchart:hover {\n",
              "    background-color: var(--hover-bg-color);\n",
              "    box-shadow: 0 1px 2px rgba(60, 64, 67, 0.3), 0 1px 3px 1px rgba(60, 64, 67, 0.15);\n",
              "    fill: var(--button-hover-fill-color);\n",
              "  }\n",
              "\n",
              "  .colab-df-quickchart-complete:disabled,\n",
              "  .colab-df-quickchart-complete:disabled:hover {\n",
              "    background-color: var(--disabled-bg-color);\n",
              "    fill: var(--disabled-fill-color);\n",
              "    box-shadow: none;\n",
              "  }\n",
              "\n",
              "  .colab-df-spinner {\n",
              "    border: 2px solid var(--fill-color);\n",
              "    border-color: transparent;\n",
              "    border-bottom-color: var(--fill-color);\n",
              "    animation:\n",
              "      spin 1s steps(1) infinite;\n",
              "  }\n",
              "\n",
              "  @keyframes spin {\n",
              "    0% {\n",
              "      border-color: transparent;\n",
              "      border-bottom-color: var(--fill-color);\n",
              "      border-left-color: var(--fill-color);\n",
              "    }\n",
              "    20% {\n",
              "      border-color: transparent;\n",
              "      border-left-color: var(--fill-color);\n",
              "      border-top-color: var(--fill-color);\n",
              "    }\n",
              "    30% {\n",
              "      border-color: transparent;\n",
              "      border-left-color: var(--fill-color);\n",
              "      border-top-color: var(--fill-color);\n",
              "      border-right-color: var(--fill-color);\n",
              "    }\n",
              "    40% {\n",
              "      border-color: transparent;\n",
              "      border-right-color: var(--fill-color);\n",
              "      border-top-color: var(--fill-color);\n",
              "    }\n",
              "    60% {\n",
              "      border-color: transparent;\n",
              "      border-right-color: var(--fill-color);\n",
              "    }\n",
              "    80% {\n",
              "      border-color: transparent;\n",
              "      border-right-color: var(--fill-color);\n",
              "      border-bottom-color: var(--fill-color);\n",
              "    }\n",
              "    90% {\n",
              "      border-color: transparent;\n",
              "      border-bottom-color: var(--fill-color);\n",
              "    }\n",
              "  }\n",
              "</style>\n",
              "\n",
              "  <script>\n",
              "    async function quickchart(key) {\n",
              "      const quickchartButtonEl =\n",
              "        document.querySelector('#' + key + ' button');\n",
              "      quickchartButtonEl.disabled = true;  // To prevent multiple clicks.\n",
              "      quickchartButtonEl.classList.add('colab-df-spinner');\n",
              "      try {\n",
              "        const charts = await google.colab.kernel.invokeFunction(\n",
              "            'suggestCharts', [key], {});\n",
              "      } catch (error) {\n",
              "        console.error('Error during call to suggestCharts:', error);\n",
              "      }\n",
              "      quickchartButtonEl.classList.remove('colab-df-spinner');\n",
              "      quickchartButtonEl.classList.add('colab-df-quickchart-complete');\n",
              "    }\n",
              "    (() => {\n",
              "      let quickchartButtonEl =\n",
              "        document.querySelector('#df-a7858870-d28e-41fb-abed-82228d8ae94d button');\n",
              "      quickchartButtonEl.style.display =\n",
              "        google.colab.kernel.accessAllowed ? 'block' : 'none';\n",
              "    })();\n",
              "  </script>\n",
              "</div>\n",
              "\n",
              "    </div>\n",
              "  </div>\n"
            ],
            "application/vnd.google.colaboratory.intrinsic+json": {
              "type": "dataframe",
              "summary": "{\n  \"name\": \"df_raw\",\n  \"rows\": 8,\n  \"fields\": [\n    {\n      \"column\": \"quick_sort\",\n      \"properties\": {\n        \"dtype\": \"number\",\n        \"std\": 1767.76662767582,\n        \"min\": 3.219999939574336e-06,\n        \"max\": 5000.0,\n        \"num_unique_values\": 8,\n        \"samples\": [\n          0.0006368835042000455,\n          0.0006061845000431276,\n          5000.0\n        ],\n        \"semantic_type\": \"\",\n        \"description\": \"\"\n      }\n    },\n    {\n      \"column\": \"bubble_sort\",\n      \"properties\": {\n        \"dtype\": \"number\",\n        \"std\": 1767.7627642330995,\n        \"min\": 2.8980000479350565e-06,\n        \"max\": 5000.0,\n        \"num_unique_values\": 8,\n        \"samples\": [\n          0.007549076740600526,\n          0.005227708500001427,\n          5000.0\n        ],\n        \"semantic_type\": \"\",\n        \"description\": \"\"\n      }\n    }\n  ]\n}"
            }
          },
          "metadata": {},
          "execution_count": 45
        }
      ]
    },
    {
      "cell_type": "code",
      "source": [
        "df_raw.loc[(500, slice(None)), :].describe()"
      ],
      "metadata": {
        "id": "8P9cllkEpINF",
        "colab": {
          "base_uri": "https://localhost:8080/",
          "height": 300
        },
        "outputId": "94902962-f5b0-4a7a-ffda-34806bcc97cd"
      },
      "execution_count": 46,
      "outputs": [
        {
          "output_type": "execute_result",
          "data": {
            "text/plain": [
              "       quick_sort  bubble_sort\n",
              "count   10.000000    10.000000\n",
              "mean     0.001331     0.025343\n",
              "std      0.000273     0.009052\n",
              "min      0.001151     0.020400\n",
              "25%      0.001177     0.020626\n",
              "50%      0.001242     0.021078\n",
              "75%      0.001344     0.022571\n",
              "max      0.002061     0.045429"
            ],
            "text/html": [
              "\n",
              "  <div id=\"df-fc15fa62-43ca-4f73-bb4e-3d897f297e25\" class=\"colab-df-container\">\n",
              "    <div>\n",
              "<style scoped>\n",
              "    .dataframe tbody tr th:only-of-type {\n",
              "        vertical-align: middle;\n",
              "    }\n",
              "\n",
              "    .dataframe tbody tr th {\n",
              "        vertical-align: top;\n",
              "    }\n",
              "\n",
              "    .dataframe thead th {\n",
              "        text-align: right;\n",
              "    }\n",
              "</style>\n",
              "<table border=\"1\" class=\"dataframe\">\n",
              "  <thead>\n",
              "    <tr style=\"text-align: right;\">\n",
              "      <th></th>\n",
              "      <th>quick_sort</th>\n",
              "      <th>bubble_sort</th>\n",
              "    </tr>\n",
              "  </thead>\n",
              "  <tbody>\n",
              "    <tr>\n",
              "      <th>count</th>\n",
              "      <td>10.000000</td>\n",
              "      <td>10.000000</td>\n",
              "    </tr>\n",
              "    <tr>\n",
              "      <th>mean</th>\n",
              "      <td>0.001331</td>\n",
              "      <td>0.025343</td>\n",
              "    </tr>\n",
              "    <tr>\n",
              "      <th>std</th>\n",
              "      <td>0.000273</td>\n",
              "      <td>0.009052</td>\n",
              "    </tr>\n",
              "    <tr>\n",
              "      <th>min</th>\n",
              "      <td>0.001151</td>\n",
              "      <td>0.020400</td>\n",
              "    </tr>\n",
              "    <tr>\n",
              "      <th>25%</th>\n",
              "      <td>0.001177</td>\n",
              "      <td>0.020626</td>\n",
              "    </tr>\n",
              "    <tr>\n",
              "      <th>50%</th>\n",
              "      <td>0.001242</td>\n",
              "      <td>0.021078</td>\n",
              "    </tr>\n",
              "    <tr>\n",
              "      <th>75%</th>\n",
              "      <td>0.001344</td>\n",
              "      <td>0.022571</td>\n",
              "    </tr>\n",
              "    <tr>\n",
              "      <th>max</th>\n",
              "      <td>0.002061</td>\n",
              "      <td>0.045429</td>\n",
              "    </tr>\n",
              "  </tbody>\n",
              "</table>\n",
              "</div>\n",
              "    <div class=\"colab-df-buttons\">\n",
              "\n",
              "  <div class=\"colab-df-container\">\n",
              "    <button class=\"colab-df-convert\" onclick=\"convertToInteractive('df-fc15fa62-43ca-4f73-bb4e-3d897f297e25')\"\n",
              "            title=\"Convert this dataframe to an interactive table.\"\n",
              "            style=\"display:none;\">\n",
              "\n",
              "  <svg xmlns=\"http://www.w3.org/2000/svg\" height=\"24px\" viewBox=\"0 -960 960 960\">\n",
              "    <path d=\"M120-120v-720h720v720H120Zm60-500h600v-160H180v160Zm220 220h160v-160H400v160Zm0 220h160v-160H400v160ZM180-400h160v-160H180v160Zm440 0h160v-160H620v160ZM180-180h160v-160H180v160Zm440 0h160v-160H620v160Z\"/>\n",
              "  </svg>\n",
              "    </button>\n",
              "\n",
              "  <style>\n",
              "    .colab-df-container {\n",
              "      display:flex;\n",
              "      gap: 12px;\n",
              "    }\n",
              "\n",
              "    .colab-df-convert {\n",
              "      background-color: #E8F0FE;\n",
              "      border: none;\n",
              "      border-radius: 50%;\n",
              "      cursor: pointer;\n",
              "      display: none;\n",
              "      fill: #1967D2;\n",
              "      height: 32px;\n",
              "      padding: 0 0 0 0;\n",
              "      width: 32px;\n",
              "    }\n",
              "\n",
              "    .colab-df-convert:hover {\n",
              "      background-color: #E2EBFA;\n",
              "      box-shadow: 0px 1px 2px rgba(60, 64, 67, 0.3), 0px 1px 3px 1px rgba(60, 64, 67, 0.15);\n",
              "      fill: #174EA6;\n",
              "    }\n",
              "\n",
              "    .colab-df-buttons div {\n",
              "      margin-bottom: 4px;\n",
              "    }\n",
              "\n",
              "    [theme=dark] .colab-df-convert {\n",
              "      background-color: #3B4455;\n",
              "      fill: #D2E3FC;\n",
              "    }\n",
              "\n",
              "    [theme=dark] .colab-df-convert:hover {\n",
              "      background-color: #434B5C;\n",
              "      box-shadow: 0px 1px 3px 1px rgba(0, 0, 0, 0.15);\n",
              "      filter: drop-shadow(0px 1px 2px rgba(0, 0, 0, 0.3));\n",
              "      fill: #FFFFFF;\n",
              "    }\n",
              "  </style>\n",
              "\n",
              "    <script>\n",
              "      const buttonEl =\n",
              "        document.querySelector('#df-fc15fa62-43ca-4f73-bb4e-3d897f297e25 button.colab-df-convert');\n",
              "      buttonEl.style.display =\n",
              "        google.colab.kernel.accessAllowed ? 'block' : 'none';\n",
              "\n",
              "      async function convertToInteractive(key) {\n",
              "        const element = document.querySelector('#df-fc15fa62-43ca-4f73-bb4e-3d897f297e25');\n",
              "        const dataTable =\n",
              "          await google.colab.kernel.invokeFunction('convertToInteractive',\n",
              "                                                    [key], {});\n",
              "        if (!dataTable) return;\n",
              "\n",
              "        const docLinkHtml = 'Like what you see? Visit the ' +\n",
              "          '<a target=\"_blank\" href=https://colab.research.google.com/notebooks/data_table.ipynb>data table notebook</a>'\n",
              "          + ' to learn more about interactive tables.';\n",
              "        element.innerHTML = '';\n",
              "        dataTable['output_type'] = 'display_data';\n",
              "        await google.colab.output.renderOutput(dataTable, element);\n",
              "        const docLink = document.createElement('div');\n",
              "        docLink.innerHTML = docLinkHtml;\n",
              "        element.appendChild(docLink);\n",
              "      }\n",
              "    </script>\n",
              "  </div>\n",
              "\n",
              "\n",
              "<div id=\"df-6ad5b363-9279-41f4-a631-9ecde05b2c9c\">\n",
              "  <button class=\"colab-df-quickchart\" onclick=\"quickchart('df-6ad5b363-9279-41f4-a631-9ecde05b2c9c')\"\n",
              "            title=\"Suggest charts\"\n",
              "            style=\"display:none;\">\n",
              "\n",
              "<svg xmlns=\"http://www.w3.org/2000/svg\" height=\"24px\"viewBox=\"0 0 24 24\"\n",
              "     width=\"24px\">\n",
              "    <g>\n",
              "        <path d=\"M19 3H5c-1.1 0-2 .9-2 2v14c0 1.1.9 2 2 2h14c1.1 0 2-.9 2-2V5c0-1.1-.9-2-2-2zM9 17H7v-7h2v7zm4 0h-2V7h2v10zm4 0h-2v-4h2v4z\"/>\n",
              "    </g>\n",
              "</svg>\n",
              "  </button>\n",
              "\n",
              "<style>\n",
              "  .colab-df-quickchart {\n",
              "      --bg-color: #E8F0FE;\n",
              "      --fill-color: #1967D2;\n",
              "      --hover-bg-color: #E2EBFA;\n",
              "      --hover-fill-color: #174EA6;\n",
              "      --disabled-fill-color: #AAA;\n",
              "      --disabled-bg-color: #DDD;\n",
              "  }\n",
              "\n",
              "  [theme=dark] .colab-df-quickchart {\n",
              "      --bg-color: #3B4455;\n",
              "      --fill-color: #D2E3FC;\n",
              "      --hover-bg-color: #434B5C;\n",
              "      --hover-fill-color: #FFFFFF;\n",
              "      --disabled-bg-color: #3B4455;\n",
              "      --disabled-fill-color: #666;\n",
              "  }\n",
              "\n",
              "  .colab-df-quickchart {\n",
              "    background-color: var(--bg-color);\n",
              "    border: none;\n",
              "    border-radius: 50%;\n",
              "    cursor: pointer;\n",
              "    display: none;\n",
              "    fill: var(--fill-color);\n",
              "    height: 32px;\n",
              "    padding: 0;\n",
              "    width: 32px;\n",
              "  }\n",
              "\n",
              "  .colab-df-quickchart:hover {\n",
              "    background-color: var(--hover-bg-color);\n",
              "    box-shadow: 0 1px 2px rgba(60, 64, 67, 0.3), 0 1px 3px 1px rgba(60, 64, 67, 0.15);\n",
              "    fill: var(--button-hover-fill-color);\n",
              "  }\n",
              "\n",
              "  .colab-df-quickchart-complete:disabled,\n",
              "  .colab-df-quickchart-complete:disabled:hover {\n",
              "    background-color: var(--disabled-bg-color);\n",
              "    fill: var(--disabled-fill-color);\n",
              "    box-shadow: none;\n",
              "  }\n",
              "\n",
              "  .colab-df-spinner {\n",
              "    border: 2px solid var(--fill-color);\n",
              "    border-color: transparent;\n",
              "    border-bottom-color: var(--fill-color);\n",
              "    animation:\n",
              "      spin 1s steps(1) infinite;\n",
              "  }\n",
              "\n",
              "  @keyframes spin {\n",
              "    0% {\n",
              "      border-color: transparent;\n",
              "      border-bottom-color: var(--fill-color);\n",
              "      border-left-color: var(--fill-color);\n",
              "    }\n",
              "    20% {\n",
              "      border-color: transparent;\n",
              "      border-left-color: var(--fill-color);\n",
              "      border-top-color: var(--fill-color);\n",
              "    }\n",
              "    30% {\n",
              "      border-color: transparent;\n",
              "      border-left-color: var(--fill-color);\n",
              "      border-top-color: var(--fill-color);\n",
              "      border-right-color: var(--fill-color);\n",
              "    }\n",
              "    40% {\n",
              "      border-color: transparent;\n",
              "      border-right-color: var(--fill-color);\n",
              "      border-top-color: var(--fill-color);\n",
              "    }\n",
              "    60% {\n",
              "      border-color: transparent;\n",
              "      border-right-color: var(--fill-color);\n",
              "    }\n",
              "    80% {\n",
              "      border-color: transparent;\n",
              "      border-right-color: var(--fill-color);\n",
              "      border-bottom-color: var(--fill-color);\n",
              "    }\n",
              "    90% {\n",
              "      border-color: transparent;\n",
              "      border-bottom-color: var(--fill-color);\n",
              "    }\n",
              "  }\n",
              "</style>\n",
              "\n",
              "  <script>\n",
              "    async function quickchart(key) {\n",
              "      const quickchartButtonEl =\n",
              "        document.querySelector('#' + key + ' button');\n",
              "      quickchartButtonEl.disabled = true;  // To prevent multiple clicks.\n",
              "      quickchartButtonEl.classList.add('colab-df-spinner');\n",
              "      try {\n",
              "        const charts = await google.colab.kernel.invokeFunction(\n",
              "            'suggestCharts', [key], {});\n",
              "      } catch (error) {\n",
              "        console.error('Error during call to suggestCharts:', error);\n",
              "      }\n",
              "      quickchartButtonEl.classList.remove('colab-df-spinner');\n",
              "      quickchartButtonEl.classList.add('colab-df-quickchart-complete');\n",
              "    }\n",
              "    (() => {\n",
              "      let quickchartButtonEl =\n",
              "        document.querySelector('#df-6ad5b363-9279-41f4-a631-9ecde05b2c9c button');\n",
              "      quickchartButtonEl.style.display =\n",
              "        google.colab.kernel.accessAllowed ? 'block' : 'none';\n",
              "    })();\n",
              "  </script>\n",
              "</div>\n",
              "\n",
              "    </div>\n",
              "  </div>\n"
            ],
            "application/vnd.google.colaboratory.intrinsic+json": {
              "type": "dataframe",
              "summary": "{\n  \"name\": \"df_raw\",\n  \"rows\": 8,\n  \"fields\": [\n    {\n      \"column\": \"quick_sort\",\n      \"properties\": {\n        \"dtype\": \"number\",\n        \"std\": 3.5351006626519283,\n        \"min\": 0.00027271938265792666,\n        \"max\": 10.0,\n        \"num_unique_values\": 8,\n        \"samples\": [\n          0.0013312282000242704,\n          0.0012417805000382032,\n          10.0\n        ],\n        \"semantic_type\": \"\",\n        \"description\": \"\"\n      }\n    },\n    {\n      \"column\": \"bubble_sort\",\n      \"properties\": {\n        \"dtype\": \"number\",\n        \"std\": 3.527239969113928,\n        \"min\": 0.0090520225428341,\n        \"max\": 10.0,\n        \"num_unique_values\": 8,\n        \"samples\": [\n          0.02534342359999755,\n          0.021077862500021638,\n          10.0\n        ],\n        \"semantic_type\": \"\",\n        \"description\": \"\"\n      }\n    }\n  ]\n}"
            }
          },
          "metadata": {},
          "execution_count": 46
        }
      ]
    },
    {
      "cell_type": "code",
      "source": [
        "type(df_aggregate)"
      ],
      "metadata": {
        "id": "vIHBCOwmnTZN",
        "colab": {
          "base_uri": "https://localhost:8080/",
          "height": 204
        },
        "outputId": "93840f6e-30f9-49e4-dbad-4e374fc849bb"
      },
      "execution_count": 47,
      "outputs": [
        {
          "output_type": "execute_result",
          "data": {
            "text/plain": [
              "pandas.core.frame.DataFrame"
            ],
            "text/html": [
              "<div style=\"max-width:800px; border: 1px solid var(--colab-border-color);\"><style>\n",
              "      pre.function-repr-contents {\n",
              "        overflow-x: auto;\n",
              "        padding: 8px 12px;\n",
              "        max-height: 500px;\n",
              "      }\n",
              "\n",
              "      pre.function-repr-contents.function-repr-contents-collapsed {\n",
              "        cursor: pointer;\n",
              "        max-height: 100px;\n",
              "      }\n",
              "    </style>\n",
              "    <pre style=\"white-space: initial; background:\n",
              "         var(--colab-secondary-surface-color); padding: 8px 12px;\n",
              "         border-bottom: 1px solid var(--colab-border-color);\"><b>pandas.core.frame.DataFrame</b><br/>def __init__(data=None, index: Axes | None=None, columns: Axes | None=None, dtype: Dtype | None=None, copy: bool | None=None) -&gt; None</pre><pre class=\"function-repr-contents function-repr-contents-collapsed\" style=\"\"><a class=\"filepath\" style=\"display:none\" href=\"#\">/usr/local/lib/python3.10/dist-packages/pandas/core/frame.py</a>Two-dimensional, size-mutable, potentially heterogeneous tabular data.\n",
              "\n",
              "Data structure also contains labeled axes (rows and columns).\n",
              "Arithmetic operations align on both row and column labels. Can be\n",
              "thought of as a dict-like container for Series objects. The primary\n",
              "pandas data structure.\n",
              "\n",
              "Parameters\n",
              "----------\n",
              "data : ndarray (structured or homogeneous), Iterable, dict, or DataFrame\n",
              "    Dict can contain Series, arrays, constants, dataclass or list-like objects. If\n",
              "    data is a dict, column order follows insertion-order. If a dict contains Series\n",
              "    which have an index defined, it is aligned by its index. This alignment also\n",
              "    occurs if data is a Series or a DataFrame itself. Alignment is done on\n",
              "    Series/DataFrame inputs.\n",
              "\n",
              "    If data is a list of dicts, column order follows insertion-order.\n",
              "\n",
              "index : Index or array-like\n",
              "    Index to use for resulting frame. Will default to RangeIndex if\n",
              "    no indexing information part of input data and no index provided.\n",
              "columns : Index or array-like\n",
              "    Column labels to use for resulting frame when data does not have them,\n",
              "    defaulting to RangeIndex(0, 1, 2, ..., n). If data contains column labels,\n",
              "    will perform column selection instead.\n",
              "dtype : dtype, default None\n",
              "    Data type to force. Only a single dtype is allowed. If None, infer.\n",
              "copy : bool or None, default None\n",
              "    Copy data from inputs.\n",
              "    For dict data, the default of None behaves like ``copy=True``.  For DataFrame\n",
              "    or 2d ndarray input, the default of None behaves like ``copy=False``.\n",
              "    If data is a dict containing one or more Series (possibly of different dtypes),\n",
              "    ``copy=False`` will ensure that these inputs are not copied.\n",
              "\n",
              "    .. versionchanged:: 1.3.0\n",
              "\n",
              "See Also\n",
              "--------\n",
              "DataFrame.from_records : Constructor from tuples, also record arrays.\n",
              "DataFrame.from_dict : From dicts of Series, arrays, or dicts.\n",
              "read_csv : Read a comma-separated values (csv) file into DataFrame.\n",
              "read_table : Read general delimited file into DataFrame.\n",
              "read_clipboard : Read text from clipboard into DataFrame.\n",
              "\n",
              "Notes\n",
              "-----\n",
              "Please reference the :ref:`User Guide &lt;basics.dataframe&gt;` for more information.\n",
              "\n",
              "Examples\n",
              "--------\n",
              "Constructing DataFrame from a dictionary.\n",
              "\n",
              "&gt;&gt;&gt; d = {&#x27;col1&#x27;: [1, 2], &#x27;col2&#x27;: [3, 4]}\n",
              "&gt;&gt;&gt; df = pd.DataFrame(data=d)\n",
              "&gt;&gt;&gt; df\n",
              "   col1  col2\n",
              "0     1     3\n",
              "1     2     4\n",
              "\n",
              "Notice that the inferred dtype is int64.\n",
              "\n",
              "&gt;&gt;&gt; df.dtypes\n",
              "col1    int64\n",
              "col2    int64\n",
              "dtype: object\n",
              "\n",
              "To enforce a single dtype:\n",
              "\n",
              "&gt;&gt;&gt; df = pd.DataFrame(data=d, dtype=np.int8)\n",
              "&gt;&gt;&gt; df.dtypes\n",
              "col1    int8\n",
              "col2    int8\n",
              "dtype: object\n",
              "\n",
              "Constructing DataFrame from a dictionary including Series:\n",
              "\n",
              "&gt;&gt;&gt; d = {&#x27;col1&#x27;: [0, 1, 2, 3], &#x27;col2&#x27;: pd.Series([2, 3], index=[2, 3])}\n",
              "&gt;&gt;&gt; pd.DataFrame(data=d, index=[0, 1, 2, 3])\n",
              "   col1  col2\n",
              "0     0   NaN\n",
              "1     1   NaN\n",
              "2     2   2.0\n",
              "3     3   3.0\n",
              "\n",
              "Constructing DataFrame from numpy ndarray:\n",
              "\n",
              "&gt;&gt;&gt; df2 = pd.DataFrame(np.array([[1, 2, 3], [4, 5, 6], [7, 8, 9]]),\n",
              "...                    columns=[&#x27;a&#x27;, &#x27;b&#x27;, &#x27;c&#x27;])\n",
              "&gt;&gt;&gt; df2\n",
              "   a  b  c\n",
              "0  1  2  3\n",
              "1  4  5  6\n",
              "2  7  8  9\n",
              "\n",
              "Constructing DataFrame from a numpy ndarray that has labeled columns:\n",
              "\n",
              "&gt;&gt;&gt; data = np.array([(1, 2, 3), (4, 5, 6), (7, 8, 9)],\n",
              "...                 dtype=[(&quot;a&quot;, &quot;i4&quot;), (&quot;b&quot;, &quot;i4&quot;), (&quot;c&quot;, &quot;i4&quot;)])\n",
              "&gt;&gt;&gt; df3 = pd.DataFrame(data, columns=[&#x27;c&#x27;, &#x27;a&#x27;])\n",
              "...\n",
              "&gt;&gt;&gt; df3\n",
              "   c  a\n",
              "0  3  1\n",
              "1  6  4\n",
              "2  9  7\n",
              "\n",
              "Constructing DataFrame from dataclass:\n",
              "\n",
              "&gt;&gt;&gt; from dataclasses import make_dataclass\n",
              "&gt;&gt;&gt; Point = make_dataclass(&quot;Point&quot;, [(&quot;x&quot;, int), (&quot;y&quot;, int)])\n",
              "&gt;&gt;&gt; pd.DataFrame([Point(0, 0), Point(0, 3), Point(2, 3)])\n",
              "   x  y\n",
              "0  0  0\n",
              "1  0  3\n",
              "2  2  3\n",
              "\n",
              "Constructing DataFrame from Series/DataFrame:\n",
              "\n",
              "&gt;&gt;&gt; ser = pd.Series([1, 2, 3], index=[&quot;a&quot;, &quot;b&quot;, &quot;c&quot;])\n",
              "&gt;&gt;&gt; df = pd.DataFrame(data=ser, index=[&quot;a&quot;, &quot;c&quot;])\n",
              "&gt;&gt;&gt; df\n",
              "   0\n",
              "a  1\n",
              "c  3\n",
              "\n",
              "&gt;&gt;&gt; df1 = pd.DataFrame([1, 2, 3], index=[&quot;a&quot;, &quot;b&quot;, &quot;c&quot;], columns=[&quot;x&quot;])\n",
              "&gt;&gt;&gt; df2 = pd.DataFrame(data=df1, index=[&quot;a&quot;, &quot;c&quot;])\n",
              "&gt;&gt;&gt; df2\n",
              "   x\n",
              "a  1\n",
              "c  3</pre>\n",
              "      <script>\n",
              "      if (google.colab.kernel.accessAllowed && google.colab.files && google.colab.files.view) {\n",
              "        for (const element of document.querySelectorAll('.filepath')) {\n",
              "          element.style.display = 'block'\n",
              "          element.onclick = (event) => {\n",
              "            event.preventDefault();\n",
              "            event.stopPropagation();\n",
              "            google.colab.files.view(element.textContent, 509);\n",
              "          };\n",
              "        }\n",
              "      }\n",
              "      for (const element of document.querySelectorAll('.function-repr-contents')) {\n",
              "        element.onclick = (event) => {\n",
              "          event.preventDefault();\n",
              "          event.stopPropagation();\n",
              "          element.classList.toggle('function-repr-contents-collapsed');\n",
              "        };\n",
              "      }\n",
              "      </script>\n",
              "      </div>"
            ]
          },
          "metadata": {},
          "execution_count": 47
        }
      ]
    },
    {
      "cell_type": "code",
      "source": [
        "help(df_aggregate)"
      ],
      "metadata": {
        "id": "22aEKUYFnWOm"
      },
      "execution_count": null,
      "outputs": []
    },
    {
      "cell_type": "code",
      "source": [
        "# Cek olahan hasil simulasi\n",
        "df_aggregate"
      ],
      "metadata": {
        "id": "aBTqT57RdgA9",
        "colab": {
          "base_uri": "https://localhost:8080/",
          "height": 455
        },
        "outputId": "e2338caa-17b7-4fbb-8b89-27a3ceb20463"
      },
      "execution_count": 49,
      "outputs": [
        {
          "output_type": "execute_result",
          "data": {
            "text/plain": [
              "     quick_sort  bubble_sort\n",
              "N                           \n",
              "1      0.000006     0.000006\n",
              "2      0.000009     0.000005\n",
              "3      0.000011     0.000005\n",
              "4      0.000009     0.000006\n",
              "5      0.000012     0.000006\n",
              "..          ...          ...\n",
              "496    0.001400     0.024160\n",
              "497    0.001397     0.025523\n",
              "498    0.001456     0.025758\n",
              "499    0.001445     0.024941\n",
              "500    0.001331     0.025343\n",
              "\n",
              "[500 rows x 2 columns]"
            ],
            "text/html": [
              "\n",
              "  <div id=\"df-1c501002-cc7f-4d2f-8a14-86dad3ca03db\" class=\"colab-df-container\">\n",
              "    <div>\n",
              "<style scoped>\n",
              "    .dataframe tbody tr th:only-of-type {\n",
              "        vertical-align: middle;\n",
              "    }\n",
              "\n",
              "    .dataframe tbody tr th {\n",
              "        vertical-align: top;\n",
              "    }\n",
              "\n",
              "    .dataframe thead th {\n",
              "        text-align: right;\n",
              "    }\n",
              "</style>\n",
              "<table border=\"1\" class=\"dataframe\">\n",
              "  <thead>\n",
              "    <tr style=\"text-align: right;\">\n",
              "      <th></th>\n",
              "      <th>quick_sort</th>\n",
              "      <th>bubble_sort</th>\n",
              "    </tr>\n",
              "    <tr>\n",
              "      <th>N</th>\n",
              "      <th></th>\n",
              "      <th></th>\n",
              "    </tr>\n",
              "  </thead>\n",
              "  <tbody>\n",
              "    <tr>\n",
              "      <th>1</th>\n",
              "      <td>0.000006</td>\n",
              "      <td>0.000006</td>\n",
              "    </tr>\n",
              "    <tr>\n",
              "      <th>2</th>\n",
              "      <td>0.000009</td>\n",
              "      <td>0.000005</td>\n",
              "    </tr>\n",
              "    <tr>\n",
              "      <th>3</th>\n",
              "      <td>0.000011</td>\n",
              "      <td>0.000005</td>\n",
              "    </tr>\n",
              "    <tr>\n",
              "      <th>4</th>\n",
              "      <td>0.000009</td>\n",
              "      <td>0.000006</td>\n",
              "    </tr>\n",
              "    <tr>\n",
              "      <th>5</th>\n",
              "      <td>0.000012</td>\n",
              "      <td>0.000006</td>\n",
              "    </tr>\n",
              "    <tr>\n",
              "      <th>...</th>\n",
              "      <td>...</td>\n",
              "      <td>...</td>\n",
              "    </tr>\n",
              "    <tr>\n",
              "      <th>496</th>\n",
              "      <td>0.001400</td>\n",
              "      <td>0.024160</td>\n",
              "    </tr>\n",
              "    <tr>\n",
              "      <th>497</th>\n",
              "      <td>0.001397</td>\n",
              "      <td>0.025523</td>\n",
              "    </tr>\n",
              "    <tr>\n",
              "      <th>498</th>\n",
              "      <td>0.001456</td>\n",
              "      <td>0.025758</td>\n",
              "    </tr>\n",
              "    <tr>\n",
              "      <th>499</th>\n",
              "      <td>0.001445</td>\n",
              "      <td>0.024941</td>\n",
              "    </tr>\n",
              "    <tr>\n",
              "      <th>500</th>\n",
              "      <td>0.001331</td>\n",
              "      <td>0.025343</td>\n",
              "    </tr>\n",
              "  </tbody>\n",
              "</table>\n",
              "<p>500 rows × 2 columns</p>\n",
              "</div>\n",
              "    <div class=\"colab-df-buttons\">\n",
              "\n",
              "  <div class=\"colab-df-container\">\n",
              "    <button class=\"colab-df-convert\" onclick=\"convertToInteractive('df-1c501002-cc7f-4d2f-8a14-86dad3ca03db')\"\n",
              "            title=\"Convert this dataframe to an interactive table.\"\n",
              "            style=\"display:none;\">\n",
              "\n",
              "  <svg xmlns=\"http://www.w3.org/2000/svg\" height=\"24px\" viewBox=\"0 -960 960 960\">\n",
              "    <path d=\"M120-120v-720h720v720H120Zm60-500h600v-160H180v160Zm220 220h160v-160H400v160Zm0 220h160v-160H400v160ZM180-400h160v-160H180v160Zm440 0h160v-160H620v160ZM180-180h160v-160H180v160Zm440 0h160v-160H620v160Z\"/>\n",
              "  </svg>\n",
              "    </button>\n",
              "\n",
              "  <style>\n",
              "    .colab-df-container {\n",
              "      display:flex;\n",
              "      gap: 12px;\n",
              "    }\n",
              "\n",
              "    .colab-df-convert {\n",
              "      background-color: #E8F0FE;\n",
              "      border: none;\n",
              "      border-radius: 50%;\n",
              "      cursor: pointer;\n",
              "      display: none;\n",
              "      fill: #1967D2;\n",
              "      height: 32px;\n",
              "      padding: 0 0 0 0;\n",
              "      width: 32px;\n",
              "    }\n",
              "\n",
              "    .colab-df-convert:hover {\n",
              "      background-color: #E2EBFA;\n",
              "      box-shadow: 0px 1px 2px rgba(60, 64, 67, 0.3), 0px 1px 3px 1px rgba(60, 64, 67, 0.15);\n",
              "      fill: #174EA6;\n",
              "    }\n",
              "\n",
              "    .colab-df-buttons div {\n",
              "      margin-bottom: 4px;\n",
              "    }\n",
              "\n",
              "    [theme=dark] .colab-df-convert {\n",
              "      background-color: #3B4455;\n",
              "      fill: #D2E3FC;\n",
              "    }\n",
              "\n",
              "    [theme=dark] .colab-df-convert:hover {\n",
              "      background-color: #434B5C;\n",
              "      box-shadow: 0px 1px 3px 1px rgba(0, 0, 0, 0.15);\n",
              "      filter: drop-shadow(0px 1px 2px rgba(0, 0, 0, 0.3));\n",
              "      fill: #FFFFFF;\n",
              "    }\n",
              "  </style>\n",
              "\n",
              "    <script>\n",
              "      const buttonEl =\n",
              "        document.querySelector('#df-1c501002-cc7f-4d2f-8a14-86dad3ca03db button.colab-df-convert');\n",
              "      buttonEl.style.display =\n",
              "        google.colab.kernel.accessAllowed ? 'block' : 'none';\n",
              "\n",
              "      async function convertToInteractive(key) {\n",
              "        const element = document.querySelector('#df-1c501002-cc7f-4d2f-8a14-86dad3ca03db');\n",
              "        const dataTable =\n",
              "          await google.colab.kernel.invokeFunction('convertToInteractive',\n",
              "                                                    [key], {});\n",
              "        if (!dataTable) return;\n",
              "\n",
              "        const docLinkHtml = 'Like what you see? Visit the ' +\n",
              "          '<a target=\"_blank\" href=https://colab.research.google.com/notebooks/data_table.ipynb>data table notebook</a>'\n",
              "          + ' to learn more about interactive tables.';\n",
              "        element.innerHTML = '';\n",
              "        dataTable['output_type'] = 'display_data';\n",
              "        await google.colab.output.renderOutput(dataTable, element);\n",
              "        const docLink = document.createElement('div');\n",
              "        docLink.innerHTML = docLinkHtml;\n",
              "        element.appendChild(docLink);\n",
              "      }\n",
              "    </script>\n",
              "  </div>\n",
              "\n",
              "\n",
              "<div id=\"df-fe2a3248-43f8-4ae2-bff2-44d545523130\">\n",
              "  <button class=\"colab-df-quickchart\" onclick=\"quickchart('df-fe2a3248-43f8-4ae2-bff2-44d545523130')\"\n",
              "            title=\"Suggest charts\"\n",
              "            style=\"display:none;\">\n",
              "\n",
              "<svg xmlns=\"http://www.w3.org/2000/svg\" height=\"24px\"viewBox=\"0 0 24 24\"\n",
              "     width=\"24px\">\n",
              "    <g>\n",
              "        <path d=\"M19 3H5c-1.1 0-2 .9-2 2v14c0 1.1.9 2 2 2h14c1.1 0 2-.9 2-2V5c0-1.1-.9-2-2-2zM9 17H7v-7h2v7zm4 0h-2V7h2v10zm4 0h-2v-4h2v4z\"/>\n",
              "    </g>\n",
              "</svg>\n",
              "  </button>\n",
              "\n",
              "<style>\n",
              "  .colab-df-quickchart {\n",
              "      --bg-color: #E8F0FE;\n",
              "      --fill-color: #1967D2;\n",
              "      --hover-bg-color: #E2EBFA;\n",
              "      --hover-fill-color: #174EA6;\n",
              "      --disabled-fill-color: #AAA;\n",
              "      --disabled-bg-color: #DDD;\n",
              "  }\n",
              "\n",
              "  [theme=dark] .colab-df-quickchart {\n",
              "      --bg-color: #3B4455;\n",
              "      --fill-color: #D2E3FC;\n",
              "      --hover-bg-color: #434B5C;\n",
              "      --hover-fill-color: #FFFFFF;\n",
              "      --disabled-bg-color: #3B4455;\n",
              "      --disabled-fill-color: #666;\n",
              "  }\n",
              "\n",
              "  .colab-df-quickchart {\n",
              "    background-color: var(--bg-color);\n",
              "    border: none;\n",
              "    border-radius: 50%;\n",
              "    cursor: pointer;\n",
              "    display: none;\n",
              "    fill: var(--fill-color);\n",
              "    height: 32px;\n",
              "    padding: 0;\n",
              "    width: 32px;\n",
              "  }\n",
              "\n",
              "  .colab-df-quickchart:hover {\n",
              "    background-color: var(--hover-bg-color);\n",
              "    box-shadow: 0 1px 2px rgba(60, 64, 67, 0.3), 0 1px 3px 1px rgba(60, 64, 67, 0.15);\n",
              "    fill: var(--button-hover-fill-color);\n",
              "  }\n",
              "\n",
              "  .colab-df-quickchart-complete:disabled,\n",
              "  .colab-df-quickchart-complete:disabled:hover {\n",
              "    background-color: var(--disabled-bg-color);\n",
              "    fill: var(--disabled-fill-color);\n",
              "    box-shadow: none;\n",
              "  }\n",
              "\n",
              "  .colab-df-spinner {\n",
              "    border: 2px solid var(--fill-color);\n",
              "    border-color: transparent;\n",
              "    border-bottom-color: var(--fill-color);\n",
              "    animation:\n",
              "      spin 1s steps(1) infinite;\n",
              "  }\n",
              "\n",
              "  @keyframes spin {\n",
              "    0% {\n",
              "      border-color: transparent;\n",
              "      border-bottom-color: var(--fill-color);\n",
              "      border-left-color: var(--fill-color);\n",
              "    }\n",
              "    20% {\n",
              "      border-color: transparent;\n",
              "      border-left-color: var(--fill-color);\n",
              "      border-top-color: var(--fill-color);\n",
              "    }\n",
              "    30% {\n",
              "      border-color: transparent;\n",
              "      border-left-color: var(--fill-color);\n",
              "      border-top-color: var(--fill-color);\n",
              "      border-right-color: var(--fill-color);\n",
              "    }\n",
              "    40% {\n",
              "      border-color: transparent;\n",
              "      border-right-color: var(--fill-color);\n",
              "      border-top-color: var(--fill-color);\n",
              "    }\n",
              "    60% {\n",
              "      border-color: transparent;\n",
              "      border-right-color: var(--fill-color);\n",
              "    }\n",
              "    80% {\n",
              "      border-color: transparent;\n",
              "      border-right-color: var(--fill-color);\n",
              "      border-bottom-color: var(--fill-color);\n",
              "    }\n",
              "    90% {\n",
              "      border-color: transparent;\n",
              "      border-bottom-color: var(--fill-color);\n",
              "    }\n",
              "  }\n",
              "</style>\n",
              "\n",
              "  <script>\n",
              "    async function quickchart(key) {\n",
              "      const quickchartButtonEl =\n",
              "        document.querySelector('#' + key + ' button');\n",
              "      quickchartButtonEl.disabled = true;  // To prevent multiple clicks.\n",
              "      quickchartButtonEl.classList.add('colab-df-spinner');\n",
              "      try {\n",
              "        const charts = await google.colab.kernel.invokeFunction(\n",
              "            'suggestCharts', [key], {});\n",
              "      } catch (error) {\n",
              "        console.error('Error during call to suggestCharts:', error);\n",
              "      }\n",
              "      quickchartButtonEl.classList.remove('colab-df-spinner');\n",
              "      quickchartButtonEl.classList.add('colab-df-quickchart-complete');\n",
              "    }\n",
              "    (() => {\n",
              "      let quickchartButtonEl =\n",
              "        document.querySelector('#df-fe2a3248-43f8-4ae2-bff2-44d545523130 button');\n",
              "      quickchartButtonEl.style.display =\n",
              "        google.colab.kernel.accessAllowed ? 'block' : 'none';\n",
              "    })();\n",
              "  </script>\n",
              "</div>\n",
              "\n",
              "  <div id=\"id_62a041c3-ac54-4317-bf7e-e48ae1a8f652\">\n",
              "    <style>\n",
              "      .colab-df-generate {\n",
              "        background-color: #E8F0FE;\n",
              "        border: none;\n",
              "        border-radius: 50%;\n",
              "        cursor: pointer;\n",
              "        display: none;\n",
              "        fill: #1967D2;\n",
              "        height: 32px;\n",
              "        padding: 0 0 0 0;\n",
              "        width: 32px;\n",
              "      }\n",
              "\n",
              "      .colab-df-generate:hover {\n",
              "        background-color: #E2EBFA;\n",
              "        box-shadow: 0px 1px 2px rgba(60, 64, 67, 0.3), 0px 1px 3px 1px rgba(60, 64, 67, 0.15);\n",
              "        fill: #174EA6;\n",
              "      }\n",
              "\n",
              "      [theme=dark] .colab-df-generate {\n",
              "        background-color: #3B4455;\n",
              "        fill: #D2E3FC;\n",
              "      }\n",
              "\n",
              "      [theme=dark] .colab-df-generate:hover {\n",
              "        background-color: #434B5C;\n",
              "        box-shadow: 0px 1px 3px 1px rgba(0, 0, 0, 0.15);\n",
              "        filter: drop-shadow(0px 1px 2px rgba(0, 0, 0, 0.3));\n",
              "        fill: #FFFFFF;\n",
              "      }\n",
              "    </style>\n",
              "    <button class=\"colab-df-generate\" onclick=\"generateWithVariable('df_aggregate')\"\n",
              "            title=\"Generate code using this dataframe.\"\n",
              "            style=\"display:none;\">\n",
              "\n",
              "  <svg xmlns=\"http://www.w3.org/2000/svg\" height=\"24px\"viewBox=\"0 0 24 24\"\n",
              "       width=\"24px\">\n",
              "    <path d=\"M7,19H8.4L18.45,9,17,7.55,7,17.6ZM5,21V16.75L18.45,3.32a2,2,0,0,1,2.83,0l1.4,1.43a1.91,1.91,0,0,1,.58,1.4,1.91,1.91,0,0,1-.58,1.4L9.25,21ZM18.45,9,17,7.55Zm-12,3A5.31,5.31,0,0,0,4.9,8.1,5.31,5.31,0,0,0,1,6.5,5.31,5.31,0,0,0,4.9,4.9,5.31,5.31,0,0,0,6.5,1,5.31,5.31,0,0,0,8.1,4.9,5.31,5.31,0,0,0,12,6.5,5.46,5.46,0,0,0,6.5,12Z\"/>\n",
              "  </svg>\n",
              "    </button>\n",
              "    <script>\n",
              "      (() => {\n",
              "      const buttonEl =\n",
              "        document.querySelector('#id_62a041c3-ac54-4317-bf7e-e48ae1a8f652 button.colab-df-generate');\n",
              "      buttonEl.style.display =\n",
              "        google.colab.kernel.accessAllowed ? 'block' : 'none';\n",
              "\n",
              "      buttonEl.onclick = () => {\n",
              "        google.colab.notebook.generateWithVariable('df_aggregate');\n",
              "      }\n",
              "      })();\n",
              "    </script>\n",
              "  </div>\n",
              "\n",
              "    </div>\n",
              "  </div>\n"
            ],
            "application/vnd.google.colaboratory.intrinsic+json": {
              "type": "dataframe",
              "variable_name": "df_aggregate",
              "summary": "{\n  \"name\": \"df_aggregate\",\n  \"rows\": 500,\n  \"fields\": [\n    {\n      \"column\": \"N\",\n      \"properties\": {\n        \"dtype\": \"number\",\n        \"std\": 144,\n        \"min\": 1,\n        \"max\": 500,\n        \"num_unique_values\": 500,\n        \"samples\": [\n          362,\n          74,\n          375\n        ],\n        \"semantic_type\": \"\",\n        \"description\": \"\"\n      }\n    },\n    {\n      \"column\": \"quick_sort\",\n      \"properties\": {\n        \"dtype\": \"number\",\n        \"std\": 0.000403541416748103,\n        \"min\": 5.966200001239486e-06,\n        \"max\": 0.001504927900009534,\n        \"num_unique_values\": 500,\n        \"samples\": [\n          0.0008321212999931049,\n          0.00015376600001673068,\n          0.0009560665999629236\n        ],\n        \"semantic_type\": \"\",\n        \"description\": \"\"\n      }\n    },\n    {\n      \"column\": \"bubble_sort\",\n      \"properties\": {\n        \"dtype\": \"number\",\n        \"std\": 0.007157893791446027,\n        \"min\": 4.784200029916974e-06,\n        \"max\": 0.0257584659000031,\n        \"num_unique_values\": 500,\n        \"samples\": [\n          0.010305529699996896,\n          0.0005214821999970809,\n          0.012396739899963904\n        ],\n        \"semantic_type\": \"\",\n        \"description\": \"\"\n      }\n    }\n  ]\n}"
            }
          },
          "metadata": {},
          "execution_count": 49
        }
      ]
    },
    {
      "cell_type": "code",
      "source": [
        "from google.colab import drive\n",
        "drive.mount('/content/drive')"
      ],
      "metadata": {
        "id": "kCAZGki5MgWS",
        "colab": {
          "base_uri": "https://localhost:8080/"
        },
        "outputId": "412caa63-676a-4a10-8459-38c52d5c96bc"
      },
      "execution_count": 51,
      "outputs": [
        {
          "output_type": "stream",
          "name": "stdout",
          "text": [
            "Mounted at /content/drive\n"
          ]
        }
      ]
    },
    {
      "cell_type": "markdown",
      "metadata": {
        "id": "zXIIoA8i5HZe"
      },
      "source": [
        "---"
      ]
    }
  ],
  "metadata": {
    "colab": {
      "provenance": []
    },
    "kernelspec": {
      "display_name": "Python 3",
      "name": "python3"
    },
    "language_info": {
      "name": "python"
    }
  },
  "nbformat": 4,
  "nbformat_minor": 0
}